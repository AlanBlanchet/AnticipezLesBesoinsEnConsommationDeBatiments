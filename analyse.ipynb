{
    "cells": [
        {
            "attachments": {},
            "cell_type": "markdown",
            "metadata": {},
            "source": [
                "# Objectif\n",
                "\n",
                "- Prédire les émissions de CO2 (TotalGHGEmissions)\n",
                "- Prédire la consommation totale d'énérgie (SiteEnergyUseWN(kBtu) ou SiteEnergyUse(kBtu))\n",
                "- Prendre en compte uniquement les bâtiments non destinés à l'habitation\n",
                "- Evaluer l'intérêt de la feature \"ENERGYSTARScore\" car fastidieux à calculer\n",
                "\n",
                "L'énoncé nous précise que ces données sont compliquées à obtenir d'où l'intérêt de créer un modèle d'IA pouvant prédire les données futurs à partir d'un échantillon de 2016\n",
                "\n",
                "## Targets\n",
                "\n",
                "**Nos targets sont** :\n",
                "\n",
                "- TotalGHGEmissions\n",
                "- SiteEnergyUse(kBtu) ou SiteEnergyUseWN(kBtu)\n",
                "\n",
                "# Exploratory Data Analysis\n",
                "\n",
                "## Nettoyage & Analyse rapide\n",
                "\n",
                "- 3376 lignes, 46 colonnes\n",
                "- 27 valeurs discrètes, 12 valeurs catégorielles\n",
                "\n",
                "## Suppressions\n",
                "\n",
                "- OSEBuildingId ne nous est d'aucune utilité\n",
                "- À travers la colonne \"Outlier\". On utilise cette donnée dès le début car sinon les traitements futurs vont la retirer (\"Outlier\" possède 99% de `NaN`)\n",
                "- On garde les features qui ont assez de données. Une feature avec une majorité de `NaN` ne nous sera d'aucune utilité\n",
                "  - 3 features ont un ratio > 90% de valeurs non définies\n",
                "  - 4 features ont 1 voir 0 types de données\n",
                "- Sélectionner les lignes qui respectent le prérequis des bâtiments non destinées à l'habitation\n",
                "  - Le type de bâtiment (BuildingType)\n",
                "  - La colonne \"PrimaryPropertyType\"\n",
                "- On supprime le peu d'outliers qui n'ont pas été détectés avec la colonne Outlier.\n",
                "- Certaines features doivent être supprimées car elles provoqueront du leakage. C'est justement l'objectif de ne pas utiliser ces variables pour notre prédictions car elles ne seront pas disponible (mesures d'éléctricité, gaz...)\n",
                "\n",
                "Après ce traitement, on se rend compte qu'on a une majorité de valeurs définies pour plein de features. Vu qu'il nous reste 1300 lignes après conservation des données suivant les critères ci-dessus, on voir données manquantes sont représentées en lignes (sur le graphique) et au vu du peu de données manquantes sur les colonnes, on peut tout simplement supprimer ces lignes car trop laborieux de les traiter pour une faible plus-value.\n",
                "\n",
                "**Post traitement** :\n",
                "\n",
                "- 1327 lignes, 40 colonnes\n",
                "- **DefaultData** : pourrait avoir un impacte négatif. En effet, d'après la documentation sur cette variable elle signifie, quand vraie, qu'une colonne a été remplie à partir de valeurs par défaut. Cette valeur aurait pu être importante pour nos prédictions. On pourra l'analyser dans une étape d'optimisation.\n",
                "  - Après traitement, cette valeur ne possède que des valeurs False. Elle n'est donc plus utile au projet\n",
                "- **ComplianceStatus** : Cette colonne n'est plus utile pour le traitement (on s'en ai uniquement servi pour repérer les lignes à éliminer)\n",
                "- Vérification que la différence entre le GFA total et les différents GFA donne bien 0 **OK**\n",
                "\n",
                "### Catégories\n",
                "\n",
                "Il y a beaucoup de données geographiques. On peut garder celles qui nous paraissent les plus pertinentes et voir leur influence sur les résultats.\n",
                "\n",
                "- PropertyName et address possèdent beaucoup trop de valeurs différentes (1323 et 1309 respectivement sur 1327). Les données les plus représentatives sont celles sur les districts. On peut donc retirer cette feature.\n",
                "- TaxParcelIdentificationNumber semble être un identifiant unique (1260 valeurs différentes). On peut retirer cette feature\n",
                "- L'information de \"ListOfAllPropertyUseTypes\" est déjà comprise dans les features Largest/Second/Thirt LargestPropertyUseType\n",
                "\n",
                "## Analyse\n",
                "\n",
                "### Corrélations\n",
                "\n",
                "- Les variables standards et WN/bBtu... sont très corrélées\n",
                "  - Peu d'impacte sur les mêmes données avec des grandeurs différentes (qui possèdent malgré tout des fluctuations aussi petites soient-elles)\n",
                "- SourceEUI et SiteEUI très corrélé\n",
                "- EnergyUse et Electricity très corrélé\n",
                "- La feature \"ENERGYSTARScore\" n'est pas du tout liée aux variables Site/Source EUI ou GHGEmissionIntensity. Elle n'est pas très corrélée aux autres variables.\n",
                "- **BuildingType** possède une majorité de \"NonResidential\" standard (~90%). Il y a d'autres valeurs \"NonResidential\" un peu spéciale qui ne porte donc pas ce nom.\n",
                "\n",
                "- **ENERGYSTARScore**\n",
                "  - Une majorité de valeurs élevées\n",
                "\n",
                "### Target 1 (TotalGHGEmissions)\n",
                "\n",
                "- Beaucoup de valeurs pour le district 2 et 7\n",
                "\n",
                "### Distribution"
            ]
        },
        {
            "attachments": {},
            "cell_type": "markdown",
            "metadata": {},
            "source": [
                "<hr />\n",
                "\n",
                "# Exploratory Data Analysis\n"
            ]
        },
        {
            "cell_type": "code",
            "execution_count": null,
            "metadata": {},
            "outputs": [],
            "source": [
                "import numpy as np\n",
                "import pandas as pd\n",
                "import matplotlib.pyplot as plt\n",
                "import plotly.express as px\n",
                "import plotly.subplots as ps\n",
                "import seaborn as sns\n",
                "import math\n",
                "\n",
                "pd.options.display.max_columns = 50\n",
                "pd.options.display.max_rows = 100\n",
                "np.set_printoptions(linewidth=180)\n",
                "sns.set_style(\"dark\")\n",
                "sns.axes_style(\"darkgrid\")\n",
                "\n",
                "%matplotlib inline\n",
                "\n",
                "# Servira pour la partie analyse\n",
                "target_cols = [\"TotalGHGEmissions\", \"SiteEnergyUse(kBtu)\"]"
            ]
        },
        {
            "cell_type": "code",
            "execution_count": null,
            "metadata": {},
            "outputs": [],
            "source": [
                "data = pd.read_csv(\"2016_Building_Energy_Benchmarking.csv\")\n",
                "df = data.copy()\n",
                "df.head()"
            ]
        },
        {
            "cell_type": "code",
            "execution_count": null,
            "metadata": {},
            "outputs": [],
            "source": [
                "df.shape"
            ]
        },
        {
            "cell_type": "code",
            "execution_count": null,
            "metadata": {},
            "outputs": [],
            "source": [
                "df.describe()"
            ]
        },
        {
            "attachments": {},
            "cell_type": "markdown",
            "metadata": {},
            "source": [
                "Suppression des données qui ne seront pas accessibles lors de l'utilisation du modèle après entrainenement et qui ne sont pas nos targets (éviter le data leakage)\n"
            ]
        },
        {
            "cell_type": "code",
            "execution_count": null,
            "metadata": {},
            "outputs": [],
            "source": [
                "df = df.drop(\n",
                "    columns=[\n",
                "        \"SiteEUI(kBtu/sf)\",\n",
                "        \"SiteEUIWN(kBtu/sf)\",\n",
                "        \"SourceEUI(kBtu/sf)\",\n",
                "        \"SourceEUIWN(kBtu/sf)\",\n",
                "        \"SteamUse(kBtu)\",\n",
                "        \"Electricity(kWh)\",\n",
                "        \"Electricity(kBtu)\",\n",
                "        \"NaturalGas(therms)\",\n",
                "        \"NaturalGas(kBtu)\",\n",
                "        \"SiteEnergyUseWN(kBtu)\",\n",
                "    ]\n",
                ")"
            ]
        },
        {
            "attachments": {},
            "cell_type": "markdown",
            "metadata": {},
            "source": [
                "On regarde les colonnes et leur type\n"
            ]
        },
        {
            "cell_type": "code",
            "execution_count": null,
            "metadata": {},
            "outputs": [],
            "source": [
                "df.dtypes"
            ]
        },
        {
            "cell_type": "code",
            "execution_count": null,
            "metadata": {},
            "outputs": [],
            "source": [
                "df.nunique().sort_values()"
            ]
        },
        {
            "cell_type": "code",
            "execution_count": null,
            "metadata": {},
            "outputs": [],
            "source": [
                "df.nunique().sort_values()"
            ]
        },
        {
            "cell_type": "code",
            "execution_count": null,
            "metadata": {},
            "outputs": [],
            "source": [
                "df[df.nunique().index[df.dtypes == \"object\"]].nunique().sort_values()"
            ]
        },
        {
            "attachments": {},
            "cell_type": "markdown",
            "metadata": {},
            "source": [
                "Pour rappel, le nombre de lignes que nous avons est de 3376.\n",
                "\n",
                "D'après les données catégorielles ci-dessus, on peut dire qu'il y a peu de variances pour celles en bas. Ainsi on peut les retirer les données catégorielles avec trop ou peu de variance pour filtrer plus rapidement nos features.\n",
                "\n",
                "On peut partir du principe que si la variance est plus de 90%, alors la feature ne sera pas exploitable.\n",
                "A l'inverse, si la seule donnée dans la feature que nous avons est unique, alors on peut aussi la supprimer"
            ]
        },
        {
            "cell_type": "code",
            "execution_count": null,
            "metadata": {},
            "outputs": [],
            "source": [
                "for column in df.columns[df.dtypes == \"object\"]:\n",
                "    num_uniques = df[column].unique().size\n",
                "    variance = num_uniques / df[column].value_counts().sum()\n",
                "    if(variance > 0.9 or num_uniques <= 1):\n",
                "        df = df.drop(columns=column)\n",
                "    \n",
                "df.shape"
            ]
        },
        {
            "attachments": {},
            "cell_type": "markdown",
            "metadata": {},
            "source": [
                "On passe de 46 à 31 features !"
            ]
        },
        {
            "cell_type": "code",
            "execution_count": null,
            "metadata": {},
            "outputs": [],
            "source": [
                "df.dtypes.value_counts().plot.pie(autopct='%.2f %%')"
            ]
        },
        {
            "attachments": {},
            "cell_type": "markdown",
            "metadata": {},
            "source": [
                "On a affaire à un dataset avec des données de types variés. Le type prédominant est quand même le nombre flotant, ainsi on aura certainement par la suite des analyses continues à effectuer.\n",
                "\n",
                "On voit également qu'on a beaucoup de features. On peut les traiter une par une pour comprendre leur possible impacte lors de nos prédictions."
            ]
        },
        {
            "attachments": {},
            "cell_type": "markdown",
            "metadata": {},
            "source": [
                "## Nulls\n",
                "\n",
                "On peut se faire une petite fonction pour examiner le nombre de nulls de notre dataset. On pourra l'utiliser pour voir si nos traitements"
            ]
        },
        {
            "cell_type": "code",
            "execution_count": null,
            "metadata": {},
            "outputs": [],
            "source": [
                "def nulls(df):\n",
                "    plt.figure(figsize=(20, 8))\n",
                "    plt.title(\"Répartition des valeurs non définies sous forme de heatmap\")\n",
                "    sns.heatmap(df.isna(), cbar=False)\n",
                "    plt.xticks(rotation=45, horizontalalignment=\"right\")\n",
                "    plt.plot()\n",
                "\n",
                "\n",
                "nulls(df)"
            ]
        },
        {
            "cell_type": "code",
            "execution_count": null,
            "metadata": {},
            "outputs": [],
            "source": [
                "(df.isna().sum() / df.shape[0]).sort_values(ascending=False)"
            ]
        },
        {
            "attachments": {},
            "cell_type": "markdown",
            "metadata": {},
            "source": [
                "On remarque que certaines features possèdent beaucoup de valeurs manquantes. A voir si ces features serait utiles à la prédiction.\n",
                "\n",
                "On a également quelques lignes impactées par un manque de valeur. Ce qui est intéressant est que les valeurs manquantes sont réparties en lignes pour ces données. Ainsi on pourra certainement simplement supprimer ces quelques lignes pour gagner du temps et éviter de faire des traitements inutiles.\n",
                "\n",
                "On peut commencer par supprimer la colonne \"Comments\" qui ne contient que des nulls."
            ]
        },
        {
            "cell_type": "code",
            "execution_count": null,
            "metadata": {},
            "outputs": [],
            "source": [
                "df = df.drop(columns=\"Comments\")"
            ]
        },
        {
            "cell_type": "code",
            "execution_count": null,
            "metadata": {},
            "outputs": [],
            "source": [
                "features = df.columns.to_list()\n",
                "\n",
                "def next_feature():\n",
                "    if(len(features) == 0): return None\n",
                "    feature = features.pop(0)\n",
                "    return feature"
            ]
        },
        {
            "attachments": {},
            "cell_type": "markdown",
            "metadata": {},
            "source": [
                "On peut stoquer nos colonnes dans un tableau et itérer sur chaque variable pour les analyser une par une.\n",
                "\n",
                "Eventuellement on pourra analyser des features entre elles."
            ]
        },
        {
            "cell_type": "code",
            "execution_count": null,
            "metadata": {},
            "outputs": [],
            "source": [
                "next_feature()"
            ]
        },
        {
            "attachments": {},
            "cell_type": "markdown",
            "metadata": {},
            "source": [
                "## OSEBuildingID"
            ]
        },
        {
            "cell_type": "code",
            "execution_count": null,
            "metadata": {},
            "outputs": [],
            "source": [
                "df.OSEBuildingID.unique().size"
            ]
        },
        {
            "cell_type": "code",
            "execution_count": null,
            "metadata": {},
            "outputs": [],
            "source": [
                "df.OSEBuildingID.max()"
            ]
        },
        {
            "attachments": {},
            "cell_type": "markdown",
            "metadata": {},
            "source": [
                "Même taille que le nombre de lignes. Mais le l'id max est bien plus élevé à l'id max (3376). Ce dataset est possiblement un échantillon d'un dataset plus large avec au moins 50226 lignes."
            ]
        },
        {
            "cell_type": "code",
            "execution_count": null,
            "metadata": {},
            "outputs": [],
            "source": [
                "df = df.drop(columns=\"OSEBuildingID\")"
            ]
        },
        {
            "attachments": {},
            "cell_type": "markdown",
            "metadata": {},
            "source": [
                "On peut retirer la feature OSEBuildingID étant donné que toutes les valeurs sont différentes. Elle ne seront d'aucune utilité pour effectuer nos prédictions"
            ]
        },
        {
            "cell_type": "code",
            "execution_count": null,
            "metadata": {},
            "outputs": [],
            "source": [
                "next_feature()"
            ]
        },
        {
            "cell_type": "code",
            "execution_count": null,
            "metadata": {},
            "outputs": [],
            "source": [
                "df.DataYear.unique()"
            ]
        },
        {
            "attachments": {},
            "cell_type": "markdown",
            "metadata": {},
            "source": [
                "DataYear est une feature représentant l'année du de prélévement des données. On peut s'en séparer immédiatement. Analysons plutôt l'année de construction des bâtiment dès le début ce qui nous sera utile pour les comparaisons."
            ]
        },
        {
            "cell_type": "code",
            "execution_count": null,
            "metadata": {},
            "outputs": [],
            "source": [
                "features.remove(\"YearBuilt\")\n",
                "df.drop(columns=\"DataYear\")"
            ]
        },
        {
            "attachments": {},
            "cell_type": "markdown",
            "metadata": {},
            "source": [
                "## YearBuilt"
            ]
        },
        {
            "attachments": {},
            "cell_type": "markdown",
            "metadata": {},
            "source": [
                "YearBuilt est une feature intéressante. On pourra l'utiliser en temps voulu avec d'autres features"
            ]
        },
        {
            "cell_type": "code",
            "execution_count": null,
            "metadata": {},
            "outputs": [],
            "source": [
                "df.YearBuilt.isna().value_counts()"
            ]
        },
        {
            "cell_type": "code",
            "execution_count": null,
            "metadata": {},
            "outputs": [],
            "source": [
                "unique_years = np.sort(df.YearBuilt.unique())\n",
                "unique_years"
            ]
        },
        {
            "cell_type": "code",
            "execution_count": null,
            "metadata": {},
            "outputs": [],
            "source": [
                "df.YearBuilt.describe()"
            ]
        },
        {
            "attachments": {},
            "cell_type": "markdown",
            "metadata": {},
            "source": [
                "On a beaucoup de valeurs différentes pour ce qui est de l'année de construction des bâtiments. Pour nos analyses et prédiction il serait bien d'avoir des valeurs plus catégorielles"
            ]
        },
        {
            "cell_type": "code",
            "execution_count": null,
            "metadata": {},
            "outputs": [],
            "source": [
                "year_range_min = min(unique_years)\n",
                "year_range_max = max(unique_years)\n",
                "year_range_min_10 = int(int(year_range_min / 10) * 10)\n",
                "year_range_max_10 = int(int(year_range_max / 10) * 10)\n",
                "year_range_bins = range(year_range_min_10, year_range_max_10 + 20, 10)\n",
                "year_range_labels = [\n",
                "    \"{}-{}\".format(x, x + 9) for x in range(year_range_min_10, year_range_max_10, 10)\n",
                "]\n",
                "year_range_labels.append(\"2010+\")\n",
                "\n",
                "df[\"YearBuiltRange\"] = pd.cut(\n",
                "    df.YearBuilt, bins=year_range_bins, labels=year_range_labels, include_lowest=True\n",
                ")\n",
                "\n",
                "\n",
                "df[\"YearBuiltRange\"].value_counts().sort_index().plot(kind=\"bar\")\n",
                "plt.title(\"Fréquence des années\")\n",
                "plt.xlabel(\"Intervalles d'années\")\n",
                "plt.ylabel(\"Fréquence\")\n",
                "df[[\"YearBuilt\", \"YearBuiltRange\"]].head()"
            ]
        },
        {
            "attachments": {},
            "cell_type": "markdown",
            "metadata": {},
            "source": [
                "- On remarque un creux vers les années 1930-1950 qui pourrait s'expliquer par la présence de la seconde guerre mondiale\n",
                "- Peu de données pour 2010+ étant données que 2016 correspond à 3/5 d'une intervalle de 10 ans."
            ]
        },
        {
            "cell_type": "code",
            "execution_count": null,
            "metadata": {},
            "outputs": [],
            "source": [
                "next_feature()"
            ]
        },
        {
            "attachments": {},
            "cell_type": "markdown",
            "metadata": {},
            "source": [
                "## BuildingType"
            ]
        },
        {
            "cell_type": "code",
            "execution_count": null,
            "metadata": {},
            "outputs": [],
            "source": [
                "df.BuildingType.isna().value_counts()"
            ]
        },
        {
            "cell_type": "code",
            "execution_count": null,
            "metadata": {},
            "outputs": [],
            "source": [
                "df.BuildingType.unique()"
            ]
        },
        {
            "cell_type": "code",
            "execution_count": null,
            "metadata": {},
            "outputs": [],
            "source": [
                "df.BuildingType.value_counts().plot.pie()"
            ]
        },
        {
            "attachments": {},
            "cell_type": "markdown",
            "metadata": {},
            "source": [
                "Malgré le fait que les bâtiments destinés à l'habitation représentent 50% de notre jeu de données, comme on souhaite effectuer des prédictions uniquement sur les bâtiment destinées à autre chose que l'habitation, on va devoir s'en séparer."
            ]
        },
        {
            "cell_type": "code",
            "execution_count": null,
            "metadata": {},
            "outputs": [],
            "source": [
                "df = df[~df.BuildingType.isin([\"Multifamily MR (5-9)\", \"Multifamily LR (1-4)\", \"Multifamily HR (10+)\"])]\n",
                "df.BuildingType.unique()"
            ]
        },
        {
            "attachments": {},
            "cell_type": "markdown",
            "metadata": {},
            "source": [
                "Nonresidential COS :\n",
                "- _\"Compulsory Open Space (COS) means minimum part of a plot which is to be left completely and compulsorily open to sky under the regulations\"_.\n",
                "\n",
                "    Il peut être utile de conserver cette données telle quelle car elle pourrait caractériser des données différement du simple \"NonResidential\"\n",
                "\n",
                "SPS-District K-12\n",
                "- _\"est couramment employé aux États-Unis pour désigner l'ensemble du cursus scolaire, de la maternelle (Kindergarten) au secondaire (grade 12)\"_\n",
                "\n",
                "    On peut se demander quelle différence avec _\"Campus\"_. Mais un campus peut aussi bien être un lieux d'étude qu'un lieu de travail ordinaire\n",
                "\n",
                "Nonresidential WA:\n",
                "- WA signifiant WAshington, on peut remplacer cette donnée par NonResidential"
            ]
        },
        {
            "cell_type": "code",
            "execution_count": null,
            "metadata": {},
            "outputs": [],
            "source": [
                "df.BuildingType.replace(\"Nonresidential WA\", \"NonResidential\", inplace=True)\n",
                "df.BuildingType.unique()"
            ]
        },
        {
            "cell_type": "code",
            "execution_count": null,
            "metadata": {},
            "outputs": [],
            "source": [
                "df.BuildingType.value_counts().plot.pie(autopct='%.2f %%')"
            ]
        },
        {
            "attachments": {},
            "cell_type": "markdown",
            "metadata": {},
            "source": [
                "On a 88% de NonResidential. Ceci signifie qu'il y a peu de variance avec cette feature. On pourra voir par la suite si on conserve cette feature."
            ]
        },
        {
            "attachments": {},
            "cell_type": "markdown",
            "metadata": {},
            "source": [
                "### BuildingType - YearBuiltRange"
            ]
        },
        {
            "attachments": {},
            "cell_type": "markdown",
            "metadata": {},
            "source": [
                "On peut d'ores et déjà comparer le type de bâtiment à l'année pour y voir un lien."
            ]
        },
        {
            "cell_type": "code",
            "execution_count": null,
            "metadata": {},
            "outputs": [],
            "source": [
                "cross = pd.crosstab(df.BuildingType, df.YearBuiltRange, margins=True)\n",
                "cross"
            ]
        },
        {
            "attachments": {},
            "cell_type": "markdown",
            "metadata": {},
            "source": [
                "- Aucun campus n'a encore été créé en 2010+\n",
                "- Il n'y avait pas de SPS-District K-12 avant 1920"
            ]
        },
        {
            "cell_type": "code",
            "execution_count": null,
            "metadata": {},
            "outputs": [],
            "source": [
                "next_feature()"
            ]
        },
        {
            "attachments": {},
            "cell_type": "markdown",
            "metadata": {},
            "source": [
                "## PrimaryPropertyType"
            ]
        },
        {
            "cell_type": "code",
            "execution_count": null,
            "metadata": {},
            "outputs": [],
            "source": [
                "df.PrimaryPropertyType.isna().value_counts()"
            ]
        },
        {
            "cell_type": "code",
            "execution_count": null,
            "metadata": {},
            "outputs": [],
            "source": [
                "df.PrimaryPropertyType.unique()"
            ]
        },
        {
            "attachments": {},
            "cell_type": "markdown",
            "metadata": {},
            "source": [
                "On doit retirer tout ce qui concerne une résidence"
            ]
        },
        {
            "cell_type": "code",
            "execution_count": null,
            "metadata": {},
            "outputs": [],
            "source": [
                "df = df[\n",
                "    ~df.PrimaryPropertyType.isin(\n",
                "        values=[\"Hotel\", \"Mixed Use Property\", \"Residence Hall\", \"Low-Rise Multifamily\"]\n",
                "    )\n",
                "]\n",
                "df.PrimaryPropertyType.unique()"
            ]
        },
        {
            "cell_type": "code",
            "execution_count": null,
            "metadata": {},
            "outputs": [],
            "source": [
                "sns.countplot(x=df.PrimaryPropertyType)\n",
                "plt.xticks(rotation=45, horizontalalignment=\"right\");"
            ]
        },
        {
            "attachments": {},
            "cell_type": "markdown",
            "metadata": {},
            "source": [
                "- La catégorie \"Autre\", Small/Mid-Sized Office, Warehouse et Large Office sont prédominants "
            ]
        },
        {
            "attachments": {},
            "cell_type": "markdown",
            "metadata": {},
            "source": [
                "### PrimaryPropertyType - BuildingType"
            ]
        },
        {
            "cell_type": "code",
            "execution_count": null,
            "metadata": {},
            "outputs": [],
            "source": [
                "cross = pd.crosstab(df.BuildingType, df.PrimaryPropertyType, margins=True)\n",
                "cross"
            ]
        },
        {
            "attachments": {},
            "cell_type": "markdown",
            "metadata": {},
            "source": [
                "- Les **hopitaux**, **laboratoires**, **\"Refrigerated Warehouse\"**, **\"Residence Hall\"**, **\"Retail Store\"**, **\"Self-Storage Facility\"**, **\"Senior Care Community\"**, **\"Supermarket / Grocery Store\"**, **\"Worship Facility\"**  sont des bâtiments non-résidentiels uniquement\n",
                "- Les bureaux sont des \"Nonresidential COS\"\n",
                "- K-12 School n'est pas forcément lié au SPS-District K-12 contrairement à ce qu'on pourrait croire"
            ]
        },
        {
            "cell_type": "code",
            "execution_count": null,
            "metadata": {},
            "outputs": [],
            "source": [
                "next_feature()"
            ]
        },
        {
            "attachments": {},
            "cell_type": "markdown",
            "metadata": {},
            "source": [
                "## ZipCode"
            ]
        },
        {
            "cell_type": "code",
            "execution_count": null,
            "metadata": {},
            "outputs": [],
            "source": [
                "df.ZipCode.isna().value_counts()"
            ]
        },
        {
            "attachments": {},
            "cell_type": "markdown",
            "metadata": {},
            "source": [
                "On sait que dans nos données nous avons accès à la latitude et longitude pour récupérer la position du bâtiment dans Seattle.\n",
                "\n",
                "On peut très certainement s'appuyer sur ces données pour corriger le ZipCode."
            ]
        },
        {
            "cell_type": "code",
            "execution_count": null,
            "metadata": {},
            "outputs": [],
            "source": [
                "df.Latitude.isna().sum() + df.Longitude.isna().sum()"
            ]
        },
        {
            "attachments": {},
            "cell_type": "markdown",
            "metadata": {},
            "source": [
                "Waw ! On a 0 nulls pour nos coordonnées géographiques. On peut donc directement essayer de retrouver le ZipCode à partir de ces données.\n",
                "\n",
                "Mais avant, retirons latitude et longitude de notre tableau de features à analyser. On utilisera ces features lorsque le besoin se ressentira pour comparer à une autre feature."
            ]
        },
        {
            "cell_type": "code",
            "execution_count": null,
            "metadata": {},
            "outputs": [],
            "source": [
                "features.remove(\"Longitude\")\n",
                "features.remove(\"Latitude\")"
            ]
        },
        {
            "attachments": {},
            "cell_type": "markdown",
            "metadata": {},
            "source": [
                "D'après le format du ZipCode, on est sur un problème de classification. On va utiliser un algorithme de voisins pour retrouver à quelle ZipCode appartient nos 12 lignes manquantes."
            ]
        },
        {
            "cell_type": "code",
            "execution_count": null,
            "metadata": {},
            "outputs": [],
            "source": [
                "df_zip = df.loc[~df.ZipCode.isna(), [\"Latitude\", \"Longitude\", \"ZipCode\"]]"
            ]
        },
        {
            "cell_type": "code",
            "execution_count": null,
            "metadata": {},
            "outputs": [],
            "source": [
                "plt.figure(figsize=(16,14))\n",
                "g = sns.scatterplot(data=df_zip, x=\"Longitude\", y=\"Latitude\", hue=\"ZipCode\", s=25, palette=\"Set1\")\n",
                "g.set_title(\"Clusters of the ZipCode by Latitude/Longitude\")\n",
                "plt.xticks(rotation=45, horizontalalignment=\"right\");"
            ]
        },
        {
            "attachments": {},
            "cell_type": "markdown",
            "metadata": {},
            "source": [
                "On remarque bien certains clusters"
            ]
        },
        {
            "cell_type": "code",
            "execution_count": null,
            "metadata": {},
            "outputs": [],
            "source": [
                "from sklearn.model_selection import train_test_split\n",
                "from sklearn.neighbors import KNeighborsClassifier\n",
                "\n",
                "X = df_zip.iloc[:,:-1]\n",
                "y = df_zip.iloc[:,-1]\n",
                "\n",
                "X_train, X_test, y_train, y_test = train_test_split(X, y, test_size=0.3, random_state=0)\n",
                "\n",
                "model = KNeighborsClassifier(n_neighbors=5)\n",
                "\n",
                "model.fit(X_train, y_train)\n",
                "model.score(X_test, y_test)"
            ]
        },
        {
            "attachments": {},
            "cell_type": "markdown",
            "metadata": {},
            "source": [
                "Peut-on améliorer les performances ?"
            ]
        },
        {
            "cell_type": "code",
            "execution_count": null,
            "metadata": {},
            "outputs": [],
            "source": [
                "from sklearn.model_selection import validation_curve\n",
                "\n",
                "k = np.arange(1, 15)\n",
                "\n",
                "train_score, val_score = validation_curve(model, X_train, y_train, param_name='n_neighbors', param_range=k, cv=5)\n",
                "\n",
                "plt.plot(k, val_score.mean(axis=1))\n",
                "plt.title(\"n_neighbors - val_score\")\n",
                "\n",
                "k_best = k[val_score.mean(axis=1).argmax()]\n",
                "k_best"
            ]
        },
        {
            "cell_type": "code",
            "execution_count": null,
            "metadata": {},
            "outputs": [],
            "source": [
                "model = KNeighborsClassifier(n_neighbors=k_best)\n",
                "model.fit(X_train, y_train)\n",
                "model.score(X_test, y_test)"
            ]
        },
        {
            "attachments": {},
            "cell_type": "markdown",
            "metadata": {},
            "source": [
                "On peut donc faire nos prédictions avec ce modèle"
            ]
        },
        {
            "cell_type": "code",
            "execution_count": null,
            "metadata": {},
            "outputs": [],
            "source": [
                "df_zip = df.loc[df.ZipCode.isna(), [\"Latitude\", \"Longitude\", \"ZipCode\"]]\n",
                "\n",
                "X = df_zip.iloc[:,:-1]\n",
                "y_pred = model.predict(X)\n",
                "df.loc[df.ZipCode.isna(), \"ZipCode\"] = y_pred\n",
                "df.ZipCode.isna().value_counts()"
            ]
        },
        {
            "attachments": {},
            "cell_type": "markdown",
            "metadata": {},
            "source": [
                "On peut également transformer les flotants en entiers car la virgule ne nous sert à rien."
            ]
        },
        {
            "cell_type": "code",
            "execution_count": null,
            "metadata": {},
            "outputs": [],
            "source": [
                "df[\"ZipCode\"] = df.ZipCode.astype(\"int32\")"
            ]
        },
        {
            "attachments": {},
            "cell_type": "markdown",
            "metadata": {},
            "source": [
                "### YearBuiltRange - ZipCode"
            ]
        },
        {
            "cell_type": "code",
            "execution_count": null,
            "metadata": {},
            "outputs": [],
            "source": [
                "plt.figure(figsize=(8,6))\n",
                "sns.scatterplot(data=df, x=\"YearBuiltRange\", y=\"ZipCode\")\n",
                "plt.xticks(rotation=45, horizontalalignment=\"right\");"
            ]
        },
        {
            "attachments": {},
            "cell_type": "markdown",
            "metadata": {},
            "source": [
                "Pour les ZipCode inférieurs à ~98100 il n'y a que très peu de ZipCode par années de construction"
            ]
        },
        {
            "cell_type": "code",
            "execution_count": null,
            "metadata": {},
            "outputs": [],
            "source": [
                "df[df.ZipCode < 98100].shape[0]"
            ]
        },
        {
            "cell_type": "code",
            "execution_count": null,
            "metadata": {},
            "outputs": [],
            "source": [
                "df[df.ZipCode < 98100]"
            ]
        },
        {
            "attachments": {},
            "cell_type": "markdown",
            "metadata": {},
            "source": [
                "Rien d'anormal en regardant les features associées aux outliers bas du ZipCode.\n",
                "\n",
                "On va quand même conserver ces outliers si jamais ils contiennent d'autres features dont notre modèle pourrait avoir besoin."
            ]
        },
        {
            "cell_type": "code",
            "execution_count": null,
            "metadata": {},
            "outputs": [],
            "source": [
                "next_feature()"
            ]
        },
        {
            "attachments": {},
            "cell_type": "markdown",
            "metadata": {},
            "source": [
                "## CouncilDistrictCode"
            ]
        },
        {
            "cell_type": "code",
            "execution_count": null,
            "metadata": {},
            "outputs": [],
            "source": [
                "df.CouncilDistrictCode.isna().value_counts()"
            ]
        },
        {
            "cell_type": "code",
            "execution_count": null,
            "metadata": {},
            "outputs": [],
            "source": [
                "df.CouncilDistrictCode.value_counts().plot(kind=\"bar\")\n",
                "plt.title(\"Number of different CouncilDistrictCode\")\n",
                "plt.xlabel(\"CouncilDistrictCodes\")\n",
                "plt.ylabel(\"Count\");"
            ]
        },
        {
            "attachments": {},
            "cell_type": "markdown",
            "metadata": {},
            "source": [
                "### YearBuiltRange - CouncilDistrictCode"
            ]
        },
        {
            "cell_type": "code",
            "execution_count": null,
            "metadata": {},
            "outputs": [],
            "source": [
                "pd.Series(df.CouncilDistrictCode.unique()).sort_values()"
            ]
        },
        {
            "cell_type": "code",
            "execution_count": null,
            "metadata": {},
            "outputs": [],
            "source": [
                "plt.figure(figsize=(12, 8))\n",
                "g = sns.histplot(data=df.sort_values(by=\"CouncilDistrictCode\"), x=\"YearBuiltRange\", hue=\"CouncilDistrictCode\", palette=sns.color_palette('bright', df.CouncilDistrictCode.unique().shape[0]), edgecolor=\".2\", multiple=\"stack\")\n",
                "for c in g.containers:\n",
                "    labels = [v.get_height() if v.get_height() > 0 else '' for v in c]\n",
                "    g.bar_label(c, labels=labels, label_type='center', c=\"white\")\n",
                "plt.title(\"Number of buildings built by discricts\")\n",
                "plt.xticks(rotation=45, horizontalalignment=\"right\");"
            ]
        },
        {
            "attachments": {},
            "cell_type": "markdown",
            "metadata": {},
            "source": [
                "- Il semblerait que parmis nos données, le district 5 n'existait pas avant 1920\n",
                "- À partir des années 1970, on commence à avoir une bonne répartition de construction de bâtiments dans tous les districts avec une légère préférence de construction dans le district 7"
            ]
        },
        {
            "cell_type": "code",
            "execution_count": null,
            "metadata": {},
            "outputs": [],
            "source": [
                "next_feature()"
            ]
        },
        {
            "attachments": {},
            "cell_type": "markdown",
            "metadata": {},
            "source": [
                "## Neighborhood"
            ]
        },
        {
            "cell_type": "code",
            "execution_count": null,
            "metadata": {},
            "outputs": [],
            "source": [
                "df.Neighborhood.isna().value_counts()"
            ]
        },
        {
            "cell_type": "code",
            "execution_count": null,
            "metadata": {},
            "outputs": [],
            "source": [
                "df.Neighborhood.unique()"
            ]
        },
        {
            "attachments": {},
            "cell_type": "markdown",
            "metadata": {},
            "source": [
                "On remarque des petites erreurs de majuscules et d'informations rajoutées"
            ]
        },
        {
            "cell_type": "code",
            "execution_count": null,
            "metadata": {},
            "outputs": [],
            "source": [
                "df.Neighborhood.replace(\n",
                "    {\n",
                "        \"North\": \"NORTH\",\n",
                "        \"Central\": \"CENTRAL\",\n",
                "        \"Northwest\": \"NORTHWEST\",\n",
                "        \"Delridge\": \"DELRIDGE\",\n",
                "        \"Ballard\": \"BALLARD\",\n",
                "        \"DELRIDGE NEIGHBORHOODS\": \"DELRIDGE\",\n",
                "    },\n",
                "    inplace=True,\n",
                ")\n",
                "df.Neighborhood.unique()"
            ]
        },
        {
            "cell_type": "code",
            "execution_count": null,
            "metadata": {},
            "outputs": [],
            "source": [
                "len(df.Neighborhood.unique())"
            ]
        },
        {
            "attachments": {},
            "cell_type": "markdown",
            "metadata": {},
            "source": [
                "### Neighborhood - Latitude/Longitude\n",
                "\n",
                "Il y a forcément un lien important entre neighborhood et la position géographique du bâtiment dans la ville de Seattle.\n",
                "\n",
                "On peut donc se questionner sur si avoir la Latitude/Longitude et une information sur Neighborhood est important"
            ]
        },
        {
            "cell_type": "code",
            "execution_count": null,
            "metadata": {},
            "outputs": [],
            "source": [
                "plt.figure(figsize=(12,8))\n",
                "sns.scatterplot(data=df, x=\"Longitude\", y=\"Latitude\", hue=\"Neighborhood\")\n",
                "plt.title(\"Neighborhoods by Longitude/Latitude\");"
            ]
        },
        {
            "attachments": {},
            "cell_type": "markdown",
            "metadata": {},
            "source": [
                "Contrairement à quand on affichait les ZipCode on a cette fois-ci un résultat beaucoup plus propre.\n",
                "\n",
                "On remarque bien les clusters qui se sont formés.\n",
                "\n",
                "On peut quand même se poser la question de la pertienence de la feature quartier par rapport à la Latitude/Longitude. On pourra regarder ça plus en détails lorqu'on s'attaquera à nos targets"
            ]
        },
        {
            "attachments": {},
            "cell_type": "markdown",
            "metadata": {},
            "source": [
                "### Neighborhood - YearBuilt"
            ]
        },
        {
            "cell_type": "code",
            "execution_count": null,
            "metadata": {},
            "outputs": [],
            "source": [
                "sns.heatmap(data=pd.crosstab(df.YearBuiltRange, df.Neighborhood))\n",
                "plt.xticks(rotation=45, horizontalalignment=\"right\");"
            ]
        },
        {
            "attachments": {},
            "cell_type": "markdown",
            "metadata": {},
            "source": [
                "- Dans les années 1900-1920, il y a eu beaucoup de bâtiments construits en centre ville\n",
                "- Beaucoup de bâtiments construits autour des années 1960 dans le \"GEATER SUWAMISH\""
            ]
        },
        {
            "cell_type": "code",
            "execution_count": null,
            "metadata": {},
            "outputs": [],
            "source": [
                "next_feature()"
            ]
        },
        {
            "attachments": {},
            "cell_type": "markdown",
            "metadata": {},
            "source": [
                "## NumberofBuildings"
            ]
        },
        {
            "cell_type": "code",
            "execution_count": null,
            "metadata": {},
            "outputs": [],
            "source": [
                "df.NumberofBuildings.isna().value_counts()"
            ]
        },
        {
            "cell_type": "code",
            "execution_count": null,
            "metadata": {},
            "outputs": [],
            "source": [
                "(df.NumberofBuildings == 0).value_counts()"
            ]
        },
        {
            "attachments": {},
            "cell_type": "markdown",
            "metadata": {},
            "source": [
                "Il manque bien des données.\n",
                "\n",
                "Un bâtiment ne peut pas avoir 0 bâtiments. Donc il y a un traitement à effectuer sur ces données."
            ]
        },
        {
            "cell_type": "code",
            "execution_count": null,
            "metadata": {},
            "outputs": [],
            "source": [
                "sns.countplot(data=df, x=\"NumberofBuildings\")"
            ]
        },
        {
            "attachments": {},
            "cell_type": "markdown",
            "metadata": {},
            "source": [
                "Vu qu'il y a une majorité de valeurs à 1. On peut ne pas s'embêter avec un calcul de ce nombre pour les nulls et remplacer par 1."
            ]
        },
        {
            "cell_type": "code",
            "execution_count": null,
            "metadata": {},
            "outputs": [],
            "source": [
                "df.loc[df.NumberofBuildings.isna() | (df.NumberofBuildings == 0), \"NumberofBuildings\"] = 1"
            ]
        },
        {
            "attachments": {},
            "cell_type": "markdown",
            "metadata": {},
            "source": [
                "On peut se questionner sur si cette feature est importante ou non pour notre modèle. En effet, elle n'a également pas beaucoup de variance dans ses données"
            ]
        },
        {
            "cell_type": "code",
            "execution_count": null,
            "metadata": {},
            "outputs": [],
            "source": [
                "df.NumberofBuildings.value_counts(normalize=True)"
            ]
        },
        {
            "attachments": {},
            "cell_type": "markdown",
            "metadata": {},
            "source": [
                "En suivant le principe de 90% de variance qu'on avais effectué au dessus. On peut donc supprimer cette feature."
            ]
        },
        {
            "cell_type": "code",
            "execution_count": null,
            "metadata": {},
            "outputs": [],
            "source": [
                "df.drop(columns=\"NumberofBuildings\", inplace=True)"
            ]
        },
        {
            "cell_type": "code",
            "execution_count": null,
            "metadata": {},
            "outputs": [],
            "source": [
                "next_feature()"
            ]
        },
        {
            "attachments": {},
            "cell_type": "markdown",
            "metadata": {},
            "source": [
                "## NumberofFloors\n",
                "\n",
                "J'ai bien peur que cette feature soit similaire à NumberofBuildings.\n",
                "\n",
                "Voici sa description : *\"Number of floors reported in Portfolio Manager\"*"
            ]
        },
        {
            "cell_type": "code",
            "execution_count": null,
            "metadata": {},
            "outputs": [],
            "source": [
                "df.NumberofFloors.isna().value_counts()"
            ]
        },
        {
            "cell_type": "code",
            "execution_count": null,
            "metadata": {},
            "outputs": [],
            "source": [
                "plt.figure(figsize=(12,6))\n",
                "sns.countplot(data=df, x=\"NumberofFloors\")"
            ]
        },
        {
            "attachments": {},
            "cell_type": "markdown",
            "metadata": {},
            "source": [
                "En réalité on a pas mal de variance à l'intérieur.\n",
                "\n",
                "On souhaite donc corriger les éventuelles erreurs pour cette feature car elle pourrait nous intéresser. On remarque déjà qu'il y a des 0. On peut commencer par regarder si ces 0 sont normaux.\n",
                "\n",
                "Je suis également intéressé de comprendre la feature de manière générale. En effet, comme il y a la feature NumberofBuildings on peut se demander si le nombre  d'étages saisis pour une ligne correspond à \n",
                "- La somme des étages de chaques bâtiments ?\n",
                "- La moyenne d'étages pour chaque bâtiments ?\n",
                "- Une autre méthode de calcul ?"
            ]
        },
        {
            "cell_type": "code",
            "execution_count": null,
            "metadata": {},
            "outputs": [],
            "source": [
                "data.loc[data.NumberofBuildings > 20, [\"NumberofBuildings\",\"NumberofFloors\"]]"
            ]
        },
        {
            "cell_type": "markdown",
            "metadata": {},
            "source": [
                "Comme on a auparavant supprimé NumberofBuildings, je propose que l'on écarte également cette feature. Je n'ai pas l'impression que la définition de cette variable soit correctement définie (ex du 0 pour 111 bâtiments, c'est une université)"
            ]
        },
        {
            "cell_type": "code",
            "execution_count": null,
            "metadata": {},
            "outputs": [],
            "source": [
                "df.drop(columns=\"NumberofFloors\", inplace=True)\n",
                "next_feature()"
            ]
        },
        {
            "cell_type": "markdown",
            "metadata": {},
            "source": [
                "## PropertyGFATotal\n",
                "\n",
                "Voici une feature très intéressante que l'on conservera à coup sûr pour nos prédictions. En effet on peut déjà dire que la surface joue un rôle très important dans la consommation électrique et les émission de CO²."
            ]
        },
        {
            "cell_type": "code",
            "execution_count": null,
            "metadata": {},
            "outputs": [],
            "source": [
                "df.PropertyGFATotal.isna().sum()"
            ]
        },
        {
            "cell_type": "code",
            "execution_count": null,
            "metadata": {},
            "outputs": [],
            "source": [
                "df.PropertyGFATotal.describe()"
            ]
        },
        {
            "cell_type": "markdown",
            "metadata": {},
            "source": [
                "### PropertyGFATotal - YearBuiltRange"
            ]
        },
        {
            "cell_type": "code",
            "execution_count": null,
            "metadata": {},
            "outputs": [],
            "source": [
                "plt.title(\"PropertyGFATotal per YearBuiltRange\")\n",
                "sns.scatterplot(data=df, x=\"YearBuiltRange\", y=\"PropertyGFATotal\")\n",
                "plt.xticks(rotation=45, horizontalalignment=\"right\");"
            ]
        },
        {
            "cell_type": "markdown",
            "metadata": {},
            "source": [
                "On remarque un Outlier évident qu'on avait déjà pour NumberofFloors"
            ]
        },
        {
            "cell_type": "code",
            "execution_count": null,
            "metadata": {},
            "outputs": [],
            "source": [
                "df[df.PropertyGFATotal > 8e6]"
            ]
        },
        {
            "cell_type": "markdown",
            "metadata": {},
            "source": [
                "Je veux bien croire qu'une école consomme beaucoup. Mais déjà la valeur de 1900 pour l'année de construction est assez atypique, l'énergie utilisée de 8.7e7 me parait trop grande, la valeur de la surface également... Cette ligne a également un nombre de bâtiments énorme (d'après nos observations passées).\n",
                "\n",
                "Je propose donc de supprimer cette ligne."
            ]
        },
        {
            "cell_type": "code",
            "execution_count": null,
            "metadata": {},
            "outputs": [],
            "source": [
                "df = df[df.PropertyGFATotal < 8e6]"
            ]
        },
        {
            "cell_type": "code",
            "execution_count": null,
            "metadata": {},
            "outputs": [],
            "source": [
                "sns.scatterplot(data=df, x=\"YearBuiltRange\", y=\"PropertyGFATotal\")\n",
                "plt.title(\"PropertyGFATotal per YearBuiltRange\")\n",
                "plt.xticks(rotation=45, horizontalalignment=\"right\");"
            ]
        },
        {
            "cell_type": "code",
            "execution_count": null,
            "metadata": {},
            "outputs": [],
            "source": [
                "df.groupby(\"YearBuiltRange\").PropertyGFATotal.sum().reset_index()"
            ]
        },
        {
            "cell_type": "code",
            "execution_count": null,
            "metadata": {},
            "outputs": [],
            "source": [
                "property_gfa_total_sum = df.groupby(\"YearBuiltRange\").PropertyGFATotal.sum().reset_index()\n",
                "sns.lineplot(data=property_gfa_total_sum, x=\"YearBuiltRange\", y=\"PropertyGFATotal\")\n",
                "plt.title(\"Sum of PropertyGFATotals for each YearBuiltRange\")\n",
                "plt.xticks(rotation=45, horizontalalignment=\"right\");"
            ]
        },
        {
            "cell_type": "markdown",
            "metadata": {},
            "source": [
                "- De 1980 à maintenant, plus de surface a été créée\n",
                "- Entre 1930 et 1950, pas beaucoup d'activité de création de surface\n",
                "- Même si les données sont récupérées en pleine pleine intervalle 2010-2016, on remarque que moins de la moitiée de surface qu'avant a été créée (~0.75e7). Cela pourrait signifier une potentielle baisse pour l'intervalle 2010-2019."
            ]
        },
        {
            "cell_type": "markdown",
            "metadata": {},
            "source": [
                "### PropertyGFATotal - Latitude/Longitude\n",
                "\n",
                "On peut afficher le poids sous forme de surface pour chaque bâtiment avec notre carte latitude/longitude"
            ]
        },
        {
            "cell_type": "code",
            "execution_count": null,
            "metadata": {},
            "outputs": [],
            "source": [
                "# Neighborhood centers for latitude/longitude\n",
                "neighborhood_centers = df.groupby(\"Neighborhood\")[[\"Latitude\", \"Longitude\"]].mean()\n",
                "\n",
                "plt.figure(figsize=(18,12))\n",
                "sns.scatterplot(df, x=\"Longitude\", y=\"Latitude\", size=\"PropertyGFATotal\", sizes=(40, 1000), alpha=0.5, hue=\"Neighborhood\")\n",
                "for text in neighborhood_centers.index:\n",
                "    latitude, longitude = neighborhood_centers.loc[text]\n",
                "    plt.text(longitude, latitude, text, horizontalalignment='center')\n",
                "plt.title(\"GFA sizes with latitude/longitude of building colored by neighborhood\");"
            ]
        },
        {
            "cell_type": "markdown",
            "metadata": {},
            "source": [
                "- Les plus grosses surfaces sont dans le centre (DOWNTOWN, EAST...)\n",
                "- Les quartiers ont quasiement tous au moins un gros bâtiment"
            ]
        },
        {
            "attachments": {},
            "cell_type": "markdown",
            "metadata": {},
            "source": [
                "### PropertyGFATotal - PrimaryPropertyType"
            ]
        },
        {
            "cell_type": "code",
            "execution_count": null,
            "metadata": {},
            "outputs": [],
            "source": [
                "property_gfa_total_agg = df.groupby(\"PrimaryPropertyType\").PropertyGFATotal.agg([\"mean\", \"min\", \"max\"]).reset_index()\n",
                "property_gfa_total_agg.head()"
            ]
        },
        {
            "cell_type": "code",
            "execution_count": null,
            "metadata": {},
            "outputs": [],
            "source": [
                "plt.figure(figsize=(10,5))\n",
                "sns.lineplot(data=property_gfa_total_agg, x=\"PrimaryPropertyType\", y=\"mean\", label=\"Mean\", color=\"green\", linestyle=\"--\")\n",
                "sns.lineplot(data=property_gfa_total_agg, x=\"PrimaryPropertyType\", y=\"min\", label=\"Min\", color=\"red\", linestyle=\"--\")\n",
                "g = sns.lineplot(data=property_gfa_total_agg, x=\"PrimaryPropertyType\", y=\"max\", label=\"Max\", color=\"red\", linestyle=\"--\")\n",
                "lines = g.get_lines()\n",
                "plt.fill_between(lines[0].get_xdata(), lines[1].get_ydata(), lines[2].get_ydata(), color=\"red\", alpha=.1)\n",
                "plt.ylabel(\"Min/Mean/Max PropertyGFATotal\")\n",
                "plt.title(\"PrimaryPropertyTypes for Min/Mean/Max PropertyGFATotal\")\n",
                "plt.xticks(rotation=45, horizontalalignment=\"right\");"
            ]
        },
        {
            "attachments": {},
            "cell_type": "markdown",
            "metadata": {},
            "source": [
                "- Des valeurs max présentes pour les Hospital, Large Office, Other, University\n",
                "- Valeurs moyennes hautes pour Hospital, LargeOffice\n",
                "- Des minimums similaires proches des moyennes/max pour Office, Refrigerated Warehouse, Restaurant, Self-Storage Facility, Small/Mid-Sized Office, Worship Facility. Il y a donc peu de variance pour ces types de bâtiments."
            ]
        },
        {
            "cell_type": "code",
            "execution_count": null,
            "metadata": {},
            "outputs": [],
            "source": [
                "next_feature()"
            ]
        },
        {
            "cell_type": "markdown",
            "metadata": {},
            "source": [
                "## PropertyGFAParking"
            ]
        },
        {
            "attachments": {},
            "cell_type": "markdown",
            "metadata": {},
            "source": [
                "J'ai personnelement du mal à comprendre s'il existerait un lien entre un parking et des émissions en CO2 ou consommation électrique. Peut être pour l'éclairage, les voitures qui y stationnent ou l'entretien."
            ]
        },
        {
            "cell_type": "code",
            "execution_count": null,
            "metadata": {},
            "outputs": [],
            "source": [
                "df.PropertyGFAParking.isna().value_counts()"
            ]
        },
        {
            "cell_type": "code",
            "execution_count": null,
            "metadata": {},
            "outputs": [],
            "source": [
                "(df.PropertyGFAParking == 0).value_counts(normalize=True)"
            ]
        },
        {
            "attachments": {},
            "cell_type": "markdown",
            "metadata": {},
            "source": [
                "82% de valeurs égales à 0 ça fait beaucoup. Regardons la distribution des 17 autres %"
            ]
        },
        {
            "cell_type": "code",
            "execution_count": null,
            "metadata": {},
            "outputs": [],
            "source": [
                "property_gfa_parking_non_0 = df.loc[df.PropertyGFAParking != 0]\n",
                "sns.displot(data=property_gfa_parking_non_0, x=\"PropertyGFAParking\")"
            ]
        },
        {
            "attachments": {},
            "cell_type": "markdown",
            "metadata": {},
            "source": [
                "Rappel : les valeurs proche de 0 ne sont pas égales à 0\n",
                "\n",
                "- Courbure plutôt exponentielle des GFA du parking"
            ]
        },
        {
            "attachments": {},
            "cell_type": "markdown",
            "metadata": {},
            "source": [
                "### PropertyGFAParking - PropertyGFATotal"
            ]
        },
        {
            "cell_type": "code",
            "execution_count": null,
            "metadata": {},
            "outputs": [],
            "source": [
                "sns.scatterplot(data=df, x=\"PropertyGFAParking\", y=\"PropertyGFATotal\")"
            ]
        },
        {
            "attachments": {},
            "cell_type": "markdown",
            "metadata": {},
            "source": [
                "- Tous les bâtiments n'ont pas forcément de parking (droite verticale en 0)\n",
                "- Linéarité pas forcément évidente (hors droite verticale). Il y a quand même un corrélation entre la surface du parking et totale"
            ]
        },
        {
            "cell_type": "code",
            "execution_count": null,
            "metadata": {},
            "outputs": [],
            "source": [
                "property_gfa_parking_non_0.PropertyGFATotal.corr(property_gfa_parking_non_0.PropertyGFAParking)"
            ]
        },
        {
            "attachments": {},
            "cell_type": "markdown",
            "metadata": {},
            "source": [
                "On peut faire un petit feature engineering pour rajouter s'il y a un parking ou non"
            ]
        },
        {
            "cell_type": "code",
            "execution_count": null,
            "metadata": {},
            "outputs": [],
            "source": [
                "df[\"Parking\"] = df.PropertyGFAParking > 0"
            ]
        },
        {
            "attachments": {},
            "cell_type": "markdown",
            "metadata": {},
            "source": [
                "### Parking - Latitude/Longitude"
            ]
        },
        {
            "cell_type": "code",
            "execution_count": null,
            "metadata": {},
            "outputs": [],
            "source": [
                "plt.figure(figsize=(14,9))\n",
                "sns.scatterplot(data=df, x=\"Longitude\", y=\"Latitude\", hue=\"Parking\", size=\"PropertyGFAParking\", sizes=(40,400), alpha=0.7)\n",
                "plt.title(\"Parking & Parking sizes with Latitude/Longitude\");"
            ]
        },
        {
            "attachments": {},
            "cell_type": "markdown",
            "metadata": {},
            "source": [
                "- Peu de Parkings dans le sud. S'il y en a il n'y a pas beaucoup de place\n",
                "- Il y a des \"clusters\" de parking (notamment dans le nord)\n",
                "- La côte est remplie de parking"
            ]
        },
        {
            "cell_type": "code",
            "execution_count": null,
            "metadata": {},
            "outputs": [],
            "source": [
                "neighborhood_gfa_sum = df.groupby(\"Neighborhood\").PropertyGFAParking.sum().reset_index()\n",
                "neighborhood_gfa_sum.head()"
            ]
        },
        {
            "cell_type": "code",
            "execution_count": null,
            "metadata": {},
            "outputs": [],
            "source": [
                "sns.lineplot(data=neighborhood_gfa_sum, x=\"Neighborhood\", y=\"PropertyGFAParking\")\n",
                "plt.xticks(rotation=45, horizontalalignment=\"right\");"
            ]
        },
        {
            "attachments": {},
            "cell_type": "markdown",
            "metadata": {},
            "source": [
                "En effet, certains quartiers étant plus fréquentés, on y retrouve une plus grande surface de parking"
            ]
        },
        {
            "cell_type": "code",
            "execution_count": null,
            "metadata": {},
            "outputs": [],
            "source": [
                "next_feature()"
            ]
        },
        {
            "attachments": {},
            "cell_type": "markdown",
            "metadata": {},
            "source": [
                "## PropertyGFABuilding(s)"
            ]
        },
        {
            "cell_type": "code",
            "execution_count": null,
            "metadata": {},
            "outputs": [],
            "source": [
                "df[\"PropertyGFABuilding(s)\"].isna().value_counts()"
            ]
        },
        {
            "cell_type": "code",
            "execution_count": null,
            "metadata": {},
            "outputs": [],
            "source": [
                "# Contrôle de la différence des GFAs\n",
                "(df.PropertyGFAParking + df[\"PropertyGFABuilding(s)\"] - df.PropertyGFATotal != 0).sum()"
            ]
        },
        {
            "attachments": {},
            "cell_type": "markdown",
            "metadata": {},
            "source": [
                "L'information du PropertyGFATotal étant comprise dans PropertyGFABuilding(s) et PropertyGFAParking. On a donc pas besoin du PropertyGFATotal"
            ]
        },
        {
            "cell_type": "code",
            "execution_count": null,
            "metadata": {},
            "outputs": [],
            "source": [
                "df.drop(columns=\"PropertyGFATotal\", inplace=True)"
            ]
        },
        {
            "cell_type": "code",
            "execution_count": null,
            "metadata": {},
            "outputs": [],
            "source": [
                "(df[\"PropertyGFABuilding(s)\"] != 0).value_counts()"
            ]
        },
        {
            "attachments": {},
            "cell_type": "markdown",
            "metadata": {},
            "source": [
                "On a uniquement des propertyGFABuildings différents de 0 ce qui semble cohérent"
            ]
        },
        {
            "cell_type": "code",
            "execution_count": null,
            "metadata": {},
            "outputs": [],
            "source": [
                "sns.scatterplot(data=property_gfa_parking_non_0, x=\"PropertyGFAParking\", y=\"PropertyGFABuilding(s)\");\n",
                "property_gfa_parking_non_0.PropertyGFAParking.corr(df[\"PropertyGFABuilding(s)\"])"
            ]
        },
        {
            "attachments": {},
            "cell_type": "markdown",
            "metadata": {},
            "source": [
                "### Building GFA - Latitude/Longitude"
            ]
        },
        {
            "cell_type": "code",
            "execution_count": null,
            "metadata": {},
            "outputs": [],
            "source": [
                "plt.figure(figsize=(14,9))\n",
                "sns.scatterplot(data=df, x=\"Longitude\", y=\"Latitude\", size=\"PropertyGFABuilding(s)\", sizes=(40,800), alpha=0.7, hue=\"Neighborhood\")\n",
                "plt.title(\"Building sizes with Latitude/Longitude and Neighborhood\");"
            ]
        },
        {
            "attachments": {},
            "cell_type": "markdown",
            "metadata": {},
            "source": [
                "Même conclusion que pour l'analyse avec TotalGFA"
            ]
        },
        {
            "cell_type": "code",
            "execution_count": null,
            "metadata": {},
            "outputs": [],
            "source": [
                "next_feature()"
            ]
        },
        {
            "attachments": {},
            "cell_type": "markdown",
            "metadata": {},
            "source": [
                "On utilisera les variables Primary, Secondary et Third PropertyUseTypes pour retrouver celle-ci"
            ]
        },
        {
            "cell_type": "code",
            "execution_count": null,
            "metadata": {},
            "outputs": [],
            "source": [
                "df.drop(columns=\"ListOfAllPropertyUseTypes\", inplace=True)\n",
                "next_feature()"
            ]
        },
        {
            "attachments": {},
            "cell_type": "markdown",
            "metadata": {},
            "source": [
                "## LargestPropertyUseType"
            ]
        },
        {
            "cell_type": "code",
            "execution_count": null,
            "metadata": {},
            "outputs": [],
            "source": [
                "df.LargestPropertyUseType.isna().value_counts()"
            ]
        },
        {
            "cell_type": "code",
            "execution_count": null,
            "metadata": {},
            "outputs": [],
            "source": [
                "df[df.LargestPropertyUseType.isna()]"
            ]
        },
        {
            "cell_type": "code",
            "execution_count": null,
            "metadata": {},
            "outputs": [],
            "source": [
                "df.loc[df.LargestPropertyUseType.isna(), \"LargestPropertyUseType\"] = df.loc[df.LargestPropertyUseType.isna(), \"PrimaryPropertyType\"]\n",
                "df.LargestPropertyUseType.isna().value_counts()"
            ]
        },
        {
            "cell_type": "code",
            "execution_count": null,
            "metadata": {},
            "outputs": [],
            "source": [
                "order = df.LargestPropertyUseType.value_counts().sort_values(ascending=False).index\n",
                "\n",
                "plt.figure(figsize=(18,6))\n",
                "sns.countplot(data=df, x=\"LargestPropertyUseType\", order=order)\n",
                "plt.title(\"LargestPropertyUseType count\")\n",
                "plt.xticks(rotation=45, horizontalalignment=\"right\");"
            ]
        },
        {
            "attachments": {},
            "cell_type": "markdown",
            "metadata": {},
            "source": [
                "- Nombre de LargestPropertyUseType représenté par une fonction exponentielle"
            ]
        },
        {
            "attachments": {},
            "cell_type": "markdown",
            "metadata": {},
            "source": [
                "### LargestPropertyUseType - PropertyGFABuilding(s)"
            ]
        },
        {
            "cell_type": "code",
            "execution_count": null,
            "metadata": {},
            "outputs": [],
            "source": [
                "plt.figure(figsize=(18,6))\n",
                "sns.stripplot(data=df, x=\"LargestPropertyUseType\", y=\"PropertyGFABuilding(s)\", order=order, alpha=0.8)\n",
                "sns.stripplot(data=df, x=\"LargestPropertyUseType\", y=\"PropertyGFAParking\", order=order, alpha=0.8)\n",
                "plt.xticks(rotation=45, horizontalalignment=\"right\");"
            ]
        },
        {
            "attachments": {},
            "cell_type": "markdown",
            "metadata": {},
            "source": [
                "Je serais bien tenté de faire un feature engineering et de généraliser ces données en des catégories plus simples mais du fait de la variance importante dans certains groupes comme Office, College/University, Hospital... J'ai peur de perdre beaucoup trop d'information.\n",
                "\n",
                "À la rigueur on pourrait regrouper certaines catégories similaires comme Restaurant, Social/Meeting Hall, Repair Services, Museum, Automobile Dealership... Ce qui nous permettrait certainement de réduire nos dimensions finales surtout si on utiliser un OneHotEncoder\n",
                "\n",
                "À voir par la suite. Notamment après avoir analysé les 2 autres UseTypes."
            ]
        },
        {
            "cell_type": "code",
            "execution_count": null,
            "metadata": {},
            "outputs": [],
            "source": [
                "next_feature()"
            ]
        },
        {
            "attachments": {},
            "cell_type": "markdown",
            "metadata": {},
            "source": [
                "## LargestPropertyUseTypeGFA"
            ]
        },
        {
            "cell_type": "code",
            "execution_count": null,
            "metadata": {},
            "outputs": [],
            "source": [
                "df[\"GFA\"]"
            ]
        },
        {
            "attachments": {},
            "cell_type": "markdown",
            "metadata": {},
            "source": [
                "## Outlier"
            ]
        },
        {
            "cell_type": "code",
            "execution_count": null,
            "metadata": {},
            "outputs": [],
            "source": [
                "df.Outlier.unique()"
            ]
        },
        {
            "attachments": {},
            "cell_type": "markdown",
            "metadata": {},
            "source": [
                "Outlier peut nous permettre de justement détecter les outliers. C'est rare qu'un dataset nous fournisse directement l'information comme quoi une donnée est un outlier. Il faut donc en profiter.\n",
                "\n",
                "On peut commencer par regarder combien il y a de données annotées comme Outlier et si c'est bien le cas."
            ]
        },
        {
            "cell_type": "code",
            "execution_count": null,
            "metadata": {},
            "outputs": [],
            "source": [
                "df.Outlier.isna()"
            ]
        },
        {
            "cell_type": "code",
            "execution_count": null,
            "metadata": {},
            "outputs": [],
            "source": [
                "df = df[df.Outlier.isna()]\n",
                "df.Outlier.unique()"
            ]
        },
        {
            "attachments": {},
            "cell_type": "markdown",
            "metadata": {},
            "source": [
                "Outliers sera supprimé plus tard dû au nombre de valeurs `NaN`. Profitons-en et analysons le peu de valeurs disponibles"
            ]
        },
        {
            "cell_type": "code",
            "execution_count": null,
            "metadata": {},
            "outputs": [],
            "source": [
                "df.columns"
            ]
        },
        {
            "cell_type": "code",
            "execution_count": null,
            "metadata": {},
            "outputs": [],
            "source": [
                "df = df[df.columns[(((df.isna().sum() / df.shape[0]) < 0.9) & (df.nunique() >= 2))]]\n",
                "df"
            ]
        },
        {
            "attachments": {},
            "cell_type": "markdown",
            "metadata": {},
            "source": [
                "On peut regarder quelles valeurs on a avec certaines colonnes\n"
            ]
        },
        {
            "cell_type": "code",
            "execution_count": null,
            "metadata": {},
            "outputs": [],
            "source": [
                "df.CouncilDistrictCode.unique()"
            ]
        },
        {
            "cell_type": "code",
            "execution_count": null,
            "metadata": {},
            "outputs": [],
            "source": [
                "df.BuildingType.unique()"
            ]
        },
        {
            "cell_type": "code",
            "execution_count": null,
            "metadata": {},
            "outputs": [],
            "source": [
                "df.LargestPropertyUseType.unique()"
            ]
        },
        {
            "attachments": {},
            "cell_type": "markdown",
            "metadata": {},
            "source": [
                "On veut conserver uniquement les lignes utiles et les bâtiments non destinés à l'habitation\n",
                "\n",
                "On peut utiliser :\n",
                "\n",
                "- Le type de bâtiment\n",
                "- La colonne \"ComplianceStatus\"\n",
                "- La colonne \"PrimaryPropertyType\"\n"
            ]
        },
        {
            "cell_type": "code",
            "execution_count": null,
            "metadata": {},
            "outputs": [],
            "source": [
                "df = df[\n",
                "    ~df.BuildingType.isin(\n",
                "        values=[\"Multifamily MR (5-9)\", \"Multifamily LR (1-4)\", \"Multifamily HR (10+)\"]\n",
                "    )\n",
                "]\n",
                "df.BuildingType.unique()"
            ]
        },
        {
            "cell_type": "code",
            "execution_count": null,
            "metadata": {},
            "outputs": [],
            "source": [
                "df = df[\n",
                "    ~df.ComplianceStatus.isin(values=[\"Missing Data\", \"Error - Correct Default Data\"])\n",
                "]\n",
                "df.ComplianceStatus.unique()"
            ]
        },
        {
            "cell_type": "code",
            "execution_count": null,
            "metadata": {},
            "outputs": [],
            "source": [
                "df = df.drop(columns=\"ComplianceStatus\")"
            ]
        },
        {
            "cell_type": "code",
            "execution_count": null,
            "metadata": {},
            "outputs": [],
            "source": [
                "df = df[\n",
                "    ~df.LargestPropertyUseType.isin(\n",
                "        values=[\"Other - Lodging/Residential\", \"Residential Care Facility\"]\n",
                "    )\n",
                "]\n",
                "df.LargestPropertyUseType.unique()"
            ]
        },
        {
            "cell_type": "code",
            "execution_count": null,
            "metadata": {},
            "outputs": [],
            "source": [
                "nulls(df)"
            ]
        },
        {
            "attachments": {},
            "cell_type": "markdown",
            "metadata": {},
            "source": [
                "On remarque qu'il a beaucoup de features pour lesquelles les données sont toutes définies.\n",
                "\n",
                "Il y a seulement quelques données pour les features : LargestPropertyUseTypeGFA ; SiteEUI(kBtu/sf) ; SiteEnergyUseWN(kBtu) ... dont les données sont manquantes.\n",
                "\n",
                "On peut utiliser les 3 features mentionnées pour repérer les `NaN` et les retirer car elles ne représentent pas une très grande proportion du dataset, donc pas besoin d'imputer par la moyenne ou la médiane.\n"
            ]
        },
        {
            "cell_type": "code",
            "execution_count": null,
            "metadata": {},
            "outputs": [],
            "source": [
                "df[[\"LargestPropertyUseTypeGFA\", \"SiteEnergyUse(kBtu)\"]].isna().sum()"
            ]
        },
        {
            "cell_type": "code",
            "execution_count": null,
            "metadata": {},
            "outputs": [],
            "source": [
                "(\n",
                "    df[\"LargestPropertyUseTypeGFA\"].isna() | df[\"SiteEnergyUse(kBtu)\"].isna().isna()\n",
                ").value_counts()"
            ]
        },
        {
            "cell_type": "code",
            "execution_count": null,
            "metadata": {},
            "outputs": [],
            "source": [
                "df = df[~(df[\"LargestPropertyUseTypeGFA\"].isna() | df[\"SiteEnergyUse(kBtu)\"].isna())]\n",
                "replace_cols = [\"SecondLargestPropertyUseType\", \"ThirdLargestPropertyUseType\"]\n",
                "df[replace_cols] = df[replace_cols].fillna(\"Missing\")\n",
                "nulls(df)"
            ]
        },
        {
            "cell_type": "code",
            "execution_count": null,
            "metadata": {},
            "outputs": [],
            "source": [
                "df.drop(\n",
                "    columns=[\n",
                "        \"ENERGYSTARScore\",\n",
                "        \"SecondLargestPropertyUseType\",\n",
                "        \"SecondLargestPropertyUseTypeGFA\",\n",
                "        \"ThirdLargestPropertyUseType\",\n",
                "        \"ThirdLargestPropertyUseTypeGFA\",\n",
                "        \"ZipCode\",\n",
                "    ]\n",
                ").isna().sum().sum()"
            ]
        },
        {
            "attachments": {},
            "cell_type": "markdown",
            "metadata": {},
            "source": [
                "Hormis les colonne ci-dessus, on a que des valeurs définies\n"
            ]
        },
        {
            "cell_type": "code",
            "execution_count": null,
            "metadata": {},
            "outputs": [],
            "source": [
                "df.shape"
            ]
        },
        {
            "cell_type": "code",
            "execution_count": null,
            "metadata": {},
            "outputs": [],
            "source": [
                "unique_years = np.sort(df.YearBuilt.unique())\n",
                "unique_years"
            ]
        },
        {
            "cell_type": "code",
            "execution_count": null,
            "metadata": {},
            "outputs": [],
            "source": [
                "df.DefaultData.value_counts()"
            ]
        },
        {
            "cell_type": "code",
            "execution_count": null,
            "metadata": {},
            "outputs": [],
            "source": [
                "df = df.drop(columns=\"DefaultData\")"
            ]
        },
        {
            "attachments": {},
            "cell_type": "markdown",
            "metadata": {},
            "source": [
                "Information sur le lieux redondante. On peut supprimer"
            ]
        },
        {
            "cell_type": "code",
            "execution_count": null,
            "metadata": {},
            "outputs": [],
            "source": [
                "df = df.drop(columns=[\"PropertyName\", \"Address\", \"TaxParcelIdentificationNumber\"])"
            ]
        },
        {
            "cell_type": "code",
            "execution_count": null,
            "metadata": {},
            "outputs": [],
            "source": [
                "df.ZipCode.unique()"
            ]
        },
        {
            "cell_type": "code",
            "execution_count": null,
            "metadata": {},
            "outputs": [],
            "source": [
                "df.ZipCode.isna().value_counts()"
            ]
        },
        {
            "cell_type": "code",
            "execution_count": null,
            "metadata": {},
            "outputs": [],
            "source": [
                "df.ZipCode.value_counts().plot.pie()"
            ]
        },
        {
            "cell_type": "code",
            "execution_count": null,
            "metadata": {},
            "outputs": [],
            "source": [
                "df = df[df.ZipCode.notna()]"
            ]
        },
        {
            "cell_type": "code",
            "execution_count": null,
            "metadata": {},
            "outputs": [],
            "source": [
                "df = df.drop(columns=\"ListOfAllPropertyUseTypes\")"
            ]
        },
        {
            "cell_type": "code",
            "execution_count": null,
            "metadata": {},
            "outputs": [],
            "source": [
                "df.NumberofBuildings.replace(0, 1, inplace=True)"
            ]
        },
        {
            "cell_type": "code",
            "execution_count": null,
            "metadata": {},
            "outputs": [],
            "source": [
                "df.NumberofFloors.replace(0, 1, inplace=True)"
            ]
        },
        {
            "cell_type": "code",
            "execution_count": null,
            "metadata": {},
            "outputs": [],
            "source": [
                "df.PrimaryPropertyType.unique()"
            ]
        },
        {
            "attachments": {},
            "cell_type": "markdown",
            "metadata": {},
            "source": [
                "## Analyse\n"
            ]
        },
        {
            "cell_type": "code",
            "execution_count": null,
            "metadata": {},
            "outputs": [],
            "source": [
                "def corr(df):\n",
                "    plt.figure(figsize=(14, 11))\n",
                "    sns.heatmap(df.corr(), annot=True)\n",
                "\n",
                "corr(df)"
            ]
        },
        {
            "cell_type": "code",
            "execution_count": null,
            "metadata": {},
            "outputs": [],
            "source": [
                "for o in df.select_dtypes(\"object\"):\n",
                "    s = df[o].unique().size\n",
                "    if s > 20:\n",
                "        print(f\"{o} contains {s} different values\")\n",
                "    else:\n",
                "        plt.figure()\n",
                "        df[o].value_counts().plot.pie()"
            ]
        },
        {
            "cell_type": "code",
            "execution_count": null,
            "metadata": {},
            "outputs": [],
            "source": [
                "df = df.drop(columns=\"YearBuilt\")"
            ]
        },
        {
            "attachments": {},
            "cell_type": "markdown",
            "metadata": {},
            "source": [
                "## Utilité de l'ENERGYSTARTScore"
            ]
        },
        {
            "cell_type": "code",
            "execution_count": null,
            "metadata": {},
            "outputs": [],
            "source": [
                "plt.title(\"ENERGYSTARScore distribution\")\n",
                "sns.histplot(df.ENERGYSTARScore, kde=True)"
            ]
        },
        {
            "attachments": {},
            "cell_type": "markdown",
            "metadata": {},
            "source": [
                "Afin d'avoir une comparaison juste on peut utiliser la consommation pour une surface."
            ]
        },
        {
            "cell_type": "code",
            "execution_count": null,
            "metadata": {},
            "outputs": [],
            "source": [
                "emission_ft = df.TotalGHGEmissions / df.PropertyGFATotal\n",
                "emission_ft.head()"
            ]
        },
        {
            "cell_type": "code",
            "execution_count": null,
            "metadata": {},
            "outputs": [],
            "source": [
                "electricity_ft = df[\"SiteEnergyUse(kBtu)\"] / df.PropertyGFATotal\n",
                "electricity_ft.head()"
            ]
        },
        {
            "cell_type": "code",
            "execution_count": null,
            "metadata": {},
            "outputs": [],
            "source": [
                "energy_range = pd.cut(df.ENERGYSTARScore, bins=range(0,101, 20))\n",
                "energy_range.head()"
            ]
        },
        {
            "cell_type": "code",
            "execution_count": null,
            "metadata": {},
            "outputs": [],
            "source": [
                "plt.figure(figsize=(14,8))\n",
                "sns.scatterplot(x=emission_ft, y=electricity_ft, hue=energy_range, palette=sns.cubehelix_palette())\n",
                "plt.xlabel(\"Emission/ft\")\n",
                "plt.ylabel(\"Electricity/ft\")\n",
                "plt.show()"
            ]
        },
        {
            "attachments": {},
            "cell_type": "markdown",
            "metadata": {},
            "source": [
                "Certains outliers sont présents et suggèrent qu'il y a une forte consommation d'électricité / emission (plus en haut à droite, plus il y a une consommation élevée pour la surface)"
            ]
        },
        {
            "attachments": {},
            "cell_type": "markdown",
            "metadata": {},
            "source": [
                "## TotalGHGEmissions"
            ]
        },
        {
            "cell_type": "code",
            "execution_count": null,
            "metadata": {},
            "outputs": [],
            "source": [
                "from sklearn.preprocessing import StandardScaler\n",
                "\n",
                "ns_scaled = df.select_dtypes(include=np.number)\n",
                "ns_scaled[ns_scaled.columns] = StandardScaler().fit_transform(ns_scaled)"
            ]
        },
        {
            "cell_type": "code",
            "execution_count": null,
            "metadata": {},
            "outputs": [],
            "source": [
                "def distrib_by(df, col):\n",
                "    lines = math.ceil((len(df.columns) - 1) / 5)\n",
                "    fig, axs = plt.subplots(\n",
                "        lines, 5, figsize=(18, int(lines * 3)), constrained_layout=True\n",
                "    )\n",
                "    fig.suptitle(f\"{col} distribution comparison\")\n",
                "    for i, n in enumerate(ns_scaled.drop(columns=col)):\n",
                "        ax = axs[i // 5, i % 5]\n",
                "        sns.histplot(df[[col, n]], kde=True, ax=ax)\n",
                "        ax.set_xlim(-3, 3)\n",
                "        ax.set_ylim(0, 150)\n",
                "        ax.set_title(f\"{n}\")\n",
                "\n",
                "distrib_by(ns_scaled, target_cols[0])"
            ]
        },
        {
            "cell_type": "code",
            "execution_count": null,
            "metadata": {},
            "outputs": [],
            "source": [
                "from pandas.api.types import is_numeric_dtype"
            ]
        },
        {
            "cell_type": "code",
            "execution_count": null,
            "metadata": {},
            "outputs": [],
            "source": [
                "def continuous_discret_viz(df, x, y):\n",
                "    labels = pd.Series(df[x].unique()).sort_values()\n",
                "    fig, axs = plt.subplots(1, 2, figsize=(20,6))\n",
                "    axs[0].set_title(f\"{y} for each {x}s\")\n",
                "    g = sns.boxplot(data=df, x=x, y=y, showfliers=False, showmeans=True, ax=axs[0])\n",
                "    if(not is_numeric_dtype(df[x])):\n",
                "        g.set_xticklabels(labels, rotation=45, ha=\"right\")\n",
                "    axs[1].set_title(f\"{x} count\")\n",
                "    g = sns.countplot(data=df, x=x, ax=axs[1], edgecolor=\"black\")\n",
                "    if(not is_numeric_dtype(df[x])):\n",
                "        g.set_xticklabels(labels, rotation=45, ha=\"right\")\n",
                "    plt.show()\n",
                "\n",
                "continuous_discret_viz(df, \"CouncilDistrictCode\", target_cols[0])"
            ]
        },
        {
            "cell_type": "code",
            "execution_count": null,
            "metadata": {},
            "outputs": [],
            "source": [
                "continuous_discret_viz(df, \"PrimaryPropertyType\", target_cols[0])"
            ]
        },
        {
            "attachments": {},
            "cell_type": "markdown",
            "metadata": {},
            "source": [
                "Ces outliers sont présents pour le type de propriété \"Self-Storage Facility\". Néanmoins on souhaite pouvoir prendre en compte ces outliers car justement, on souhaite également pouvoir prédire la consommation pour ce genre de bâtiment."
            ]
        },
        {
            "cell_type": "code",
            "execution_count": null,
            "metadata": {},
            "outputs": [],
            "source": [
                "continuous_discret_viz(df, \"YearBuiltRange\", target_cols[0])"
            ]
        },
        {
            "attachments": {},
            "cell_type": "markdown",
            "metadata": {},
            "source": [
                "On remarque que la consommation de nos jours est beaucoup plus étalée qu'auparavant pour un quasi-même nombre d'infrastructures."
            ]
        },
        {
            "attachments": {},
            "cell_type": "markdown",
            "metadata": {},
            "source": [
                "## Electricity"
            ]
        },
        {
            "cell_type": "code",
            "execution_count": null,
            "metadata": {},
            "outputs": [],
            "source": [
                "distrib_by(ns_scaled, target_cols[1])"
            ]
        },
        {
            "cell_type": "code",
            "execution_count": null,
            "metadata": {},
            "outputs": [],
            "source": [
                "continuous_discret_viz(df, \"CouncilDistrictCode\", target_cols[1])"
            ]
        },
        {
            "cell_type": "code",
            "execution_count": null,
            "metadata": {},
            "outputs": [],
            "source": [
                "continuous_discret_viz(df, \"PrimaryPropertyType\", target_cols[1])"
            ]
        },
        {
            "attachments": {},
            "cell_type": "markdown",
            "metadata": {},
            "source": [
                "C'est cohérent avec ce que nous avons vu pour le TotalGHGEmission"
            ]
        },
        {
            "cell_type": "code",
            "execution_count": null,
            "metadata": {},
            "outputs": [],
            "source": [
                "continuous_discret_viz(df, \"YearBuiltRange\", target_cols[1])"
            ]
        },
        {
            "attachments": {},
            "cell_type": "markdown",
            "metadata": {},
            "source": [
                "Même remarque que pour TotalGHGEmission"
            ]
        },
        {
            "attachments": {},
            "cell_type": "markdown",
            "metadata": {},
            "source": [
                "# Export\n"
            ]
        },
        {
            "cell_type": "code",
            "execution_count": null,
            "metadata": {},
            "outputs": [],
            "source": [
                "df.to_csv(\"cleaned.csv\", index=False)"
            ]
        }
    ],
    "metadata": {
        "kernelspec": {
            "display_name": "Python 3.10.6 ('oc')",
            "language": "python",
            "name": "python3"
        },
        "language_info": {
            "codemirror_mode": {
                "name": "ipython",
                "version": 3
            },
            "file_extension": ".py",
            "mimetype": "text/x-python",
            "name": "python",
            "nbconvert_exporter": "python",
            "pygments_lexer": "ipython3",
            "version": "3.10.6"
        },
        "orig_nbformat": 4,
        "vscode": {
            "interpreter": {
                "hash": "4682fd4cc275dd3b54e0a35cb379629832c3925d282fc495d205b56d070a9985"
            }
        }
    },
    "nbformat": 4,
    "nbformat_minor": 2
}
