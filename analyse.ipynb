{
    "cells": [
        {
            "attachments": {},
            "cell_type": "markdown",
            "metadata": {},
            "source": [
                "# Objectif\n",
                "\n",
                "- Prédire les émissions de CO2 (TotalGHGEmissions)\n",
                "- Prédire la consommation totale d'énérgie (SiteEnergyUseWN(kBtu) ou SiteEnergyUse(kBtu))\n",
                "- Prendre en compte uniquement les bâtiments non destinés à l'habitation\n",
                "- Evaluer l'intérêt de la feature \"ENERGYSTARScore\" car fastidieux à calculer\n",
                "\n",
                "L'énoncé nous précise que ces données sont compliquées à obtenir d'où l'intérêt de créer un modèle d'IA pouvant prédire les données futurs à partir d'un échantillon de 2016\n",
                "\n",
                "## Targets\n",
                "\n",
                "**Nos targets sont** :\n",
                "\n",
                "- TotalGHGEmissions\n",
                "- SiteEnergyUse(kBtu) ou SiteEnergyUseWN(kBtu)\n",
                "\n",
                "## Itérations d'analyse / nettoyage\n",
                "\n",
                "Itération 1 : shape (1331, 22)\n",
                "\n",
                "Itération 2 : shape ()"
            ]
        },
        {
            "attachments": {},
            "cell_type": "markdown",
            "metadata": {},
            "source": [
                "<hr />\n",
                "\n",
                "# Exploratory Data Analysis\n"
            ]
        },
        {
            "cell_type": "code",
            "execution_count": null,
            "metadata": {},
            "outputs": [],
            "source": [
                "import numpy as np\n",
                "import pandas as pd\n",
                "import matplotlib.pyplot as plt\n",
                "import seaborn as sns\n",
                "import math\n",
                "\n",
                "pd.options.display.max_columns = 50\n",
                "pd.options.display.max_rows = 100\n",
                "np.set_printoptions(linewidth=180)\n",
                "sns.set_style(\"dark\")\n",
                "sns.axes_style(\"darkgrid\")\n",
                "\n",
                "%matplotlib inline\n",
                "\n",
                "# Servira pour la partie analyse\n",
                "target_cols = [\"TotalGHGEmissions\", \"SiteEnergyUse(kBtu)\"]"
            ]
        },
        {
            "cell_type": "code",
            "execution_count": null,
            "metadata": {},
            "outputs": [],
            "source": [
                "data = pd.read_csv(\"2016_Building_Energy_Benchmarking.csv\")\n",
                "df = data.copy()\n",
                "df.head()"
            ]
        },
        {
            "cell_type": "code",
            "execution_count": null,
            "metadata": {},
            "outputs": [],
            "source": [
                "df.shape"
            ]
        },
        {
            "cell_type": "code",
            "execution_count": null,
            "metadata": {},
            "outputs": [],
            "source": [
                "df.describe()"
            ]
        },
        {
            "attachments": {},
            "cell_type": "markdown",
            "metadata": {},
            "source": [
                "Suppression des données qui ne seront pas accessibles lors de l'utilisation du modèle après entrainenement et qui ne sont pas nos targets (éviter le data leakage)\n"
            ]
        },
        {
            "cell_type": "code",
            "execution_count": null,
            "metadata": {},
            "outputs": [],
            "source": [
                "df = df.drop(\n",
                "    columns=[\n",
                "        \"SiteEUI(kBtu/sf)\",\n",
                "        \"SiteEUIWN(kBtu/sf)\",\n",
                "        \"SourceEUI(kBtu/sf)\",\n",
                "        \"SourceEUIWN(kBtu/sf)\",\n",
                "        \"SteamUse(kBtu)\",\n",
                "        \"Electricity(kWh)\",\n",
                "        \"Electricity(kBtu)\",\n",
                "        \"NaturalGas(therms)\",\n",
                "        \"NaturalGas(kBtu)\",\n",
                "        \"SiteEnergyUseWN(kBtu)\",\n",
                "        \"GHGEmissionsIntensity\"\n",
                "    ]\n",
                ")"
            ]
        },
        {
            "attachments": {},
            "cell_type": "markdown",
            "metadata": {},
            "source": [
                "On regarde les colonnes et leur type\n"
            ]
        },
        {
            "cell_type": "code",
            "execution_count": null,
            "metadata": {},
            "outputs": [],
            "source": [
                "df.dtypes"
            ]
        },
        {
            "cell_type": "code",
            "execution_count": null,
            "metadata": {},
            "outputs": [],
            "source": [
                "df.nunique().sort_values()"
            ]
        },
        {
            "cell_type": "code",
            "execution_count": null,
            "metadata": {},
            "outputs": [],
            "source": [
                "df.nunique().sort_values()"
            ]
        },
        {
            "cell_type": "code",
            "execution_count": null,
            "metadata": {},
            "outputs": [],
            "source": [
                "df[df.nunique().index[df.dtypes == \"object\"]].nunique().sort_values()"
            ]
        },
        {
            "attachments": {},
            "cell_type": "markdown",
            "metadata": {},
            "source": [
                "Pour rappel, le nombre de lignes que nous avons est de 3376.\n",
                "\n",
                "D'après les données catégorielles ci-dessus, on peut dire qu'il y a peu de variances pour celles en bas. Ainsi on peut les retirer les données catégorielles avec trop ou peu de variance pour filtrer plus rapidement nos features.\n",
                "\n",
                "On peut partir du principe que si la variance est plus de 90%, alors la feature ne sera pas exploitable.\n",
                "A l'inverse, si la seule donnée dans la feature que nous avons est unique, alors on peut aussi la supprimer"
            ]
        },
        {
            "cell_type": "code",
            "execution_count": null,
            "metadata": {},
            "outputs": [],
            "source": [
                "for column in df.columns[df.dtypes == \"object\"]:\n",
                "    num_uniques = df[column].unique().size\n",
                "    variance = num_uniques / df[column].value_counts().sum()\n",
                "    if(variance > 0.9 or num_uniques <= 1):\n",
                "        df = df.drop(columns=column)\n",
                "    \n",
                "df.shape"
            ]
        },
        {
            "attachments": {},
            "cell_type": "markdown",
            "metadata": {},
            "source": [
                "On passe de 46 à 31 features !"
            ]
        },
        {
            "cell_type": "code",
            "execution_count": null,
            "metadata": {},
            "outputs": [],
            "source": [
                "df.dtypes.value_counts().plot.pie(autopct='%.2f %%')"
            ]
        },
        {
            "attachments": {},
            "cell_type": "markdown",
            "metadata": {},
            "source": [
                "On a affaire à un dataset avec des données de types variés. Le type prédominant est quand même le nombre flotant, ainsi on aura certainement par la suite des analyses continues à effectuer.\n",
                "\n",
                "On voit également qu'on a beaucoup de features. On peut les traiter une par une pour comprendre leur possible impacte lors de nos prédictions."
            ]
        },
        {
            "attachments": {},
            "cell_type": "markdown",
            "metadata": {},
            "source": [
                "## Nulls\n",
                "\n",
                "On peut se faire une petite fonction pour examiner le nombre de nulls de notre dataset. On pourra l'utiliser pour voir si nos traitements"
            ]
        },
        {
            "cell_type": "code",
            "execution_count": null,
            "metadata": {},
            "outputs": [],
            "source": [
                "def nulls(df):\n",
                "    plt.figure(figsize=(20, 8))\n",
                "    plt.title(\"Répartition des valeurs non définies sous forme de heatmap\")\n",
                "    sns.heatmap(df.isna(), cbar=False)\n",
                "    plt.xticks(rotation=45, horizontalalignment=\"right\")\n",
                "    plt.plot()\n",
                "\n",
                "\n",
                "nulls(df)"
            ]
        },
        {
            "attachments": {},
            "cell_type": "markdown",
            "metadata": {},
            "source": [
                "On remarque qu'il a beaucoup de features pour lesquelles les données sont toutes définies.\n",
                "\n",
                "Il y a seulement quelques données pour les features : LargestPropertyUseTypeGFA ; TotalGHGEmissions, NumberofBuildings... dont les données sont manquantes."
            ]
        },
        {
            "cell_type": "code",
            "execution_count": null,
            "metadata": {},
            "outputs": [],
            "source": [
                "(df.isna().sum() / df.shape[0]).sort_values(ascending=False)"
            ]
        },
        {
            "attachments": {},
            "cell_type": "markdown",
            "metadata": {},
            "source": [
                "On remarque que certaines features possèdent beaucoup de valeurs manquantes. A voir si ces features serait utiles à la prédiction.\n",
                "\n",
                "On a également quelques lignes impactées par un manque de valeur. Ce qui est intéressant est que les valeurs manquantes sont réparties en lignes pour ces données. Ainsi on pourra certainement simplement supprimer ces quelques lignes pour gagner du temps et éviter de faire des traitements inutiles.\n",
                "\n",
                "On peut commencer par supprimer la colonne \"Comments\" qui ne contient que des nulls."
            ]
        },
        {
            "cell_type": "code",
            "execution_count": null,
            "metadata": {},
            "outputs": [],
            "source": [
                "df = df.drop(columns=\"Comments\")"
            ]
        },
        {
            "cell_type": "code",
            "execution_count": null,
            "metadata": {},
            "outputs": [],
            "source": [
                "features = df.columns.to_list()\n",
                "\n",
                "def next_feature():\n",
                "    if(len(features) == 0): return None\n",
                "    feature = features.pop(0)\n",
                "    return feature"
            ]
        },
        {
            "attachments": {},
            "cell_type": "markdown",
            "metadata": {},
            "source": [
                "On peut stoquer nos colonnes dans un tableau et itérer sur chaque variable pour les analyser une par une.\n",
                "\n",
                "Eventuellement on pourra analyser des features entre elles."
            ]
        },
        {
            "cell_type": "code",
            "execution_count": null,
            "metadata": {},
            "outputs": [],
            "source": [
                "next_feature()"
            ]
        },
        {
            "attachments": {},
            "cell_type": "markdown",
            "metadata": {},
            "source": [
                "## OSEBuildingID"
            ]
        },
        {
            "cell_type": "code",
            "execution_count": null,
            "metadata": {},
            "outputs": [],
            "source": [
                "df.OSEBuildingID.unique().size"
            ]
        },
        {
            "cell_type": "code",
            "execution_count": null,
            "metadata": {},
            "outputs": [],
            "source": [
                "df.OSEBuildingID.max()"
            ]
        },
        {
            "attachments": {},
            "cell_type": "markdown",
            "metadata": {},
            "source": [
                "Même taille que le nombre de lignes. Mais le l'id max est bien plus élevé à l'id max (3376). Ce dataset est possiblement un échantillon d'un dataset plus large avec au moins 50226 lignes."
            ]
        },
        {
            "cell_type": "code",
            "execution_count": null,
            "metadata": {},
            "outputs": [],
            "source": [
                "df = df.drop(columns=\"OSEBuildingID\")"
            ]
        },
        {
            "attachments": {},
            "cell_type": "markdown",
            "metadata": {},
            "source": [
                "On peut retirer la feature OSEBuildingID étant donné que toutes les valeurs sont différentes. Elle ne seront d'aucune utilité pour effectuer nos prédictions"
            ]
        },
        {
            "cell_type": "code",
            "execution_count": null,
            "metadata": {},
            "outputs": [],
            "source": [
                "next_feature()"
            ]
        },
        {
            "cell_type": "code",
            "execution_count": null,
            "metadata": {},
            "outputs": [],
            "source": [
                "df.DataYear.unique()"
            ]
        },
        {
            "attachments": {},
            "cell_type": "markdown",
            "metadata": {},
            "source": [
                "DataYear est une feature représentant l'année du de prélévement des données. On peut s'en séparer immédiatement. Analysons plutôt l'année de construction des bâtiment dès le début ce qui nous sera utile pour les comparaisons."
            ]
        },
        {
            "cell_type": "code",
            "execution_count": null,
            "metadata": {},
            "outputs": [],
            "source": [
                "features.remove(\"YearBuilt\")\n",
                "df.drop(columns=\"DataYear\", inplace=True)"
            ]
        },
        {
            "attachments": {},
            "cell_type": "markdown",
            "metadata": {},
            "source": [
                "## YearBuilt"
            ]
        },
        {
            "attachments": {},
            "cell_type": "markdown",
            "metadata": {},
            "source": [
                "YearBuilt est une feature intéressante. On pourra l'utiliser en temps voulu avec d'autres features"
            ]
        },
        {
            "cell_type": "code",
            "execution_count": null,
            "metadata": {},
            "outputs": [],
            "source": [
                "df.YearBuilt.isna().value_counts()"
            ]
        },
        {
            "cell_type": "code",
            "execution_count": null,
            "metadata": {},
            "outputs": [],
            "source": [
                "unique_years = np.sort(df.YearBuilt.unique())\n",
                "unique_years"
            ]
        },
        {
            "cell_type": "code",
            "execution_count": null,
            "metadata": {},
            "outputs": [],
            "source": [
                "df.YearBuilt.describe()"
            ]
        },
        {
            "attachments": {},
            "cell_type": "markdown",
            "metadata": {},
            "source": [
                "On a beaucoup de valeurs différentes pour ce qui est de l'année de construction des bâtiments. Pour nos analyses et prédiction il serait bien d'avoir des valeurs plus catégorielles"
            ]
        },
        {
            "cell_type": "code",
            "execution_count": null,
            "metadata": {},
            "outputs": [],
            "source": [
                "year_range_min = min(unique_years)\n",
                "year_range_max = max(unique_years)\n",
                "year_range_min_10 = int(int(year_range_min / 10) * 10)\n",
                "year_range_max_10 = int(int(year_range_max / 10) * 10)\n",
                "year_range_bins = range(year_range_min_10, year_range_max_10 + 20, 10)\n",
                "year_range_labels = [\n",
                "    \"{}-{}\".format(x, x + 9) for x in range(year_range_min_10, year_range_max_10, 10)\n",
                "]\n",
                "year_range_labels.append(\"2010+\")\n",
                "\n",
                "df[\"YearBuiltRange\"] = pd.cut(\n",
                "    df.YearBuilt, bins=year_range_bins, labels=year_range_labels, include_lowest=True\n",
                ")\n",
                "\n",
                "\n",
                "df[\"YearBuiltRange\"].value_counts().sort_index().plot(kind=\"bar\")\n",
                "plt.title(\"Fréquence des années\")\n",
                "plt.xlabel(\"Intervalles d'années\")\n",
                "plt.ylabel(\"Fréquence\")\n",
                "df[[\"YearBuilt\", \"YearBuiltRange\"]].head()"
            ]
        },
        {
            "attachments": {},
            "cell_type": "markdown",
            "metadata": {},
            "source": [
                "- On remarque un creux vers les années 1930-1950 qui pourrait s'expliquer par la présence de la seconde guerre mondiale\n",
                "- Peu de données pour 2010+ étant données que 2016 correspond à 3/5 d'une intervalle de 10 ans."
            ]
        },
        {
            "cell_type": "code",
            "execution_count": null,
            "metadata": {},
            "outputs": [],
            "source": [
                "next_feature()"
            ]
        },
        {
            "attachments": {},
            "cell_type": "markdown",
            "metadata": {},
            "source": [
                "## BuildingType"
            ]
        },
        {
            "cell_type": "code",
            "execution_count": null,
            "metadata": {},
            "outputs": [],
            "source": [
                "df.BuildingType.isna().value_counts()"
            ]
        },
        {
            "cell_type": "code",
            "execution_count": null,
            "metadata": {},
            "outputs": [],
            "source": [
                "df.BuildingType.unique()"
            ]
        },
        {
            "cell_type": "code",
            "execution_count": null,
            "metadata": {},
            "outputs": [],
            "source": [
                "df.BuildingType.value_counts().plot.pie()"
            ]
        },
        {
            "attachments": {},
            "cell_type": "markdown",
            "metadata": {},
            "source": [
                "Malgré le fait que les bâtiments destinés à l'habitation représentent 50% de notre jeu de données, comme on souhaite effectuer des prédictions uniquement sur les bâtiment destinées à autre chose que l'habitation, on va devoir s'en séparer."
            ]
        },
        {
            "cell_type": "code",
            "execution_count": null,
            "metadata": {},
            "outputs": [],
            "source": [
                "df = df[~df.BuildingType.isin([\"Multifamily MR (5-9)\", \"Multifamily LR (1-4)\", \"Multifamily HR (10+)\"])]\n",
                "df.BuildingType.unique()"
            ]
        },
        {
            "attachments": {},
            "cell_type": "markdown",
            "metadata": {},
            "source": [
                "Nonresidential COS :\n",
                "- _\"Compulsory Open Space (COS) means minimum part of a plot which is to be left completely and compulsorily open to sky under the regulations\"_.\n",
                "\n",
                "    Il peut être utile de conserver cette données telle quelle car elle pourrait caractériser des données différement du simple \"NonResidential\"\n",
                "\n",
                "SPS-District K-12\n",
                "- _\"est couramment employé aux États-Unis pour désigner l'ensemble du cursus scolaire, de la maternelle (Kindergarten) au secondaire (grade 12)\"_\n",
                "\n",
                "    On peut se demander quelle différence avec _\"Campus\"_. Mais un campus peut aussi bien être un lieux d'étude qu'un lieu de travail ordinaire\n",
                "\n",
                "Nonresidential WA:\n",
                "- WA signifiant WAshington, on peut remplacer cette donnée par NonResidential"
            ]
        },
        {
            "cell_type": "code",
            "execution_count": null,
            "metadata": {},
            "outputs": [],
            "source": [
                "df.BuildingType.replace(\"Nonresidential WA\", \"NonResidential\", inplace=True)\n",
                "df.BuildingType.unique()"
            ]
        },
        {
            "cell_type": "code",
            "execution_count": null,
            "metadata": {},
            "outputs": [],
            "source": [
                "df.BuildingType.value_counts().plot.pie(autopct='%.2f %%')"
            ]
        },
        {
            "attachments": {},
            "cell_type": "markdown",
            "metadata": {},
            "source": [
                "On a 88% de NonResidential. Ceci signifie qu'il y a peu de variance avec cette feature. On pourra voir par la suite si on conserve cette feature."
            ]
        },
        {
            "attachments": {},
            "cell_type": "markdown",
            "metadata": {},
            "source": [
                "### BuildingType - YearBuiltRange"
            ]
        },
        {
            "attachments": {},
            "cell_type": "markdown",
            "metadata": {},
            "source": [
                "On peut d'ores et déjà comparer le type de bâtiment à l'année pour y voir un lien."
            ]
        },
        {
            "cell_type": "code",
            "execution_count": null,
            "metadata": {},
            "outputs": [],
            "source": [
                "cross = pd.crosstab(df.BuildingType, df.YearBuiltRange, margins=True)\n",
                "cross"
            ]
        },
        {
            "attachments": {},
            "cell_type": "markdown",
            "metadata": {},
            "source": [
                "- Aucun campus n'a encore été créé en 2010+\n",
                "- Il n'y avait pas de SPS-District K-12 avant 1920"
            ]
        },
        {
            "cell_type": "code",
            "execution_count": null,
            "metadata": {},
            "outputs": [],
            "source": [
                "next_feature()"
            ]
        },
        {
            "attachments": {},
            "cell_type": "markdown",
            "metadata": {},
            "source": [
                "## PrimaryPropertyType"
            ]
        },
        {
            "cell_type": "code",
            "execution_count": null,
            "metadata": {},
            "outputs": [],
            "source": [
                "df.PrimaryPropertyType.isna().value_counts()"
            ]
        },
        {
            "cell_type": "code",
            "execution_count": null,
            "metadata": {},
            "outputs": [],
            "source": [
                "df.PrimaryPropertyType.unique()"
            ]
        },
        {
            "attachments": {},
            "cell_type": "markdown",
            "metadata": {},
            "source": [
                "On doit retirer tout ce qui concerne une résidence"
            ]
        },
        {
            "cell_type": "code",
            "execution_count": null,
            "metadata": {},
            "outputs": [],
            "source": [
                "df = df[\n",
                "    ~df.PrimaryPropertyType.isin(\n",
                "        values=[\"Hotel\", \"Mixed Use Property\", \"Residence Hall\", \"Low-Rise Multifamily\"]\n",
                "    )\n",
                "]\n",
                "df.PrimaryPropertyType.unique()"
            ]
        },
        {
            "cell_type": "code",
            "execution_count": null,
            "metadata": {},
            "outputs": [],
            "source": [
                "sns.countplot(x=df.PrimaryPropertyType)\n",
                "plt.xticks(rotation=45, horizontalalignment=\"right\");"
            ]
        },
        {
            "attachments": {},
            "cell_type": "markdown",
            "metadata": {},
            "source": [
                "- La catégorie \"Autre\", Small/Mid-Sized Office, Warehouse et Large Office sont prédominants "
            ]
        },
        {
            "attachments": {},
            "cell_type": "markdown",
            "metadata": {},
            "source": [
                "### PrimaryPropertyType - BuildingType"
            ]
        },
        {
            "cell_type": "code",
            "execution_count": null,
            "metadata": {},
            "outputs": [],
            "source": [
                "cross = pd.crosstab(df.BuildingType, df.PrimaryPropertyType, margins=True)\n",
                "cross"
            ]
        },
        {
            "attachments": {},
            "cell_type": "markdown",
            "metadata": {},
            "source": [
                "- Les **hopitaux**, **laboratoires**, **\"Refrigerated Warehouse\"**, **\"Residence Hall\"**, **\"Retail Store\"**, **\"Self-Storage Facility\"**, **\"Senior Care Community\"**, **\"Supermarket / Grocery Store\"**, **\"Worship Facility\"**  sont des bâtiments non-résidentiels uniquement\n",
                "- Les bureaux sont des \"Nonresidential COS\"\n",
                "- K-12 School n'est pas forcément lié au SPS-District K-12 contrairement à ce qu'on pourrait croire"
            ]
        },
        {
            "cell_type": "code",
            "execution_count": null,
            "metadata": {},
            "outputs": [],
            "source": [
                "next_feature()"
            ]
        },
        {
            "attachments": {},
            "cell_type": "markdown",
            "metadata": {},
            "source": [
                "## ZipCode"
            ]
        },
        {
            "cell_type": "code",
            "execution_count": null,
            "metadata": {},
            "outputs": [],
            "source": [
                "df.ZipCode.isna().value_counts()"
            ]
        },
        {
            "attachments": {},
            "cell_type": "markdown",
            "metadata": {},
            "source": [
                "On sait que dans nos données nous avons accès à la latitude et longitude pour récupérer la position du bâtiment dans Seattle.\n",
                "\n",
                "On peut très certainement s'appuyer sur ces données pour corriger le ZipCode."
            ]
        },
        {
            "cell_type": "code",
            "execution_count": null,
            "metadata": {},
            "outputs": [],
            "source": [
                "df.Latitude.isna().sum() + df.Longitude.isna().sum()"
            ]
        },
        {
            "attachments": {},
            "cell_type": "markdown",
            "metadata": {},
            "source": [
                "Waw ! On a 0 nulls pour nos coordonnées géographiques. On peut donc directement essayer de retrouver le ZipCode à partir de ces données.\n",
                "\n",
                "Mais avant, retirons latitude et longitude de notre tableau de features à analyser. On utilisera ces features lorsque le besoin se ressentira pour comparer à une autre feature."
            ]
        },
        {
            "cell_type": "code",
            "execution_count": null,
            "metadata": {},
            "outputs": [],
            "source": [
                "features.remove(\"Longitude\")\n",
                "features.remove(\"Latitude\")"
            ]
        },
        {
            "attachments": {},
            "cell_type": "markdown",
            "metadata": {},
            "source": [
                "D'après le format du ZipCode, on est sur un problème de classification. On va utiliser un algorithme de voisins pour retrouver à quelle ZipCode appartient nos 12 lignes manquantes."
            ]
        },
        {
            "cell_type": "code",
            "execution_count": null,
            "metadata": {},
            "outputs": [],
            "source": [
                "df_zip = df.loc[~df.ZipCode.isna(), [\"Latitude\", \"Longitude\", \"ZipCode\"]]"
            ]
        },
        {
            "cell_type": "code",
            "execution_count": null,
            "metadata": {},
            "outputs": [],
            "source": [
                "plt.figure(figsize=(16,14))\n",
                "g = sns.scatterplot(data=df_zip, x=\"Longitude\", y=\"Latitude\", hue=\"ZipCode\", s=25, palette=\"Set1\")\n",
                "g.set_title(\"Clusters of the ZipCode by Latitude/Longitude\")\n",
                "plt.xticks(rotation=45, horizontalalignment=\"right\");"
            ]
        },
        {
            "attachments": {},
            "cell_type": "markdown",
            "metadata": {},
            "source": [
                "On remarque bien certains clusters"
            ]
        },
        {
            "cell_type": "code",
            "execution_count": null,
            "metadata": {},
            "outputs": [],
            "source": [
                "from sklearn.model_selection import train_test_split\n",
                "from sklearn.neighbors import KNeighborsClassifier\n",
                "\n",
                "X = df_zip.iloc[:,:-1]\n",
                "y = df_zip.iloc[:,-1]\n",
                "\n",
                "X_train, X_test, y_train, y_test = train_test_split(X, y, test_size=0.3, random_state=0)\n",
                "\n",
                "model = KNeighborsClassifier(n_neighbors=5)\n",
                "\n",
                "model.fit(X_train, y_train)\n",
                "model.score(X_test, y_test)"
            ]
        },
        {
            "attachments": {},
            "cell_type": "markdown",
            "metadata": {},
            "source": [
                "Peut-on améliorer les performances ?"
            ]
        },
        {
            "cell_type": "code",
            "execution_count": null,
            "metadata": {},
            "outputs": [],
            "source": [
                "from sklearn.model_selection import validation_curve\n",
                "\n",
                "k = np.arange(1, 15)\n",
                "\n",
                "train_score, val_score = validation_curve(model, X_train, y_train, param_name='n_neighbors', param_range=k, cv=5)\n",
                "\n",
                "plt.plot(k, val_score.mean(axis=1))\n",
                "plt.title(\"n_neighbors - val_score\")\n",
                "\n",
                "k_best = k[val_score.mean(axis=1).argmax()]\n",
                "k_best"
            ]
        },
        {
            "cell_type": "code",
            "execution_count": null,
            "metadata": {},
            "outputs": [],
            "source": [
                "model = KNeighborsClassifier(n_neighbors=k_best)\n",
                "model.fit(X_train, y_train)\n",
                "model.score(X_test, y_test)"
            ]
        },
        {
            "attachments": {},
            "cell_type": "markdown",
            "metadata": {},
            "source": [
                "On peut donc faire nos prédictions avec ce modèle"
            ]
        },
        {
            "cell_type": "code",
            "execution_count": null,
            "metadata": {},
            "outputs": [],
            "source": [
                "df_zip = df.loc[df.ZipCode.isna(), [\"Latitude\", \"Longitude\", \"ZipCode\"]]\n",
                "\n",
                "X = df_zip.iloc[:,:-1]\n",
                "y_pred = model.predict(X)\n",
                "df.loc[df.ZipCode.isna(), \"ZipCode\"] = y_pred\n",
                "df.ZipCode.isna().value_counts()"
            ]
        },
        {
            "attachments": {},
            "cell_type": "markdown",
            "metadata": {},
            "source": [
                "On peut également transformer les flotants en entiers car la virgule ne nous sert à rien."
            ]
        },
        {
            "cell_type": "code",
            "execution_count": null,
            "metadata": {},
            "outputs": [],
            "source": [
                "df[\"ZipCode\"] = df.ZipCode.astype(\"int32\")"
            ]
        },
        {
            "attachments": {},
            "cell_type": "markdown",
            "metadata": {},
            "source": [
                "### YearBuiltRange - ZipCode"
            ]
        },
        {
            "cell_type": "code",
            "execution_count": null,
            "metadata": {},
            "outputs": [],
            "source": [
                "plt.figure(figsize=(8,6))\n",
                "sns.scatterplot(data=df, x=\"YearBuiltRange\", y=\"ZipCode\")\n",
                "plt.xticks(rotation=45, horizontalalignment=\"right\");"
            ]
        },
        {
            "attachments": {},
            "cell_type": "markdown",
            "metadata": {},
            "source": [
                "Pour les ZipCode inférieurs à ~98100 il n'y a que très peu de ZipCode par années de construction"
            ]
        },
        {
            "cell_type": "code",
            "execution_count": null,
            "metadata": {},
            "outputs": [],
            "source": [
                "df[df.ZipCode < 98100].shape[0]"
            ]
        },
        {
            "cell_type": "code",
            "execution_count": null,
            "metadata": {},
            "outputs": [],
            "source": [
                "df[df.ZipCode < 98100]"
            ]
        },
        {
            "attachments": {},
            "cell_type": "markdown",
            "metadata": {},
            "source": [
                "Rien d'anormal en regardant les features associées aux outliers bas du ZipCode.\n",
                "\n",
                "On va quand même conserver ces outliers si jamais ils contiennent d'autres features dont notre modèle pourrait avoir besoin."
            ]
        },
        {
            "cell_type": "code",
            "execution_count": null,
            "metadata": {},
            "outputs": [],
            "source": [
                "next_feature()"
            ]
        },
        {
            "attachments": {},
            "cell_type": "markdown",
            "metadata": {},
            "source": [
                "## CouncilDistrictCode"
            ]
        },
        {
            "cell_type": "code",
            "execution_count": null,
            "metadata": {},
            "outputs": [],
            "source": [
                "df.CouncilDistrictCode.isna().value_counts()"
            ]
        },
        {
            "cell_type": "code",
            "execution_count": null,
            "metadata": {},
            "outputs": [],
            "source": [
                "df.CouncilDistrictCode.value_counts().plot(kind=\"bar\")\n",
                "plt.title(\"Number of different CouncilDistrictCode\")\n",
                "plt.xlabel(\"CouncilDistrictCodes\")\n",
                "plt.ylabel(\"Count\");"
            ]
        },
        {
            "attachments": {},
            "cell_type": "markdown",
            "metadata": {},
            "source": [
                "### YearBuiltRange - CouncilDistrictCode"
            ]
        },
        {
            "cell_type": "code",
            "execution_count": null,
            "metadata": {},
            "outputs": [],
            "source": [
                "pd.Series(df.CouncilDistrictCode.unique()).sort_values()"
            ]
        },
        {
            "cell_type": "code",
            "execution_count": null,
            "metadata": {},
            "outputs": [],
            "source": [
                "plt.figure(figsize=(12, 8))\n",
                "g = sns.histplot(data=df.sort_values(by=\"CouncilDistrictCode\"), x=\"YearBuiltRange\", hue=\"CouncilDistrictCode\", palette=sns.color_palette('bright', df.CouncilDistrictCode.unique().shape[0]), edgecolor=\".2\", multiple=\"stack\")\n",
                "for c in g.containers:\n",
                "    labels = [v.get_height() if v.get_height() > 0 else '' for v in c]\n",
                "    g.bar_label(c, labels=labels, label_type='center', c=\"white\")\n",
                "plt.title(\"Number of buildings built by discricts\")\n",
                "plt.xticks(rotation=45, horizontalalignment=\"right\");"
            ]
        },
        {
            "attachments": {},
            "cell_type": "markdown",
            "metadata": {},
            "source": [
                "- Il semblerait que parmis nos données, le district 5 n'existait pas avant 1920\n",
                "- À partir des années 1970, on commence à avoir une bonne répartition de construction de bâtiments dans tous les districts avec une légère préférence de construction dans le district 7"
            ]
        },
        {
            "cell_type": "code",
            "execution_count": null,
            "metadata": {},
            "outputs": [],
            "source": [
                "next_feature()"
            ]
        },
        {
            "attachments": {},
            "cell_type": "markdown",
            "metadata": {},
            "source": [
                "## Neighborhood"
            ]
        },
        {
            "cell_type": "code",
            "execution_count": null,
            "metadata": {},
            "outputs": [],
            "source": [
                "df.Neighborhood.isna().value_counts()"
            ]
        },
        {
            "cell_type": "code",
            "execution_count": null,
            "metadata": {},
            "outputs": [],
            "source": [
                "df.Neighborhood.unique()"
            ]
        },
        {
            "attachments": {},
            "cell_type": "markdown",
            "metadata": {},
            "source": [
                "On remarque des petites erreurs de majuscules et d'informations rajoutées"
            ]
        },
        {
            "cell_type": "code",
            "execution_count": null,
            "metadata": {},
            "outputs": [],
            "source": [
                "df.Neighborhood.replace(\n",
                "    {\n",
                "        \"North\": \"NORTH\",\n",
                "        \"Central\": \"CENTRAL\",\n",
                "        \"Northwest\": \"NORTHWEST\",\n",
                "        \"Delridge\": \"DELRIDGE\",\n",
                "        \"Ballard\": \"BALLARD\",\n",
                "        \"DELRIDGE NEIGHBORHOODS\": \"DELRIDGE\",\n",
                "    },\n",
                "    inplace=True,\n",
                ")\n",
                "df.Neighborhood.unique()"
            ]
        },
        {
            "cell_type": "code",
            "execution_count": null,
            "metadata": {},
            "outputs": [],
            "source": [
                "len(df.Neighborhood.unique())"
            ]
        },
        {
            "attachments": {},
            "cell_type": "markdown",
            "metadata": {},
            "source": [
                "### Neighborhood - Latitude/Longitude\n",
                "\n",
                "Il y a forcément un lien important entre neighborhood et la position géographique du bâtiment dans la ville de Seattle.\n",
                "\n",
                "On peut donc se questionner sur si avoir la Latitude/Longitude et une information sur Neighborhood est important"
            ]
        },
        {
            "cell_type": "code",
            "execution_count": null,
            "metadata": {},
            "outputs": [],
            "source": [
                "plt.figure(figsize=(12,8))\n",
                "sns.scatterplot(data=df, x=\"Longitude\", y=\"Latitude\", hue=\"Neighborhood\")\n",
                "plt.title(\"Neighborhoods by Longitude/Latitude\");"
            ]
        },
        {
            "attachments": {},
            "cell_type": "markdown",
            "metadata": {},
            "source": [
                "Contrairement à quand on affichait les ZipCode on a cette fois-ci un résultat beaucoup plus propre.\n",
                "\n",
                "On remarque bien les clusters qui se sont formés.\n",
                "\n",
                "On peut quand même se poser la question de la pertienence de la feature quartier par rapport à la Latitude/Longitude. On pourra regarder ça plus en détails lorqu'on s'attaquera à nos targets"
            ]
        },
        {
            "attachments": {},
            "cell_type": "markdown",
            "metadata": {},
            "source": [
                "### Neighborhood - YearBuilt"
            ]
        },
        {
            "cell_type": "code",
            "execution_count": null,
            "metadata": {},
            "outputs": [],
            "source": [
                "sns.heatmap(data=pd.crosstab(df.YearBuiltRange, df.Neighborhood))\n",
                "plt.xticks(rotation=45, horizontalalignment=\"right\");"
            ]
        },
        {
            "attachments": {},
            "cell_type": "markdown",
            "metadata": {},
            "source": [
                "- Dans les années 1900-1920, il y a eu beaucoup de bâtiments construits en centre ville\n",
                "- Beaucoup de bâtiments construits autour des années 1960 dans le \"GEATER SUWAMISH\""
            ]
        },
        {
            "cell_type": "code",
            "execution_count": null,
            "metadata": {},
            "outputs": [],
            "source": [
                "next_feature()"
            ]
        },
        {
            "attachments": {},
            "cell_type": "markdown",
            "metadata": {},
            "source": [
                "## NumberofBuildings"
            ]
        },
        {
            "cell_type": "code",
            "execution_count": null,
            "metadata": {},
            "outputs": [],
            "source": [
                "df.NumberofBuildings.isna().sum()"
            ]
        },
        {
            "cell_type": "code",
            "execution_count": null,
            "metadata": {},
            "outputs": [],
            "source": [
                "(df.NumberofBuildings == 0).value_counts()"
            ]
        },
        {
            "attachments": {},
            "cell_type": "markdown",
            "metadata": {},
            "source": [
                "Il manque bien des données.\n",
                "\n",
                "Un bâtiment ne peut pas avoir 0 bâtiments. Donc il y a un traitement à effectuer sur ces données."
            ]
        },
        {
            "cell_type": "code",
            "execution_count": null,
            "metadata": {},
            "outputs": [],
            "source": [
                "sns.countplot(data=df, x=\"NumberofBuildings\")"
            ]
        },
        {
            "attachments": {},
            "cell_type": "markdown",
            "metadata": {},
            "source": [
                "Vu qu'il y a une majorité de valeurs à 1. On peut ne pas s'embêter avec un calcul de ce nombre pour les nulls et remplacer par 1."
            ]
        },
        {
            "cell_type": "code",
            "execution_count": null,
            "metadata": {},
            "outputs": [],
            "source": [
                "df.loc[df.NumberofBuildings.isna() | (df.NumberofBuildings == 0), \"NumberofBuildings\"] = 1"
            ]
        },
        {
            "attachments": {},
            "cell_type": "markdown",
            "metadata": {},
            "source": [
                "On peut se questionner sur si cette feature est importante ou non pour notre modèle. En effet, elle n'a également pas beaucoup de variance dans ses données"
            ]
        },
        {
            "cell_type": "code",
            "execution_count": null,
            "metadata": {},
            "outputs": [],
            "source": [
                "df.NumberofBuildings.value_counts(normalize=True)"
            ]
        },
        {
            "attachments": {},
            "cell_type": "markdown",
            "metadata": {},
            "source": [
                "En suivant le principe de 90% de variance qu'on avais effectué au dessus. On peut donc supprimer cette feature."
            ]
        },
        {
            "cell_type": "code",
            "execution_count": null,
            "metadata": {},
            "outputs": [],
            "source": [
                "df.drop(columns=\"NumberofBuildings\", inplace=True)"
            ]
        },
        {
            "cell_type": "code",
            "execution_count": null,
            "metadata": {},
            "outputs": [],
            "source": [
                "next_feature()"
            ]
        },
        {
            "attachments": {},
            "cell_type": "markdown",
            "metadata": {},
            "source": [
                "## NumberofFloors\n",
                "\n",
                "J'ai bien peur que cette feature soit similaire à NumberofBuildings.\n",
                "\n",
                "Voici sa description : *\"Number of floors reported in Portfolio Manager\"*"
            ]
        },
        {
            "cell_type": "code",
            "execution_count": null,
            "metadata": {},
            "outputs": [],
            "source": [
                "df.NumberofFloors.isna().sum()"
            ]
        },
        {
            "cell_type": "code",
            "execution_count": null,
            "metadata": {},
            "outputs": [],
            "source": [
                "plt.figure(figsize=(12,6))\n",
                "sns.countplot(data=df, x=\"NumberofFloors\")"
            ]
        },
        {
            "attachments": {},
            "cell_type": "markdown",
            "metadata": {},
            "source": [
                "En réalité on a pas mal de variance à l'intérieur.\n",
                "\n",
                "On souhaite donc corriger les éventuelles erreurs pour cette feature car elle pourrait nous intéresser. On remarque déjà qu'il y a des 0. On peut commencer par regarder si ces 0 sont normaux.\n",
                "\n",
                "Je suis également intéressé de comprendre la feature de manière générale. En effet, comme il y a la feature NumberofBuildings on peut se demander si le nombre  d'étages saisis pour une ligne correspond à \n",
                "- La somme des étages de chaques bâtiments ?\n",
                "- La moyenne d'étages pour chaque bâtiments ?\n",
                "- Une autre méthode de calcul ?"
            ]
        },
        {
            "cell_type": "code",
            "execution_count": null,
            "metadata": {},
            "outputs": [],
            "source": [
                "data.loc[data.NumberofBuildings > 20, [\"NumberofBuildings\",\"NumberofFloors\"]]"
            ]
        },
        {
            "cell_type": "markdown",
            "metadata": {},
            "source": [
                "Comme on a auparavant supprimé NumberofBuildings, je propose que l'on écarte également cette feature. Je n'ai pas l'impression que la définition de cette variable soit correctement définie (ex du 0 pour 111 bâtiments, c'est une université)"
            ]
        },
        {
            "cell_type": "code",
            "execution_count": null,
            "metadata": {},
            "outputs": [],
            "source": [
                "df.drop(columns=\"NumberofFloors\", inplace=True)\n",
                "next_feature()"
            ]
        },
        {
            "cell_type": "markdown",
            "metadata": {},
            "source": [
                "## PropertyGFATotal\n",
                "\n",
                "Voici une feature très intéressante que l'on conservera à coup sûr pour nos prédictions. En effet on peut déjà dire que la surface joue un rôle très important dans la consommation électrique et les émission de CO²."
            ]
        },
        {
            "cell_type": "code",
            "execution_count": null,
            "metadata": {},
            "outputs": [],
            "source": [
                "df.PropertyGFATotal.isna().sum()"
            ]
        },
        {
            "cell_type": "code",
            "execution_count": null,
            "metadata": {},
            "outputs": [],
            "source": [
                "df.PropertyGFATotal.describe()"
            ]
        },
        {
            "cell_type": "markdown",
            "metadata": {},
            "source": [
                "### PropertyGFATotal - YearBuiltRange"
            ]
        },
        {
            "cell_type": "code",
            "execution_count": null,
            "metadata": {},
            "outputs": [],
            "source": [
                "plt.title(\"PropertyGFATotal per YearBuiltRange\")\n",
                "sns.scatterplot(data=df, x=\"YearBuiltRange\", y=\"PropertyGFATotal\")\n",
                "plt.xticks(rotation=45, horizontalalignment=\"right\");"
            ]
        },
        {
            "cell_type": "markdown",
            "metadata": {},
            "source": [
                "On remarque un Outlier évident qu'on avait déjà pour NumberofFloors"
            ]
        },
        {
            "cell_type": "code",
            "execution_count": null,
            "metadata": {},
            "outputs": [],
            "source": [
                "df[df.PropertyGFATotal > 8e6]"
            ]
        },
        {
            "cell_type": "markdown",
            "metadata": {},
            "source": [
                "Je veux bien croire qu'une école consomme beaucoup. Mais déjà la valeur de 1900 pour l'année de construction est assez atypique, l'énergie utilisée de 8.7e7 me parait trop grande, la valeur de la surface également... Cette ligne a également un nombre de bâtiments énorme (d'après nos observations passées).\n",
                "\n",
                "Je propose donc de supprimer cette ligne."
            ]
        },
        {
            "cell_type": "code",
            "execution_count": null,
            "metadata": {},
            "outputs": [],
            "source": [
                "df = df[df.PropertyGFATotal < 8e6]"
            ]
        },
        {
            "cell_type": "code",
            "execution_count": null,
            "metadata": {},
            "outputs": [],
            "source": [
                "sns.scatterplot(data=df, x=\"YearBuiltRange\", y=\"PropertyGFATotal\")\n",
                "plt.title(\"PropertyGFATotal per YearBuiltRange\")\n",
                "plt.xticks(rotation=45, horizontalalignment=\"right\");"
            ]
        },
        {
            "cell_type": "code",
            "execution_count": null,
            "metadata": {},
            "outputs": [],
            "source": [
                "df.groupby(\"YearBuiltRange\").PropertyGFATotal.sum().reset_index()"
            ]
        },
        {
            "cell_type": "code",
            "execution_count": null,
            "metadata": {},
            "outputs": [],
            "source": [
                "property_gfa_total_sum = df.groupby(\"YearBuiltRange\").PropertyGFATotal.sum().reset_index()\n",
                "sns.lineplot(data=property_gfa_total_sum, x=\"YearBuiltRange\", y=\"PropertyGFATotal\")\n",
                "plt.title(\"Sum of PropertyGFATotals for each YearBuiltRange\")\n",
                "plt.xticks(rotation=45, horizontalalignment=\"right\");"
            ]
        },
        {
            "cell_type": "markdown",
            "metadata": {},
            "source": [
                "- De 1980 à maintenant, plus de surface a été créée\n",
                "- Entre 1930 et 1950, pas beaucoup d'activité de création de surface\n",
                "- Même si les données sont récupérées en pleine pleine intervalle 2010-2016, on remarque que moins de la moitiée de surface qu'avant a été créée (~0.75e7). Cela pourrait signifier une potentielle baisse pour l'intervalle 2010-2019."
            ]
        },
        {
            "cell_type": "markdown",
            "metadata": {},
            "source": [
                "### PropertyGFATotal - Latitude/Longitude\n",
                "\n",
                "On peut afficher le poids sous forme de surface pour chaque bâtiment avec notre carte latitude/longitude"
            ]
        },
        {
            "cell_type": "code",
            "execution_count": null,
            "metadata": {},
            "outputs": [],
            "source": [
                "# Neighborhood centers for latitude/longitude\n",
                "neighborhood_centers = df.groupby(\"Neighborhood\")[[\"Latitude\", \"Longitude\"]].mean()\n",
                "\n",
                "plt.figure(figsize=(18,12))\n",
                "sns.scatterplot(df, x=\"Longitude\", y=\"Latitude\", size=\"PropertyGFATotal\", sizes=(40, 1000), alpha=0.5, hue=\"Neighborhood\")\n",
                "for text in neighborhood_centers.index:\n",
                "    latitude, longitude = neighborhood_centers.loc[text]\n",
                "    plt.text(longitude, latitude, text, horizontalalignment='center')\n",
                "plt.title(\"GFA sizes with latitude/longitude of building colored by neighborhood\");"
            ]
        },
        {
            "cell_type": "markdown",
            "metadata": {},
            "source": [
                "- Les plus grosses surfaces sont dans le centre (DOWNTOWN, EAST...)\n",
                "- Les quartiers ont quasiement tous au moins un gros bâtiment"
            ]
        },
        {
            "attachments": {},
            "cell_type": "markdown",
            "metadata": {},
            "source": [
                "### PropertyGFATotal - PrimaryPropertyType"
            ]
        },
        {
            "cell_type": "code",
            "execution_count": null,
            "metadata": {},
            "outputs": [],
            "source": [
                "property_gfa_total_agg = df.groupby(\"PrimaryPropertyType\").PropertyGFATotal.agg([\"mean\", \"min\", \"max\"]).reset_index()\n",
                "property_gfa_total_agg.head()"
            ]
        },
        {
            "cell_type": "code",
            "execution_count": null,
            "metadata": {},
            "outputs": [],
            "source": [
                "plt.figure(figsize=(10,5))\n",
                "sns.lineplot(data=property_gfa_total_agg, x=\"PrimaryPropertyType\", y=\"mean\", label=\"Mean\", color=\"green\", linestyle=\"--\")\n",
                "sns.lineplot(data=property_gfa_total_agg, x=\"PrimaryPropertyType\", y=\"min\", label=\"Min\", color=\"red\", linestyle=\"--\")\n",
                "g = sns.lineplot(data=property_gfa_total_agg, x=\"PrimaryPropertyType\", y=\"max\", label=\"Max\", color=\"red\", linestyle=\"--\")\n",
                "lines = g.get_lines()\n",
                "plt.fill_between(lines[0].get_xdata(), lines[1].get_ydata(), lines[2].get_ydata(), color=\"red\", alpha=.1)\n",
                "plt.ylabel(\"Min/Mean/Max PropertyGFATotal\")\n",
                "plt.title(\"PrimaryPropertyTypes for Min/Mean/Max PropertyGFATotal\")\n",
                "plt.xticks(rotation=45, horizontalalignment=\"right\");"
            ]
        },
        {
            "attachments": {},
            "cell_type": "markdown",
            "metadata": {},
            "source": [
                "- Des valeurs max présentes pour les Hospital, Large Office, Other, University\n",
                "- Valeurs moyennes hautes pour Hospital, LargeOffice\n",
                "- Des minimums similaires proches des moyennes/max pour Office, Refrigerated Warehouse, Restaurant, Self-Storage Facility, Small/Mid-Sized Office, Worship Facility. Il y a donc peu de variance pour ces types de bâtiments."
            ]
        },
        {
            "cell_type": "code",
            "execution_count": null,
            "metadata": {},
            "outputs": [],
            "source": [
                "next_feature()"
            ]
        },
        {
            "cell_type": "markdown",
            "metadata": {},
            "source": [
                "## PropertyGFAParking"
            ]
        },
        {
            "attachments": {},
            "cell_type": "markdown",
            "metadata": {},
            "source": [
                "J'ai personnelement du mal à comprendre s'il existerait un lien entre un parking et des émissions en CO2 ou consommation électrique. Peut être pour l'éclairage, les voitures qui y stationnent ou l'entretien."
            ]
        },
        {
            "cell_type": "code",
            "execution_count": null,
            "metadata": {},
            "outputs": [],
            "source": [
                "df.PropertyGFAParking.isna().sum()"
            ]
        },
        {
            "cell_type": "code",
            "execution_count": null,
            "metadata": {},
            "outputs": [],
            "source": [
                "(df.PropertyGFAParking == 0).value_counts(normalize=True)"
            ]
        },
        {
            "attachments": {},
            "cell_type": "markdown",
            "metadata": {},
            "source": [
                "82% de valeurs égales à 0 ça fait beaucoup. Regardons la distribution des 17 autres %"
            ]
        },
        {
            "cell_type": "code",
            "execution_count": null,
            "metadata": {},
            "outputs": [],
            "source": [
                "property_gfa_parking_non_0 = df.loc[df.PropertyGFAParking != 0]\n",
                "sns.displot(data=property_gfa_parking_non_0, x=\"PropertyGFAParking\")"
            ]
        },
        {
            "attachments": {},
            "cell_type": "markdown",
            "metadata": {},
            "source": [
                "Rappel : les valeurs proche de 0 ne sont pas égales à 0\n",
                "\n",
                "- Courbure plutôt exponentielle des GFA du parking"
            ]
        },
        {
            "attachments": {},
            "cell_type": "markdown",
            "metadata": {},
            "source": [
                "### PropertyGFAParking - PropertyGFATotal"
            ]
        },
        {
            "cell_type": "code",
            "execution_count": null,
            "metadata": {},
            "outputs": [],
            "source": [
                "sns.scatterplot(data=df, x=\"PropertyGFAParking\", y=\"PropertyGFATotal\")"
            ]
        },
        {
            "attachments": {},
            "cell_type": "markdown",
            "metadata": {},
            "source": [
                "- Tous les bâtiments n'ont pas forcément de parking (droite verticale en 0)\n",
                "- Linéarité pas forcément évidente (hors droite verticale). Il y a quand même un corrélation entre la surface du parking et totale"
            ]
        },
        {
            "cell_type": "code",
            "execution_count": null,
            "metadata": {},
            "outputs": [],
            "source": [
                "property_gfa_parking_non_0.PropertyGFATotal.corr(property_gfa_parking_non_0.PropertyGFAParking)"
            ]
        },
        {
            "attachments": {},
            "cell_type": "markdown",
            "metadata": {},
            "source": [
                "On peut faire un petit feature engineering pour rajouter s'il y a un parking ou non"
            ]
        },
        {
            "cell_type": "code",
            "execution_count": null,
            "metadata": {},
            "outputs": [],
            "source": [
                "df[\"Parking\"] = df.PropertyGFAParking > 0"
            ]
        },
        {
            "attachments": {},
            "cell_type": "markdown",
            "metadata": {},
            "source": [
                "### Parking - Latitude/Longitude"
            ]
        },
        {
            "cell_type": "code",
            "execution_count": null,
            "metadata": {},
            "outputs": [],
            "source": [
                "plt.figure(figsize=(14,9))\n",
                "sns.scatterplot(data=df, x=\"Longitude\", y=\"Latitude\", hue=\"Parking\", size=\"PropertyGFAParking\", sizes=(40,400), alpha=0.7)\n",
                "plt.title(\"Parking & Parking sizes with Latitude/Longitude\");"
            ]
        },
        {
            "attachments": {},
            "cell_type": "markdown",
            "metadata": {},
            "source": [
                "- Peu de Parkings dans le sud. S'il y en a il n'y a pas beaucoup de place\n",
                "- Il y a des \"clusters\" de parking (notamment dans le nord)\n",
                "- La côte est remplie de parking"
            ]
        },
        {
            "cell_type": "code",
            "execution_count": null,
            "metadata": {},
            "outputs": [],
            "source": [
                "neighborhood_gfa_sum = df.groupby(\"Neighborhood\").PropertyGFAParking.sum().reset_index()\n",
                "neighborhood_gfa_sum.head()"
            ]
        },
        {
            "cell_type": "code",
            "execution_count": null,
            "metadata": {},
            "outputs": [],
            "source": [
                "sns.lineplot(data=neighborhood_gfa_sum, x=\"Neighborhood\", y=\"PropertyGFAParking\")\n",
                "plt.xticks(rotation=45, horizontalalignment=\"right\");"
            ]
        },
        {
            "attachments": {},
            "cell_type": "markdown",
            "metadata": {},
            "source": [
                "En effet, certains quartiers étant plus fréquentés, on y retrouve une plus grande surface de parking"
            ]
        },
        {
            "cell_type": "code",
            "execution_count": null,
            "metadata": {},
            "outputs": [],
            "source": [
                "next_feature()"
            ]
        },
        {
            "attachments": {},
            "cell_type": "markdown",
            "metadata": {},
            "source": [
                "## PropertyGFABuilding(s)"
            ]
        },
        {
            "cell_type": "code",
            "execution_count": null,
            "metadata": {},
            "outputs": [],
            "source": [
                "df[\"PropertyGFABuilding(s)\"].isna().sum()"
            ]
        },
        {
            "cell_type": "code",
            "execution_count": null,
            "metadata": {},
            "outputs": [],
            "source": [
                "# Contrôle de la différence des GFAs\n",
                "(df.PropertyGFAParking + df[\"PropertyGFABuilding(s)\"] - df.PropertyGFATotal != 0).sum()"
            ]
        },
        {
            "attachments": {},
            "cell_type": "markdown",
            "metadata": {},
            "source": [
                "L'information du PropertyGFATotal étant comprise dans PropertyGFABuilding(s) et PropertyGFAParking. On a donc pas besoin du PropertyGFATotal"
            ]
        },
        {
            "cell_type": "code",
            "execution_count": null,
            "metadata": {},
            "outputs": [],
            "source": [
                "df.drop(columns=\"PropertyGFATotal\", inplace=True)"
            ]
        },
        {
            "cell_type": "code",
            "execution_count": null,
            "metadata": {},
            "outputs": [],
            "source": [
                "(df[\"PropertyGFABuilding(s)\"] != 0).value_counts()"
            ]
        },
        {
            "attachments": {},
            "cell_type": "markdown",
            "metadata": {},
            "source": [
                "On a uniquement des propertyGFABuildings différents de 0 ce qui semble cohérent"
            ]
        },
        {
            "cell_type": "code",
            "execution_count": null,
            "metadata": {},
            "outputs": [],
            "source": [
                "sns.scatterplot(data=property_gfa_parking_non_0, x=\"PropertyGFAParking\", y=\"PropertyGFABuilding(s)\");\n",
                "property_gfa_parking_non_0.PropertyGFAParking.corr(df[\"PropertyGFABuilding(s)\"])"
            ]
        },
        {
            "attachments": {},
            "cell_type": "markdown",
            "metadata": {},
            "source": [
                "### Building GFA - Latitude/Longitude"
            ]
        },
        {
            "cell_type": "code",
            "execution_count": null,
            "metadata": {},
            "outputs": [],
            "source": [
                "plt.figure(figsize=(14,9))\n",
                "sns.scatterplot(data=df, x=\"Longitude\", y=\"Latitude\", size=\"PropertyGFABuilding(s)\", sizes=(40,800), alpha=0.7, hue=\"Neighborhood\")\n",
                "plt.title(\"Building sizes with Latitude/Longitude and Neighborhood\");"
            ]
        },
        {
            "attachments": {},
            "cell_type": "markdown",
            "metadata": {},
            "source": [
                "Même conclusion que pour l'analyse avec TotalGFA"
            ]
        },
        {
            "cell_type": "code",
            "execution_count": null,
            "metadata": {},
            "outputs": [],
            "source": [
                "next_feature()"
            ]
        },
        {
            "attachments": {},
            "cell_type": "markdown",
            "metadata": {},
            "source": [
                "On utilisera les variables Primary, Secondary et Third PropertyUseTypes pour retrouver celle-ci"
            ]
        },
        {
            "cell_type": "code",
            "execution_count": null,
            "metadata": {},
            "outputs": [],
            "source": [
                "df.drop(columns=\"ListOfAllPropertyUseTypes\", inplace=True)\n",
                "next_feature()"
            ]
        },
        {
            "attachments": {},
            "cell_type": "markdown",
            "metadata": {},
            "source": [
                "## LargestPropertyUseType"
            ]
        },
        {
            "cell_type": "code",
            "execution_count": null,
            "metadata": {},
            "outputs": [],
            "source": [
                "df.LargestPropertyUseType.isna().sum()"
            ]
        },
        {
            "cell_type": "code",
            "execution_count": null,
            "metadata": {},
            "outputs": [],
            "source": [
                "df[df.LargestPropertyUseType.isna()]"
            ]
        },
        {
            "cell_type": "code",
            "execution_count": null,
            "metadata": {},
            "outputs": [],
            "source": [
                "df.loc[df.LargestPropertyUseType.isna(), \"LargestPropertyUseType\"] = df.loc[df.LargestPropertyUseType.isna(), \"PrimaryPropertyType\"]\n",
                "df.LargestPropertyUseType.isna().value_counts()"
            ]
        },
        {
            "cell_type": "code",
            "execution_count": null,
            "metadata": {},
            "outputs": [],
            "source": [
                "order = df.LargestPropertyUseType.value_counts().sort_values(ascending=False).index\n",
                "\n",
                "plt.figure(figsize=(18,6))\n",
                "sns.countplot(data=df, x=\"LargestPropertyUseType\", order=order)\n",
                "plt.title(\"LargestPropertyUseType count\")\n",
                "plt.xticks(rotation=45, horizontalalignment=\"right\");"
            ]
        },
        {
            "attachments": {},
            "cell_type": "markdown",
            "metadata": {},
            "source": [
                "- Nombre de LargestPropertyUseType représenté par une fonction exponentielle\n",
                "- Beaucoup de types avec peu de données"
            ]
        },
        {
            "attachments": {},
            "cell_type": "markdown",
            "metadata": {},
            "source": [
                "### LargestPropertyUseType - PropertyGFABuilding(s)"
            ]
        },
        {
            "cell_type": "code",
            "execution_count": null,
            "metadata": {},
            "outputs": [],
            "source": [
                "plt.figure(figsize=(18,6))\n",
                "sns.stripplot(data=df, x=\"LargestPropertyUseType\", y=\"PropertyGFABuilding(s)\", order=order, alpha=0.8)\n",
                "sns.stripplot(data=df, x=\"LargestPropertyUseType\", y=\"PropertyGFAParking\", order=order, alpha=0.8)\n",
                "plt.ylabel(\"GFA\")\n",
                "plt.xticks(rotation=45, horizontalalignment=\"right\");"
            ]
        },
        {
            "attachments": {},
            "cell_type": "markdown",
            "metadata": {},
            "source": [
                "Je serais bien tenté de faire un feature engineering et de généraliser ces données en des catégories plus simples mais du fait de la variance importante dans certains groupes comme Office, College/University, Hospital... J'ai peur de perdre beaucoup trop d'information.\n",
                "\n",
                "À la rigueur on pourrait regrouper certaines catégories similaires comme Restaurant, Social/Meeting Hall, Repair Services, Museum, Automobile Dealership... Ce qui nous permettrait certainement de réduire nos dimensions finales surtout si on utiliser un OneHotEncoder\n",
                "\n",
                "À voir par la suite. Notamment après avoir analysé les 2 autres UseTypes."
            ]
        },
        {
            "cell_type": "code",
            "execution_count": null,
            "metadata": {},
            "outputs": [],
            "source": [
                "next_feature()"
            ]
        },
        {
            "attachments": {},
            "cell_type": "markdown",
            "metadata": {},
            "source": [
                "## LargestPropertyUseTypeGFA"
            ]
        },
        {
            "cell_type": "code",
            "execution_count": null,
            "metadata": {},
            "outputs": [],
            "source": [
                "df.LargestPropertyUseTypeGFA.isna().sum()"
            ]
        },
        {
            "cell_type": "code",
            "execution_count": null,
            "metadata": {},
            "outputs": [],
            "source": [
                "df[df.LargestPropertyUseTypeGFA.isna()]"
            ]
        },
        {
            "attachments": {},
            "cell_type": "markdown",
            "metadata": {},
            "source": [
                "PropertyGFABuilding(s) étant défini, on va remplacer les valeurs par celles de cette feature"
            ]
        },
        {
            "cell_type": "code",
            "execution_count": null,
            "metadata": {},
            "outputs": [],
            "source": [
                "df.loc[df.LargestPropertyUseTypeGFA.isna(), \"LargestPropertyUseTypeGFA\"] = df.loc[df.LargestPropertyUseTypeGFA.isna(), \"PropertyGFABuilding(s)\"]\n",
                "df.LargestPropertyUseTypeGFA.isna().sum()"
            ]
        },
        {
            "cell_type": "code",
            "execution_count": null,
            "metadata": {},
            "outputs": [],
            "source": [
                "df.LargestPropertyUseTypeGFA.describe()"
            ]
        },
        {
            "cell_type": "code",
            "execution_count": null,
            "metadata": {},
            "outputs": [],
            "source": [
                "sns.countplot(x=pd.cut(df.LargestPropertyUseTypeGFA, bins=np.append(np.arange(0, 5e5, 5e4), math.inf)))\n",
                "plt.xticks(rotation=45, horizontalalignment=\"right\");"
            ]
        },
        {
            "attachments": {},
            "cell_type": "markdown",
            "metadata": {},
            "source": [
                "- Courbure exponentielle.\n",
                "- La majorité des données sont comprises entre 0 et 1.5e5"
            ]
        },
        {
            "attachments": {},
            "cell_type": "markdown",
            "metadata": {},
            "source": [
                "### LargestPropertyUseTypeGFA - LargestPropertyUseType"
            ]
        },
        {
            "cell_type": "code",
            "execution_count": null,
            "metadata": {},
            "outputs": [],
            "source": [
                "plt.figure(figsize=(16,10))\n",
                "sns.barplot(data=df, x=\"LargestPropertyUseType\", y=\"LargestPropertyUseTypeGFA\", order=order)\n",
                "plt.xticks(rotation=45, horizontalalignment=\"right\");"
            ]
        },
        {
            "attachments": {},
            "cell_type": "markdown",
            "metadata": {},
            "source": [
                "### LargestPropertyUseType - LargestPropertyUseTypeGFA\n",
                "\n",
                "On peut comparer les GFA totaux entre eux. On doit comparer le GFA des parkings avec la donnée \"Parking\" de LargestPropertyUseType"
            ]
        },
        {
            "cell_type": "code",
            "execution_count": null,
            "metadata": {},
            "outputs": [],
            "source": [
                "largest_property_type_gfas = df.groupby(\"LargestPropertyUseType\").LargestPropertyUseTypeGFA.sum()\n",
                "largest_property_type_gfas.head()"
            ]
        },
        {
            "cell_type": "code",
            "execution_count": null,
            "metadata": {},
            "outputs": [],
            "source": [
                "parking_gfa = df.PropertyGFAParking.sum()\n",
                "buildings_gfa = df[\"PropertyGFABuilding(s)\"].sum()\n",
                "print(parking_gfa, buildings_gfa)"
            ]
        },
        {
            "cell_type": "code",
            "execution_count": null,
            "metadata": {},
            "outputs": [],
            "source": [
                "largest_parking_gfa = largest_property_type_gfas[\"Parking\"]\n",
                "largest_buildings_gfa = largest_property_type_gfas[largest_property_type_gfas[~largest_property_type_gfas.index.isin([\"Parking\"])].index].sum()\n",
                "print(largest_parking_gfa / parking_gfa, largest_buildings_gfa / buildings_gfa)"
            ]
        },
        {
            "attachments": {},
            "cell_type": "markdown",
            "metadata": {},
            "source": [
                "- LargestPropertyUseType représente 15% du GFA total pour les parkings et 92% du GFA total pour les bâtiments\n",
                "\n",
                "Il manque donc 85% du GFA des parkings que l'on espère retrouver dans le SecondaryPropertyUseType ou ThirdPropertyUseType"
            ]
        },
        {
            "cell_type": "code",
            "execution_count": null,
            "metadata": {},
            "outputs": [],
            "source": [
                "plt.figure(figsize=(16,10))\n",
                "sns.barplot(data=df, x=\"LargestPropertyUseType\", y=\"LargestPropertyUseTypeGFA\", order=order)\n",
                "plt.xticks(rotation=45, horizontalalignment=\"right\");"
            ]
        },
        {
            "cell_type": "code",
            "execution_count": null,
            "metadata": {},
            "outputs": [],
            "source": [
                "next_feature()"
            ]
        },
        {
            "cell_type": "code",
            "execution_count": null,
            "metadata": {},
            "outputs": [],
            "source": [
                "next_feature()"
            ]
        },
        {
            "cell_type": "code",
            "execution_count": null,
            "metadata": {},
            "outputs": [],
            "source": [
                "next_feature()"
            ]
        },
        {
            "cell_type": "code",
            "execution_count": null,
            "metadata": {},
            "outputs": [],
            "source": [
                "next_feature()"
            ]
        },
        {
            "attachments": {},
            "cell_type": "markdown",
            "metadata": {},
            "source": [
                "## PropertyUseTypes\n",
                "\n",
                "On peut maintenant utiliser ces variable pour effectuer des comparaisons"
            ]
        },
        {
            "cell_type": "code",
            "execution_count": null,
            "metadata": {},
            "outputs": [],
            "source": [
                "df.SecondLargestPropertyUseType.isna().value_counts(normalize=True)"
            ]
        },
        {
            "cell_type": "code",
            "execution_count": null,
            "metadata": {},
            "outputs": [],
            "source": [
                "df.SecondLargestPropertyUseTypeGFA.isna().value_counts(normalize=True)"
            ]
        },
        {
            "cell_type": "code",
            "execution_count": null,
            "metadata": {},
            "outputs": [],
            "source": [
                "df.ThirdLargestPropertyUseType.isna().value_counts(normalize=True)"
            ]
        },
        {
            "cell_type": "code",
            "execution_count": null,
            "metadata": {},
            "outputs": [],
            "source": [
                "df.ThirdLargestPropertyUseTypeGFA.isna().value_counts(normalize=True)"
            ]
        },
        {
            "attachments": {},
            "cell_type": "markdown",
            "metadata": {},
            "source": [
                "Les données semble correctes. On peut se dire que pour un ThirdLargestPropertyUseType null, on a un ThirdLargestPropertyUseTypeGFA null.\n",
                "\n",
                "- Le calcul de PrimaryPropertyType est défini comme : *\"function that accounts for more than 50% of a property.\"*. Je ne pense pas qu'un tel calcul aide pour nos prédiction. Je propose donc de retirer cette feature. Les mêmes données seront présentes dans LargestPropertyUseType"
            ]
        },
        {
            "cell_type": "code",
            "execution_count": null,
            "metadata": {},
            "outputs": [],
            "source": [
                "df.drop(columns=\"PrimaryPropertyType\", inplace=True)"
            ]
        },
        {
            "attachments": {},
            "cell_type": "markdown",
            "metadata": {},
            "source": [
                "On peut commencer par regarder les PropertyUseTypes présents dans les autres features que LargestPropertyUseType"
            ]
        },
        {
            "cell_type": "code",
            "execution_count": null,
            "metadata": {},
            "outputs": [],
            "source": [
                "largest_use_types = df.LargestPropertyUseType.unique()\n",
                "second_use_types = df.SecondLargestPropertyUseType.unique()\n",
                "third_use_types = df.ThirdLargestPropertyUseType.unique()\n",
                "all_use_types = list((set(largest_use_types) | set(second_use_types) | set(third_use_types)))\n",
                "all_use_types.remove(np.nan)\n",
                "all_use_types[:5]"
            ]
        },
        {
            "cell_type": "code",
            "execution_count": null,
            "metadata": {},
            "outputs": [],
            "source": [
                "set(all_use_types).difference(largest_use_types)"
            ]
        },
        {
            "attachments": {},
            "cell_type": "markdown",
            "metadata": {},
            "source": [
                "On remarque la valeur \"Multifamily Housing\". L'objectif est toujours d'effectuer des prédictions sur des bâtiments non résidentiels mais comme le bâtiment n'est pas principalement destiné à ça on peut le garder.\n",
                "\n",
                "Par rapport à ce qui a été dit avant, regardons si les parking représente 85% des types restants."
            ]
        },
        {
            "cell_type": "code",
            "execution_count": null,
            "metadata": {},
            "outputs": [],
            "source": [
                "second_property_use_type_gfa = df.groupby(\"SecondLargestPropertyUseType\").SecondLargestPropertyUseTypeGFA.sum()\n",
                "second_property_use_type_gfa_parking = second_property_use_type_gfa[\"Parking\"].sum()\n",
                "third_property_use_type_gfa = df.groupby(\"ThirdLargestPropertyUseType\").ThirdLargestPropertyUseTypeGFA.sum()\n",
                "third_property_use_type_gfa_parking = third_property_use_type_gfa[\"Parking\"].sum()\n",
                "\n",
                "(second_property_use_type_gfa_parking + third_property_use_type_gfa_parking) / parking_gfa"
            ]
        },
        {
            "attachments": {},
            "cell_type": "markdown",
            "metadata": {},
            "source": [
                "Hmmm. Je m'attendais à avoir 0.85 mais j'ai 0.97. Est-ce une erreur de calcul ou une incohérence du dataset ? Je ne sais pas mais je vais quand même conserver cette analyse"
            ]
        },
        {
            "cell_type": "code",
            "execution_count": null,
            "metadata": {},
            "outputs": [],
            "source": [
                "use_types_gfa = pd.DataFrame({\"type\":all_use_types, \"gfa\": np.zeros(len(all_use_types))}).set_index(\"type\")\n",
                "use_types_gfa.head()"
            ]
        },
        {
            "cell_type": "code",
            "execution_count": null,
            "metadata": {},
            "outputs": [],
            "source": [
                "for property_type in all_use_types:\n",
                "    if property_type in largest_property_type_gfas.index:\n",
                "        use_types_gfa.loc[property_type][\"gfa\"] += largest_property_type_gfas[property_type]\n",
                "    if property_type in second_property_use_type_gfa.index:\n",
                "        use_types_gfa.loc[property_type][\"gfa\"] += second_property_use_type_gfa[property_type]\n",
                "    if property_type in third_property_use_type_gfa.index:\n",
                "        use_types_gfa.loc[property_type][\"gfa\"] += third_property_use_type_gfa[property_type]\n",
                "\n",
                "use_types_gfa = use_types_gfa.reset_index()\n",
                "use_types_gfa.head()"
            ]
        },
        {
            "cell_type": "code",
            "execution_count": null,
            "metadata": {},
            "outputs": [],
            "source": [
                "df.columns"
            ]
        },
        {
            "cell_type": "code",
            "execution_count": null,
            "metadata": {},
            "outputs": [],
            "source": [
                "total_gfa = df.PropertyGFAParking + df[\"PropertyGFABuilding(s)\"]\n",
                "total_gfa.head()"
            ]
        },
        {
            "cell_type": "code",
            "execution_count": null,
            "metadata": {},
            "outputs": [],
            "source": [
                "plt.figure(figsize=(20,8))\n",
                "sns.barplot(data=use_types_gfa, x=\"type\", y=\"gfa\")\n",
                "plt.title(\"Total GFA per PropertyUseType\")\n",
                "plt.xticks(rotation=45, horizontalalignment=\"right\");"
            ]
        },
        {
            "attachments": {},
            "cell_type": "markdown",
            "metadata": {},
            "source": [
                "On peut maintenant en tirer des conclusions\n",
                "\n",
                "- Beaucoup de PropertyUseTypes ont un GFA très bas.\n",
                "- Il y clairement beaucoup plus d'Office ce qui explique le gros pic.\n",
                "- Le parking représente également une grande partie du GFA, ce qui peut expliquer pourquoi la feature est à part (PropertyGFAParking)"
            ]
        },
        {
            "cell_type": "code",
            "execution_count": null,
            "metadata": {},
            "outputs": [],
            "source": [
                "next_feature()"
            ]
        },
        {
            "attachments": {},
            "cell_type": "markdown",
            "metadata": {},
            "source": [
                "Feature pas très importante. Cela pourrait influencé négativement les résultats de prédiction.\n",
                "\n",
                "Ex: Si on a un bâtiment avec les mêmes données mais pas le même YearsENERGYSTARCertified"
            ]
        },
        {
            "cell_type": "code",
            "execution_count": null,
            "metadata": {},
            "outputs": [],
            "source": [
                "df.YearsENERGYSTARCertified.isna().value_counts(normalize=True)"
            ]
        },
        {
            "attachments": {},
            "cell_type": "markdown",
            "metadata": {},
            "source": [
                "En plus on a 93% de non définis"
            ]
        },
        {
            "cell_type": "code",
            "execution_count": null,
            "metadata": {},
            "outputs": [],
            "source": [
                "df.drop(columns=\"YearsENERGYSTARCertified\", inplace=True)"
            ]
        },
        {
            "cell_type": "code",
            "execution_count": null,
            "metadata": {},
            "outputs": [],
            "source": [
                "next_feature()"
            ]
        },
        {
            "attachments": {},
            "cell_type": "markdown",
            "metadata": {},
            "source": [
                "## ENERGYSTARScore\n",
                "\n",
                "Définition :\n",
                "\n",
                "*\"Based on the information you enter about your building, such as its size, location, number of occupants, number of PCs, etc., the score’s algorithm estimates how much energy the building would use if it were the best performing, the worst performing, and every level in between. It then compares the actual energy data you entered to the estimate to determine where your building ranks relative to its peers.\"* [source](https://www.energystar.gov/buildings/benchmark/understand_metrics/how_score_calculated#:~:text=How%20the%20Calculation%20Works)\n",
                "\n",
                "*\"buildings with a score of 50 perform better than 50% of their peers\"* [source](https://www.energystar.gov/buildings/tools-and-resources/portfolio-manager-technical-reference-energy-star-score)\n",
                "\n",
                "*\"The peer group for comparison is the national population of other buildings with the same primary business activity\"* [source](https://portfoliomanager.energystar.gov/pdf/reference/ENERGY%20STAR%20Score.pdf)"
            ]
        },
        {
            "cell_type": "code",
            "execution_count": null,
            "metadata": {},
            "outputs": [],
            "source": [
                "df.ENERGYSTARScore.isna().value_counts(normalize=True)"
            ]
        },
        {
            "attachments": {},
            "cell_type": "markdown",
            "metadata": {},
            "source": [
                "- 1/3 de valeurs définies pour l'ENERGYSTARScore"
            ]
        },
        {
            "cell_type": "code",
            "execution_count": null,
            "metadata": {},
            "outputs": [],
            "source": [
                "valid_energy_score_df = df[df.ENERGYSTARScore.notna()]\n",
                "plt.title(\"ENERGYSTARScore distribution\")\n",
                "sns.histplot(x=valid_energy_score_df.ENERGYSTARScore, kde=True);"
            ]
        },
        {
            "cell_type": "code",
            "execution_count": null,
            "metadata": {},
            "outputs": [],
            "source": [
                "(valid_energy_score_df.ENERGYSTARScore > 50).sum() / valid_energy_score_df.shape[0]"
            ]
        },
        {
            "attachments": {},
            "cell_type": "markdown",
            "metadata": {},
            "source": [
                "- Beaucoup de grandes valeurs. D'après la définition cela signifie qu'on a, pour la portion de bâtiments dans la ville de Seattle, 74% des bâtiments au dessus de la moyenne national pour un même secteur d'activité"
            ]
        },
        {
            "attachments": {},
            "cell_type": "markdown",
            "metadata": {},
            "source": [
                "### ENERGYSTARScore - YearBuiltRange"
            ]
        },
        {
            "cell_type": "code",
            "execution_count": null,
            "metadata": {},
            "outputs": [],
            "source": [
                "plt.figure(figsize=(14,10))\n",
                "sns.heatmap(data=pd.crosstab(pd.cut(valid_energy_score_df.ENERGYSTARScore, bins=np.arange(0,101,10)), valid_energy_score_df.YearBuiltRange))\n",
                "plt.xticks(rotation=45, horizontalalignment=\"right\");"
            ]
        },
        {
            "attachments": {},
            "cell_type": "markdown",
            "metadata": {},
            "source": [
                "- En 2010, très peu de bâtiment sont en dehors de l'intervalle 80-100.\n",
                "- Entre 1950 et 1980, le plus de bâtiment construits avec un ENERGYSTARScore faible a été atteint."
            ]
        },
        {
            "cell_type": "code",
            "execution_count": null,
            "metadata": {},
            "outputs": [],
            "source": [
                "next_feature()"
            ]
        },
        {
            "attachments": {},
            "cell_type": "markdown",
            "metadata": {},
            "source": [
                "## SiteEnergyUse(kBtu)\n",
                "\n",
                "SiteEnergyUse(kBtu) est une de nos targets."
            ]
        },
        {
            "cell_type": "code",
            "execution_count": null,
            "metadata": {},
            "outputs": [],
            "source": [
                "df[\"SiteEnergyUse(kBtu)\"].isna().sum()"
            ]
        },
        {
            "attachments": {},
            "cell_type": "markdown",
            "metadata": {},
            "source": [
                "SiteEnergyUse(kBtu) étant notre target, on va juste supprimer la ligne pour cette valeur null"
            ]
        },
        {
            "cell_type": "code",
            "execution_count": null,
            "metadata": {},
            "outputs": [],
            "source": [
                "df = df.loc[df[\"SiteEnergyUse(kBtu)\"].notna()]\n",
                "df.shape"
            ]
        },
        {
            "cell_type": "code",
            "execution_count": null,
            "metadata": {},
            "outputs": [],
            "source": [
                "sns.histplot(df, x=\"SiteEnergyUse(kBtu)\", kde=True)"
            ]
        },
        {
            "cell_type": "code",
            "execution_count": null,
            "metadata": {},
            "outputs": [],
            "source": [
                "df[\"SiteEnergyUse(kBtu)\"].skew()"
            ]
        },
        {
            "attachments": {},
            "cell_type": "markdown",
            "metadata": {},
            "source": [
                "On a clairement des données skewées sur la droite pour cette target, c'est à retenir pour quand on fera nos encodages. On pourra certainement utiliser le log qui est une très bonne méthode pour scaler des données skewée"
            ]
        },
        {
            "attachments": {},
            "cell_type": "markdown",
            "metadata": {},
            "source": [
                "### SiteEnergyUse(kBtu) - GFA"
            ]
        },
        {
            "cell_type": "code",
            "execution_count": null,
            "metadata": {},
            "outputs": [],
            "source": [
                "plt.figure(figsize=(10,6))\n",
                "sns.scatterplot(data=df, x=\"SiteEnergyUse(kBtu)\", y=total_gfa, hue=\"Parking\", palette=sns.color_palette(\"blend:blue,yellow\", n_colors=2), alpha=0.7)\n",
                "plt.title(\"SiteEnergyUse by the TotalGFA by Parking\")\n",
                "plt.ylabel(\"TotalGFA\");"
            ]
        },
        {
            "attachments": {},
            "cell_type": "markdown",
            "metadata": {},
            "source": [
                "### SiteEnergyUse(kBtu) - YearBuiltRange"
            ]
        },
        {
            "cell_type": "code",
            "execution_count": null,
            "metadata": {},
            "outputs": [],
            "source": [
                "from pandas.api.types import is_numeric_dtype\n",
                "\n",
                "def continuous_discret_viz(df, x, y):\n",
                "    labels = pd.Series(df[x].unique()).sort_values()\n",
                "    fig, axs = plt.subplots(1, 2, figsize=(22,6))\n",
                "    axs[0].set_title(f\"{y} for each {x}s\")\n",
                "    g = sns.boxplot(data=df, x=x, y=y, showfliers=False, showmeans=True, ax=axs[0])\n",
                "    if(not is_numeric_dtype(df[x])):\n",
                "        g.set_xticklabels(labels, rotation=45, ha=\"right\")\n",
                "    axs[1].set_title(f\"{x} count\")\n",
                "    g = sns.countplot(data=df, x=x, ax=axs[1], edgecolor=\"black\")\n",
                "    if(not is_numeric_dtype(df[x])):\n",
                "        g.set_xticklabels(labels, rotation=45, ha=\"right\")\n",
                "    plt.show()\n",
                "\n",
                "continuous_discret_viz(df, \"YearBuiltRange\", target_cols[1])"
            ]
        },
        {
            "attachments": {},
            "cell_type": "markdown",
            "metadata": {},
            "source": [
                "- On consomme plus d'électricité de nos jours pour un quasi même nombre de bâtiments"
            ]
        },
        {
            "cell_type": "code",
            "execution_count": null,
            "metadata": {},
            "outputs": [],
            "source": [
                "next_feature()"
            ]
        },
        {
            "attachments": {},
            "cell_type": "markdown",
            "metadata": {},
            "source": [
                "À supprimer"
            ]
        },
        {
            "cell_type": "code",
            "execution_count": null,
            "metadata": {},
            "outputs": [],
            "source": [
                "df.drop(columns=\"DefaultData\", inplace=True)"
            ]
        },
        {
            "cell_type": "code",
            "execution_count": null,
            "metadata": {},
            "outputs": [],
            "source": [
                "next_feature()"
            ]
        },
        {
            "attachments": {},
            "cell_type": "markdown",
            "metadata": {},
            "source": [
                "## ComplianceStatus\n",
                "\n",
                "Description :\n",
                "\n",
                "*\"Whether a property has met energy benchmarking requirements for the current reporting year.\"*\n",
                "\n",
                "Cela nous importe peu dans notre cas d'étude"
            ]
        },
        {
            "cell_type": "code",
            "execution_count": null,
            "metadata": {},
            "outputs": [],
            "source": [
                "df.ComplianceStatus.unique()"
            ]
        },
        {
            "attachments": {},
            "cell_type": "markdown",
            "metadata": {},
            "source": [
                "Mais on remarque qu'il y a des valeurs un peu bizzares"
            ]
        },
        {
            "cell_type": "code",
            "execution_count": null,
            "metadata": {},
            "outputs": [],
            "source": [
                "df.loc[df.ComplianceStatus == \"Missing Data\", \"SiteEnergyUse(kBtu)\"].max()"
            ]
        },
        {
            "attachments": {},
            "cell_type": "markdown",
            "metadata": {},
            "source": [
                "Pour \"Missing Data\" il semblerait qu'il manque la target SiteEnergyUse. On peut donc retirer ces lignes."
            ]
        },
        {
            "cell_type": "code",
            "execution_count": null,
            "metadata": {},
            "outputs": [],
            "source": [
                "df = df[~(df.ComplianceStatus == \"Missing Data\")]"
            ]
        },
        {
            "cell_type": "code",
            "execution_count": null,
            "metadata": {},
            "outputs": [],
            "source": [
                "df.loc[df.ComplianceStatus == \"Error - Correct Default Data\",\"ENERGYSTARScore\"].isna().sum()"
            ]
        },
        {
            "attachments": {},
            "cell_type": "markdown",
            "metadata": {},
            "source": [
                "Il semblerait que cette donnée fasse référence au fait que l'ENERGYSTARScore ne soit pas null. On peut donc conserver ces lignes. On peut par contre supprimer la feature qui ne sera pas utile."
            ]
        },
        {
            "cell_type": "code",
            "execution_count": null,
            "metadata": {},
            "outputs": [],
            "source": [
                "df.drop(columns=\"ComplianceStatus\", inplace=True)\n",
                "next_feature()"
            ]
        },
        {
            "attachments": {},
            "cell_type": "markdown",
            "metadata": {},
            "source": [
                "## Outlier\n",
                "\n",
                "Outlier peut nous permettre de justement détecter les outliers. C'est rare qu'un dataset nous fournisse directement l'information comme quoi une donnée est un outlier. Il faut donc en profiter.\n",
                "\n",
                "On peut commencer par regarder combien il y a de données annotées comme Outlier et si c'est bien le cas."
            ]
        },
        {
            "cell_type": "code",
            "execution_count": null,
            "metadata": {},
            "outputs": [],
            "source": [
                "df.Outlier.isna().value_counts()"
            ]
        },
        {
            "attachments": {},
            "cell_type": "markdown",
            "metadata": {},
            "source": [
                "D'après cette variable il y aurait 15 outliers"
            ]
        },
        {
            "cell_type": "code",
            "execution_count": null,
            "metadata": {},
            "outputs": [],
            "source": [
                "df.Outlier.unique()"
            ]
        },
        {
            "cell_type": "code",
            "execution_count": null,
            "metadata": {},
            "outputs": [],
            "source": [
                "outliers = [\"High outlier\", \"Low outlier\"]\n",
                "df[df.Outlier.isin(outliers)]"
            ]
        },
        {
            "attachments": {},
            "cell_type": "markdown",
            "metadata": {},
            "source": [
                "Il semblerait que les outliers soient considérés ainsi par leur ENERGYSTARScore"
            ]
        },
        {
            "cell_type": "code",
            "execution_count": null,
            "metadata": {},
            "outputs": [],
            "source": [
                "df[[\"PropertyGFABuilding(s)\", \"SiteEnergyUse(kBtu)\", \"TotalGHGEmissions\", \"ENERGYSTARScore\"]].describe()"
            ]
        },
        {
            "cell_type": "code",
            "execution_count": null,
            "metadata": {},
            "outputs": [],
            "source": [
                "df.Outlier.isin(outliers).value_counts()"
            ]
        },
        {
            "cell_type": "code",
            "execution_count": null,
            "metadata": {},
            "outputs": [],
            "source": [
                "plt.figure(figsize=(10,6))\n",
                "sns.scatterplot(data=df, x=\"ENERGYSTARScore\", y=\"TotalGHGEmissions\", hue=df.Outlier.isin(outliers), alpha=0.5, palette=sns.color_palette(\"blend:blue,red\", n_colors=2))"
            ]
        },
        {
            "cell_type": "code",
            "execution_count": null,
            "metadata": {},
            "outputs": [],
            "source": [
                "plt.figure(figsize=(10,6))\n",
                "sns.scatterplot(data=df, x=\"PropertyGFABuilding(s)\", y=\"SiteEnergyUse(kBtu)\", hue=df.Outlier.isin(outliers), alpha=0.5, palette=sns.color_palette(\"blend:blue,red\", n_colors=2))"
            ]
        },
        {
            "attachments": {},
            "cell_type": "markdown",
            "metadata": {},
            "source": [
                "Or on voir que ce ne sont pas vraiment les seuls outliers et qu'ils font parti d'autres clusters déjà existant et pas annoté comme \"Outliers\". Il ne faudait peut-être pas faire confiance à la feature Outlier. D'Autant plus que ces \"outliers\" sont également caractérisés par différents types pour les bâtiments (ce ne sont pas uniquement des \"Office\")"
            ]
        },
        {
            "cell_type": "code",
            "execution_count": null,
            "metadata": {},
            "outputs": [],
            "source": [
                "df.drop(columns=\"Outlier\", inplace=True)\n",
                "next_feature()"
            ]
        },
        {
            "attachments": {},
            "cell_type": "markdown",
            "metadata": {},
            "source": [
                "## TotalGHGEmissions\n",
                "\n",
                "Voici notre 2ème target"
            ]
        },
        {
            "cell_type": "code",
            "execution_count": null,
            "metadata": {},
            "outputs": [],
            "source": [
                "df.TotalGHGEmissions.isna().sum()"
            ]
        },
        {
            "cell_type": "code",
            "execution_count": null,
            "metadata": {},
            "outputs": [],
            "source": [
                "df[\"TotalGHGEmissions\"].describe()"
            ]
        },
        {
            "cell_type": "code",
            "execution_count": null,
            "metadata": {},
            "outputs": [],
            "source": [
                "df.loc[df[\"TotalGHGEmissions\"] < 0, \"TotalGHGEmissions\"] = 0"
            ]
        },
        {
            "cell_type": "code",
            "execution_count": null,
            "metadata": {},
            "outputs": [],
            "source": [
                "sns.histplot(df, x=\"TotalGHGEmissions\", kde=True)"
            ]
        },
        {
            "cell_type": "code",
            "execution_count": null,
            "metadata": {},
            "outputs": [],
            "source": [
                "df.TotalGHGEmissions.skew()"
            ]
        },
        {
            "attachments": {},
            "cell_type": "markdown",
            "metadata": {},
            "source": [
                "Cette target est également swewée"
            ]
        },
        {
            "attachments": {},
            "cell_type": "markdown",
            "metadata": {},
            "source": [
                "### TotalGHGEmissions - LargestPropertyUseTypeGFA"
            ]
        },
        {
            "cell_type": "code",
            "execution_count": null,
            "metadata": {},
            "outputs": [],
            "source": [
                "plt.figure(figsize=(16,10))\n",
                "sns.scatterplot(data=df, x=\"LargestPropertyUseTypeGFA\", y=\"TotalGHGEmissions\")\n",
                "sns.lineplot(x=[0, 1.75e6], y=[0, 1.3e4], color=\"green\")\n",
                "sns.lineplot(x=[0, 1.75e6], y=[0, 1e3], color=\"green\")\n",
                "plt.title(\"TotalGHGEmissions by LargestPropertyUseTypeGFA\");"
            ]
        },
        {
            "attachments": {},
            "cell_type": "markdown",
            "metadata": {},
            "source": [
                "- Beaucoup de valeurs basses pour les 2 features\n",
                "- Quelques outliers, on remarque 2 tendances linéaires différentes"
            ]
        },
        {
            "attachments": {},
            "cell_type": "markdown",
            "metadata": {},
            "source": [
                "### TotalGHGEmissions - Longitude/Latitude"
            ]
        },
        {
            "cell_type": "code",
            "execution_count": null,
            "metadata": {},
            "outputs": [],
            "source": [
                "# Neighborhood centers for latitude/longitude\n",
                "neighborhood_centers = df.groupby(\"Neighborhood\")[[\"Latitude\", \"Longitude\"]].mean()\n",
                "\n",
                "plt.figure(figsize=(18,12))\n",
                "sns.scatterplot(df, x=\"Longitude\", y=\"Latitude\", size=\"TotalGHGEmissions\", sizes=(40, 1000), alpha=0.5, hue=\"Neighborhood\")\n",
                "for text in neighborhood_centers.index:\n",
                "    latitude, longitude = neighborhood_centers.loc[text]\n",
                "    plt.text(longitude, latitude, text, horizontalalignment='center')\n",
                "plt.title(\"TotalGHGEmissions with latitude/longitude of building colored by neighborhood\");"
            ]
        },
        {
            "attachments": {},
            "cell_type": "markdown",
            "metadata": {},
            "source": [
                "- 1 grosse valeur dans NORTHEAST et CENTRAL\n",
                "- EAST semble être une zone à forte tendance d'émission (zone industrielle ?)"
            ]
        },
        {
            "attachments": {},
            "cell_type": "markdown",
            "metadata": {},
            "source": [
                "### TotalGHGEmissions - CouncilDistrictCode"
            ]
        },
        {
            "cell_type": "code",
            "execution_count": null,
            "metadata": {},
            "outputs": [],
            "source": [
                "continuous_discret_viz(df, \"CouncilDistrictCode\", target_cols[0])"
            ]
        },
        {
            "attachments": {},
            "cell_type": "markdown",
            "metadata": {},
            "source": [
                "- La médiane des différents CouncilDistrictCode sont très proches les unes des autres.\n",
                "- Les districts 3 et 7 ont de grandes valeurs max, ce qui peut s'expliquer par leur nombre"
            ]
        },
        {
            "cell_type": "code",
            "execution_count": null,
            "metadata": {},
            "outputs": [],
            "source": [
                "next_feature()"
            ]
        },
        {
            "attachments": {},
            "cell_type": "markdown",
            "metadata": {},
            "source": [
                "## GHGEmissionsIntensity\n",
                "\n",
                "Je n'avais pas retiré cette variable au début de mon analyse. Donc j'ai toujours l'analyse que j'ai effectué dessus mais le code ne marchera pas car la feature a été retirée plus haut"
            ]
        },
        {
            "cell_type": "code",
            "execution_count": null,
            "metadata": {},
            "outputs": [],
            "source": [
                "#df.GHGEmissionsIntensity.isna().sum()"
            ]
        },
        {
            "cell_type": "code",
            "execution_count": null,
            "metadata": {},
            "outputs": [],
            "source": [
                "#df.corrwith(df.GHGEmissionsIntensity)"
            ]
        },
        {
            "attachments": {},
            "cell_type": "markdown",
            "metadata": {},
            "source": [
                "### GHGEmissionsIntensity - TotalGHGEmissions"
            ]
        },
        {
            "cell_type": "code",
            "execution_count": null,
            "metadata": {},
            "outputs": [],
            "source": [
                "#sns.scatterplot(data=df, x=\"GHGEmissionsIntensity\", y=\"TotalGHGEmissions\")"
            ]
        },
        {
            "attachments": {},
            "cell_type": "markdown",
            "metadata": {},
            "source": [
                "### GHGEmissionsIntensity - Longitude/Latitude"
            ]
        },
        {
            "cell_type": "code",
            "execution_count": null,
            "metadata": {},
            "outputs": [],
            "source": [
                "# plt.figure(figsize=(18,12))\n",
                "# sns.scatterplot(df, x=\"Longitude\", y=\"Latitude\", size=\"GHGEmissionsIntensity\", sizes=(40, 1000), alpha=0.5, hue=\"Neighborhood\")\n",
                "# for text in neighborhood_centers.index:\n",
                "#     latitude, longitude = neighborhood_centers.loc[text]\n",
                "#     plt.text(longitude, latitude, text, horizontalalignment='center')\n",
                "# plt.title(\"TotalGHGEmissions with latitude/longitude of building colored by neighborhood\");"
            ]
        },
        {
            "attachments": {},
            "cell_type": "markdown",
            "metadata": {},
            "source": [
                "- EAST est cohérent avec les emissions en CO2 totales.\n",
                "- Intensité globalement répartie entre quartiers. Peu d'intensité dans le GREATER DUWAMISH"
            ]
        },
        {
            "cell_type": "code",
            "execution_count": null,
            "metadata": {},
            "outputs": [],
            "source": [
                "#next_feature()"
            ]
        },
        {
            "attachments": {},
            "cell_type": "markdown",
            "metadata": {},
            "source": [
                "C'était notre dernière feature"
            ]
        },
        {
            "attachments": {},
            "cell_type": "markdown",
            "metadata": {},
            "source": [
                "## Title"
            ]
        },
        {
            "cell_type": "code",
            "execution_count": null,
            "metadata": {},
            "outputs": [],
            "source": [
                "nulls(df)"
            ]
        },
        {
            "attachments": {},
            "cell_type": "markdown",
            "metadata": {},
            "source": [
                "## Analyse\n"
            ]
        },
        {
            "cell_type": "code",
            "execution_count": null,
            "metadata": {},
            "outputs": [],
            "source": [
                "def corr(df):\n",
                "    plt.figure(figsize=(14, 11))\n",
                "    sns.heatmap(df.corr(), annot=True)\n",
                "\n",
                "corr(df)"
            ]
        },
        {
            "cell_type": "code",
            "execution_count": null,
            "metadata": {},
            "outputs": [],
            "source": [
                "for o in df.select_dtypes(\"object\"):\n",
                "    s = df[o].unique().size\n",
                "    if s > 20:\n",
                "        print(f\"{o} contains {s} different values\")\n",
                "    else:\n",
                "        plt.figure()\n",
                "        df[o].value_counts().plot.pie()"
            ]
        },
        {
            "cell_type": "code",
            "execution_count": null,
            "metadata": {},
            "outputs": [],
            "source": [
                "df = df.drop(columns=\"YearBuilt\")"
            ]
        },
        {
            "attachments": {},
            "cell_type": "markdown",
            "metadata": {},
            "source": [
                "## Utilité de l'ENERGYSTARTScore"
            ]
        },
        {
            "attachments": {},
            "cell_type": "markdown",
            "metadata": {},
            "source": [
                "Afin d'avoir une comparaison juste on peut utiliser la consommation pour une surface."
            ]
        },
        {
            "cell_type": "code",
            "execution_count": null,
            "metadata": {},
            "outputs": [],
            "source": [
                "[x for x in df.columns if \"GFA\" in x]"
            ]
        },
        {
            "cell_type": "code",
            "execution_count": null,
            "metadata": {},
            "outputs": [],
            "source": [
                "emission_ft = df.TotalGHGEmissions / (df[\"PropertyGFABuilding(s)\"] + df.PropertyGFAParking)\n",
                "emission_ft.head()"
            ]
        },
        {
            "cell_type": "code",
            "execution_count": null,
            "metadata": {},
            "outputs": [],
            "source": [
                "electricity_ft = df[\"SiteEnergyUse(kBtu)\"] / (df[\"PropertyGFABuilding(s)\"] + df.PropertyGFAParking)\n",
                "electricity_ft.head()"
            ]
        },
        {
            "cell_type": "code",
            "execution_count": null,
            "metadata": {},
            "outputs": [],
            "source": [
                "energy_range = pd.cut(df.ENERGYSTARScore, bins=range(0,101, 20))\n",
                "energy_range.head()"
            ]
        },
        {
            "cell_type": "code",
            "execution_count": null,
            "metadata": {},
            "outputs": [],
            "source": [
                "plt.figure(figsize=(14,8))\n",
                "sns.scatterplot(x=emission_ft, y=electricity_ft, hue=energy_range, palette=\"RdBu\", alpha=0.9)\n",
                "plt.title(\"Electricity/ft by the Emission/ft colored by ENERGYSTARScore\")\n",
                "plt.xlabel(\"Emission/ft\")\n",
                "plt.ylabel(\"Electricity/ft\")\n",
                "plt.show()"
            ]
        },
        {
            "attachments": {},
            "cell_type": "markdown",
            "metadata": {},
            "source": [
                "Certains outliers sont présents et suggèrent qu'il y a une forte consommation d'électricité / emission (plus en haut à droite, plus il y a une consommation élevée pour la surface)\n",
                "\n",
                "Ces résultats sont assez perturbant. En effet, on s'attends à ce que les meilleurs ENERGYSTARScore soient présents en bas à gauche du graphique. Ce n'est pas le cas. On remarque une distribution assez hétérogène des datapoints.\n",
                "\n",
                "On peut émettre 2 hypothèses :\n",
                "\n",
                "- L'ENERGYSTARScore n'est pas un score fiable\n",
                "- L'ENERGYSTARScore ne prends pas uniquement en compte les émissions / consommation électrique (c'est un fait) et d'autres facteurs peuvent influencer grandement le score attribué à certains bâtiments. Il est notamment mentionné que dans le calcul de ce score le nombre de personnes ou encore l'environnement (climatique...)."
            ]
        },
        {
            "attachments": {},
            "cell_type": "markdown",
            "metadata": {},
            "source": [
                "# Export\n",
                "\n",
                "On va sélectionner les variables importantes pour nos prédictions uniquement"
            ]
        },
        {
            "cell_type": "code",
            "execution_count": null,
            "metadata": {},
            "outputs": [],
            "source": [
                "df.columns"
            ]
        },
        {
            "cell_type": "code",
            "execution_count": null,
            "metadata": {},
            "outputs": [],
            "source": [
                "important = ['BuildingType', 'ZipCode', 'CouncilDistrictCode', 'Neighborhood',\n",
                "        'Latitude', 'Longitude', 'PropertyGFAParking', 'PropertyGFABuilding(s)',\n",
                "        'LargestPropertyUseType', 'LargestPropertyUseTypeGFA',\n",
                "        'SecondLargestPropertyUseType', 'SecondLargestPropertyUseTypeGFA',\n",
                "        'ThirdLargestPropertyUseType', 'ThirdLargestPropertyUseTypeGFA',\n",
                "        'SiteEnergyUse(kBtu)', 'TotalGHGEmissions', 'YearBuiltRange',\n",
                "        'Parking', 'ENERGYSTARScore']\n",
                "df = df[important]"
            ]
        },
        {
            "cell_type": "code",
            "execution_count": null,
            "metadata": {},
            "outputs": [],
            "source": [
                "plt.figure(figsize=(9,7))\n",
                "sns.heatmap(df.corr())"
            ]
        },
        {
            "cell_type": "code",
            "execution_count": null,
            "metadata": {},
            "outputs": [],
            "source": [
                "df.columns"
            ]
        },
        {
            "attachments": {},
            "cell_type": "markdown",
            "metadata": {},
            "source": [
                "Certaines variables sont fortement corrélées et certaines pourraient être retirées. On fera un choix en fonction de la précision de nos prédictions"
            ]
        },
        {
            "cell_type": "code",
            "execution_count": null,
            "metadata": {},
            "outputs": [],
            "source": [
                "df.to_csv(\"cleaned.csv\", index=False)"
            ]
        }
    ],
    "metadata": {
        "kernelspec": {
            "display_name": "oc",
            "language": "python",
            "name": "python3"
        },
        "language_info": {
            "codemirror_mode": {
                "name": "ipython",
                "version": 3
            },
            "file_extension": ".py",
            "mimetype": "text/x-python",
            "name": "python",
            "nbconvert_exporter": "python",
            "pygments_lexer": "ipython3",
            "version": "3.10.6"
        },
        "orig_nbformat": 4,
        "vscode": {
            "interpreter": {
                "hash": "e297204aacfc4597d7d358135a658faf9a53ab85f698c95c4e6ba1d206a216bb"
            }
        }
    },
    "nbformat": 4,
    "nbformat_minor": 2
}
