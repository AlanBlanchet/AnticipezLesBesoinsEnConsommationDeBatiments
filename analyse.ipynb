{
    "cells": [
        {
            "attachments": {},
            "cell_type": "markdown",
            "metadata": {},
            "source": [
                "# Objectif\n",
                "\n",
                "- Prédire les émissions de CO2 (TotalGHGEmissions)\n",
                "- Prédire la consommation totale d'énérgie (SiteEnergyUseWN(kBtu) ou SiteEnergyUse(kBtu))\n",
                "- Prendre en compte uniquement les bâtiments non destinés à l'habitation\n",
                "- Evaluer l'intérêt de la feature \"ENERGYSTARScore\" car fastidieux à calculer\n",
                "\n",
                "L'énoncé nous précise que ces données sont compliquées à obtenir d'où l'intérêt de créer un modèle d'IA pouvant prédire les données futurs à partir d'un échantillon de 2016\n",
                "\n",
                "## Targets\n",
                "\n",
                "**Nos targets sont donc** :\n",
                "- TotalGHGEmissions\n",
                "- SiteEnergyUse(kBtu) ou SiteEnergyUseWN(kBtu)\n",
                "\n",
                "# Exploratory Data Analysis\n",
                "\n",
                "## Analyse rapide\n",
                "\n",
                "- 3376 lignes, 46 colonnes\n",
                "- 27 valeurs discrètes, 12 valeurs catégorielles\n",
                "\n",
                "## Suppressions\n",
                "\n",
                "- OSEBuildingId ne nous est d'aucune utilité\n",
                "- À travers la colonne \"Outlier\". On utilise cette donnée dès le début car sinon les traitements futurs vont la retirer (\"Outlier\" possède 99% de `NaN`)\n",
                "- On garde les features qui ont assez de données. Une feature avec une majorité de `NaN` ne nous sera d'aucune utilité\n",
                "    - 3 features ont un ratio > 90% de valeurs non définies\n",
                "    - 4 features ont 1 voir 0 types de données\n",
                "- Sélectionner les lignes qui respectent le prérequis des bâtiments non destinées à l'habitation\n",
                "    - Le type de bâtiment (BuildingType)\n",
                "    - La colonne \"ComplianceStatus\"\n",
                "    - La colonne \"PrimaryPropertyType\"\n",
                "- On supprime le peu d'outliers qui n'ont pas été détectés avec la colonne Outlier.\n",
                "\n",
                "Après ce traitement, on se rend compte qu'on a une majorité de valeurs définies pour plein de features. Vu qu'il nous reste 1300 lignes après conservation des données suivant les critères ci-dessus, on voir données manquantes sont représentées en lignes (sur le graphique) et au vu du peu de données manquantes sur les colonnes, on peut tout simplement supprimer ces lignes car trop laborieux de les traiter pour une faible plus-value.\n",
                "\n",
                "**Post traitement** :\n",
                "\n",
                "- 1327 lignes, 40 colonnes\n",
                "- **DefaultData** : pourrait avoir un impacte négatif. En effet, d'après la documentation sur cette variable elle signifie, quand vraie, qu'une colonne a été remplie à partir de valeurs par défaut. Cette valeur aurait pu être importante pour nos prédictions. On pourra l'analyser dans une étape d'optimisation.\n",
                "    - Après traitement, cette valeur ne possède que des valeurs False. Elle n'est donc plus utile au projet\n",
                "- **ComplianceStatus** : Valeur \"Compliant\" uniquement. On peut donc retirer cette feature\n",
                "\n",
                "## Analyse\n",
                "\n",
                "### Corrélations\n",
                "\n",
                "- Les variables standardes et WN/bBtu... sont très corrélées\n",
                "    - Peu d'impacte sur les mêmes données avec des grandeurs différentes (qui possèdent malgré tout des fluctuations aussi petites soient-elles)\n",
                "- SourceEUI et SiteEUI très corrélé\n",
                "- EnergyUse et Electricity très corrélé\n",
                "\n",
                "### Distribution\n",
                "\n",
                "- **ENERGYSTARScore**\n",
                "    - Une majorité de valeurs élevées\n",
                "- **Les 2 targets**\n",
                "    - Liens à vérifier entre TotalGHGEmissions et\n",
                "        - NumberofBuildings\n",
                "        - NumberofFloors\n",
                "        - PropertyGFATotal\n",
                "        - PropertyGFAParking\n",
                "        - PropertyGFABuilding(s)\n",
                "        - LargestPropertyUseTypeGFA\n",
                "        - SiteEnergyUse(kBtu)\n",
                "        - SiteEnergyUseWN(kBtu)\n",
                "        - SteamUse(kBtu)\n",
                "        - Electricity(kWh)\n",
                "        - Electricity(kBtu)\n",
                "        - NaturalGas(therms)\n",
                "        - NaturalGas(kBtu)\n",
                "        - TotalGHGEmissions\n",
                "- **Des données par type**\n",
                "\n",
                "# Pre-processing\n",
                "\n",
                "# Modeling    "
            ]
        },
        {
            "attachments": {},
            "cell_type": "markdown",
            "metadata": {},
            "source": [
                "# Exploratory Data Analysis\n",
                "\n",
                "## Analyse rapide"
            ]
        },
        {
            "cell_type": "code",
            "execution_count": null,
            "metadata": {},
            "outputs": [],
            "source": [
                "import numpy as np\n",
                "import pandas as pd\n",
                "import matplotlib.pyplot as plt\n",
                "import plotly.express as px\n",
                "import plotly.subplots as ps\n",
                "import seaborn as sns\n",
                "import math\n",
                "\n",
                "pd.options.display.max_columns = 50\n",
                "np.set_printoptions(linewidth=180)\n",
                "sns.set_style(\"dark\")\n",
                "%matplotlib inline\n",
                "\n",
                "# Servira pour la partie analyse\n",
                "target_cols = [\"TotalGHGEmissions\", \"SiteEnergyUseWN(kBtu)\"]"
            ]
        },
        {
            "attachments": {},
            "cell_type": "markdown",
            "metadata": {},
            "source": [
                "# Analyse & Traitement rapide"
            ]
        },
        {
            "cell_type": "code",
            "execution_count": null,
            "metadata": {},
            "outputs": [],
            "source": [
                "df = pd.read_csv(\"2016_Building_Energy_Benchmarking.csv\")\n",
                "df.head()"
            ]
        },
        {
            "cell_type": "code",
            "execution_count": null,
            "metadata": {},
            "outputs": [],
            "source": [
                "df.shape"
            ]
        },
        {
            "cell_type": "code",
            "execution_count": null,
            "metadata": {},
            "outputs": [],
            "source": [
                "df.describe()"
            ]
        },
        {
            "attachments": {},
            "cell_type": "markdown",
            "metadata": {},
            "source": [
                "On regarde les colonnes et leur type"
            ]
        },
        {
            "cell_type": "code",
            "execution_count": null,
            "metadata": {},
            "outputs": [],
            "source": [
                "df.dtypes.value_counts()"
            ]
        },
        {
            "cell_type": "code",
            "execution_count": null,
            "metadata": {},
            "outputs": [],
            "source": [
                "df = df.drop(columns=\"OSEBuildingID\")"
            ]
        },
        {
            "attachments": {},
            "cell_type": "markdown",
            "metadata": {},
            "source": [
                "Outliers sera supprimé plus tard dû au nombre de valeurs `NaN`. Profitons-en et analysons le peu de valeurs disponibles"
            ]
        },
        {
            "cell_type": "code",
            "execution_count": null,
            "metadata": {},
            "outputs": [],
            "source": [
                "df.Outlier.unique()"
            ]
        },
        {
            "cell_type": "code",
            "execution_count": null,
            "metadata": {},
            "outputs": [],
            "source": [
                "df = df[df.Outlier.isin(values=[np.nan])]\n",
                "df.Outlier.unique()"
            ]
        },
        {
            "attachments": {},
            "cell_type": "markdown",
            "metadata": {},
            "source": [
                "On regarde le nombre de nulls"
            ]
        },
        {
            "cell_type": "code",
            "execution_count": null,
            "metadata": {},
            "outputs": [],
            "source": [
                "def nulls(df):\n",
                "    plt.figure(figsize=(20,8))\n",
                "    plt.title(\"Répartition des valeurs non définies sous forme de heatmap\")\n",
                "    g = sns.heatmap(df.isna(), cbar=False)\n",
                "    g.set_xticklabels(df.columns, rotation=45, ha=\"right\")\n",
                "    plt.plot()\n",
                "    \n",
                "nulls(df)"
            ]
        },
        {
            "cell_type": "code",
            "execution_count": null,
            "metadata": {},
            "outputs": [],
            "source": [
                "(df.isna().sum() / df.shape[0]).sort_values(ascending=False)"
            ]
        },
        {
            "cell_type": "code",
            "execution_count": null,
            "metadata": {},
            "outputs": [],
            "source": [
                "df.nunique().sort_values()"
            ]
        },
        {
            "cell_type": "code",
            "execution_count": null,
            "metadata": {},
            "outputs": [],
            "source": [
                "df = df[df.columns[(((df.isna().sum() / df.shape[0]) < 0.9) & (df.nunique() >= 2))]]\n",
                "df"
            ]
        },
        {
            "attachments": {},
            "cell_type": "markdown",
            "metadata": {},
            "source": [
                "On peut regarder quelles valeurs on a avec certaines colonnes"
            ]
        },
        {
            "cell_type": "code",
            "execution_count": null,
            "metadata": {},
            "outputs": [],
            "source": [
                "df.ComplianceStatus.unique()"
            ]
        },
        {
            "cell_type": "code",
            "execution_count": null,
            "metadata": {},
            "outputs": [],
            "source": [
                "df.CouncilDistrictCode.unique()"
            ]
        },
        {
            "cell_type": "code",
            "execution_count": null,
            "metadata": {},
            "outputs": [],
            "source": [
                "df.BuildingType.unique()"
            ]
        },
        {
            "cell_type": "code",
            "execution_count": null,
            "metadata": {},
            "outputs": [],
            "source": [
                "df.PrimaryPropertyType.unique()"
            ]
        },
        {
            "cell_type": "code",
            "execution_count": null,
            "metadata": {},
            "outputs": [],
            "source": [
                "df.LargestPropertyUseType.unique()"
            ]
        },
        {
            "attachments": {},
            "cell_type": "markdown",
            "metadata": {},
            "source": [
                "On veut conserver uniquement les lignes utiles et les bâtiments non destinés à l'habitation\n",
                "\n",
                "On peut utiliser :\n",
                "- Le type de bâtiment\n",
                "- La colonne \"ComplianceStatus\"\n",
                "- La colonne \"PrimaryPropertyType\""
            ]
        },
        {
            "cell_type": "code",
            "execution_count": null,
            "metadata": {},
            "outputs": [],
            "source": [
                "df = df[~df.BuildingType.isin(values=[\"Multifamily MR (5-9)\", \"Multifamily LR (1-4)\", \"Multifamily HR (10+)\"])]\n",
                "df.BuildingType.unique()"
            ]
        },
        {
            "cell_type": "code",
            "execution_count": null,
            "metadata": {},
            "outputs": [],
            "source": [
                "df = df[~df.ComplianceStatus.isin(values=[\"Missing Data\", \"Error - Correct Default Data\"])]\n",
                "df.ComplianceStatus.unique()"
            ]
        },
        {
            "cell_type": "code",
            "execution_count": null,
            "metadata": {},
            "outputs": [],
            "source": [
                "df = df[~df.PrimaryPropertyType.isin(values=[\"Hotel\", \"Mixed Use Property\", \"Residence Hall\", \"Low-Rise Multifamily\"])]\n",
                "df.PrimaryPropertyType.unique()"
            ]
        },
        {
            "cell_type": "code",
            "execution_count": null,
            "metadata": {},
            "outputs": [],
            "source": [
                "df = df[~df.LargestPropertyUseType.isin(values=[\"Other - Lodging/Residential\", \"Residential Care Facility\"])]\n",
                "df.LargestPropertyUseType.unique()"
            ]
        },
        {
            "cell_type": "code",
            "execution_count": null,
            "metadata": {},
            "outputs": [],
            "source": [
                "nulls(df)"
            ]
        },
        {
            "attachments": {},
            "cell_type": "markdown",
            "metadata": {},
            "source": [
                "On remarque qu'il a beaucoup de features pour lesquelles les données sont toutes définies.\n",
                "\n",
                "Il y a seulement quelques données pour les features : LargestPropertyUseTypeGFA ; SiteEUI(kBtu/sf) ; SiteEnergyUseWN(kBtu) ... dont les données sont manquantes.\n",
                "\n",
                "On peut utiliser les 3 features mentionnées pour repérer les `NaN` et les retirer car elles ne représentent pas une très grande proportion du dataset, donc pas besoin d'imputer par la moyenne ou la médiane."
            ]
        },
        {
            "cell_type": "code",
            "execution_count": null,
            "metadata": {},
            "outputs": [],
            "source": [
                "df[[\"LargestPropertyUseTypeGFA\", \"SiteEUI(kBtu/sf)\", \"SiteEnergyUseWN(kBtu)\"]].isna().sum()"
            ]
        },
        {
            "cell_type": "code",
            "execution_count": null,
            "metadata": {},
            "outputs": [],
            "source": [
                "(df[\"LargestPropertyUseTypeGFA\"].isna() | df[\"SiteEUI(kBtu/sf)\"].isna() | df[\"SiteEnergyUseWN(kBtu)\"].isna()).value_counts()"
            ]
        },
        {
            "cell_type": "code",
            "execution_count": null,
            "metadata": {},
            "outputs": [],
            "source": [
                "df = df[~(df[\"LargestPropertyUseTypeGFA\"].isna() | df[\"SiteEUI(kBtu/sf)\"].isna() | df[\"SiteEnergyUseWN(kBtu)\"].isna())]\n",
                "nulls(df)"
            ]
        },
        {
            "cell_type": "code",
            "execution_count": null,
            "metadata": {},
            "outputs": [],
            "source": [
                "df.drop(columns=[\"ENERGYSTARScore\", \"SecondLargestPropertyUseType\", \"SecondLargestPropertyUseTypeGFA\", \"ThirdLargestPropertyUseType\",\"ThirdLargestPropertyUseTypeGFA\", \"ZipCode\"]).isna().sum().sum()"
            ]
        },
        {
            "attachments": {},
            "cell_type": "markdown",
            "metadata": {},
            "source": [
                "Hormis les colonne ci-dessus, on a que des valeurs définies"
            ]
        },
        {
            "cell_type": "code",
            "execution_count": null,
            "metadata": {},
            "outputs": [],
            "source": [
                "df.shape"
            ]
        },
        {
            "cell_type": "code",
            "execution_count": null,
            "metadata": {},
            "outputs": [],
            "source": [
                "cols = [\"SiteEnergyUseWN(kBtu)\", \"SiteEnergyUse(kBtu)\"]"
            ]
        },
        {
            "cell_type": "code",
            "execution_count": null,
            "metadata": {},
            "outputs": [],
            "source": [
                "for o in df.select_dtypes(\"object\"):\n",
                "    print(f\"{o:-<32} {df[o].unique()[:5]}\")"
            ]
        },
        {
            "cell_type": "code",
            "execution_count": null,
            "metadata": {},
            "outputs": [],
            "source": [
                "px.scatter(df[cols], x=cols[0], y=cols[1])"
            ]
        },
        {
            "cell_type": "code",
            "execution_count": null,
            "metadata": {},
            "outputs": [],
            "source": [
                "m = df[cols[1]].median()\n",
                "for i, (siteEnergyWN, siteEnergy) in enumerate(zip(df[cols[0]], df[cols[1]])):\n",
                "    if(siteEnergy - siteEnergyWN > m):\n",
                "        df.loc[df.index[i], cols[0]] =  df.loc[df.index[i], cols[1]]"
            ]
        },
        {
            "cell_type": "code",
            "execution_count": null,
            "metadata": {},
            "outputs": [],
            "source": [
                "px.scatter(df[cols], x=cols[0], y=cols[1])"
            ]
        },
        {
            "cell_type": "code",
            "execution_count": null,
            "metadata": {},
            "outputs": [],
            "source": [
                "df.Neighborhood.unique()"
            ]
        },
        {
            "cell_type": "code",
            "execution_count": null,
            "metadata": {},
            "outputs": [],
            "source": [
                "df.Neighborhood.replace({\"North\": \"NORTH\", \"Central\": \"CENTRAL\", \"Northwest\": \"NORTHWEST\",\n",
                "                        \"Delridge\": \"DELRIDGE\", \"Ballard\": \"BALLARD\",\n",
                "                        \"DELRIDGE NEIGHBORHOODS\": \"DELRIDGE\"}, \n",
                "                        inplace=True)\n",
                "df.Neighborhood.unique()"
            ]
        },
        {
            "cell_type": "code",
            "execution_count": null,
            "metadata": {},
            "outputs": [],
            "source": [
                "len(df.Neighborhood.unique())"
            ]
        },
        {
            "attachments": {},
            "cell_type": "markdown",
            "metadata": {},
            "source": [
                "## Analyse"
            ]
        },
        {
            "cell_type": "code",
            "execution_count": null,
            "metadata": {},
            "outputs": [],
            "source": [
                "def corr():\n",
                "    df[cols].corr()\n",
                "    plt.figure(figsize=(10,8))\n",
                "    sns.heatmap(df.corr())\n",
                "corr()"
            ]
        },
        {
            "cell_type": "code",
            "execution_count": null,
            "metadata": {},
            "outputs": [],
            "source": [
                "df.DefaultData.value_counts()"
            ]
        },
        {
            "cell_type": "code",
            "execution_count": null,
            "metadata": {},
            "outputs": [],
            "source": [
                "df = df.drop(columns=[\"DefaultData\"])\n",
                "corr()"
            ]
        },
        {
            "cell_type": "code",
            "execution_count": null,
            "metadata": {},
            "outputs": [],
            "source": [
                "for o in df.select_dtypes(\"object\"):\n",
                "    s = df[o].unique().size\n",
                "    if s > 20:\n",
                "        print(f\"{o} contains {s} different values\")\n",
                "    else:\n",
                "        plt.figure()\n",
                "        df[o].value_counts().plot.pie()"
            ]
        },
        {
            "cell_type": "code",
            "execution_count": null,
            "metadata": {},
            "outputs": [],
            "source": [
                "df.ComplianceStatus.unique()"
            ]
        },
        {
            "cell_type": "code",
            "execution_count": null,
            "metadata": {},
            "outputs": [],
            "source": [
                "df = df.drop(columns=\"ComplianceStatus\")"
            ]
        },
        {
            "cell_type": "code",
            "execution_count": null,
            "metadata": {},
            "outputs": [],
            "source": [
                "plt.title(\"ENERGYSTARScore distribution\")\n",
                "sns.histplot(df.ENERGYSTARScore, kde=True)"
            ]
        },
        {
            "cell_type": "code",
            "execution_count": null,
            "metadata": {},
            "outputs": [],
            "source": [
                "from sklearn.preprocessing import StandardScaler\n",
                "\n",
                "ns = df.select_dtypes(include=np.number)\n",
                "ns[ns.columns] = StandardScaler().fit_transform(ns)"
            ]
        },
        {
            "cell_type": "code",
            "execution_count": null,
            "metadata": {},
            "outputs": [],
            "source": [
                "ns.columns"
            ]
        },
        {
            "cell_type": "code",
            "execution_count": null,
            "metadata": {},
            "outputs": [],
            "source": [
                "from sklearn.preprocessing import StandardScaler\n",
                "\n",
                "def distrib_by(df, col):\n",
                "    lines = math.ceil((len(df.columns) - 1) / 5)\n",
                "    fig, axs = plt.subplots(lines, 5, figsize=(18,int(lines * 3)), constrained_layout=True)\n",
                "    fig.suptitle(f\"{col} distribution comparison\")\n",
                "    for i,n in enumerate(ns.drop(columns=col[0])):\n",
                "        ax = axs[i // 5, i % 5]\n",
                "        sns.histplot(df[[col[0], n]], kde=True, ax=ax)\n",
                "        ax.set_xlim(-3, 3)\n",
                "        ax.set_ylim(0, 150)\n",
                "        ax.set_title(f\"{n}\")\n",
                "\n",
                "distrib_by(ns, target_cols[0])"
            ]
        },
        {
            "cell_type": "code",
            "execution_count": null,
            "metadata": {},
            "outputs": [],
            "source": [
                "df[\"TotalGHGEmissions\"].isna().sum()"
            ]
        },
        {
            "cell_type": "code",
            "execution_count": null,
            "metadata": {},
            "outputs": [],
            "source": [
                "df[\"GHGEmissionsIntensity\"].isna().sum()"
            ]
        },
        {
            "cell_type": "code",
            "execution_count": null,
            "metadata": {},
            "outputs": [],
            "source": [
                "cols = [\"TotalGHGEmissions\", \"GHGEmissionsIntensity\"]\n",
                "df[cols] = df[cols].dropna()"
            ]
        },
        {
            "cell_type": "code",
            "execution_count": null,
            "metadata": {},
            "outputs": [],
            "source": [
                "px.scatter(df[cols], x=cols[0], y=cols[1])"
            ]
        },
        {
            "cell_type": "code",
            "execution_count": null,
            "metadata": {},
            "outputs": [],
            "source": [
                "df[df.TotalGHGEmissions > 4000]"
            ]
        },
        {
            "cell_type": "code",
            "execution_count": null,
            "metadata": {},
            "outputs": [],
            "source": [
                "def bivariate_analysis(cols):\n",
                "    df_analysis = df[cols]\n",
                "    lines = math.ceil((len(df_analysis.columns) - 1) / 4)\n",
                "    for c1 in df_analysis.columns:\n",
                "        fig, axs = plt.subplots(lines, 4, figsize=(18,int(lines * 3)), constrained_layout=True)\n",
                "        fig.suptitle(\"Bivariate analysis of %s\" % c1)\n",
                "        for i, c2 in enumerate(df_analysis.drop(columns=c1).columns):\n",
                "            ax = axs[int(i / 4), i % 4]\n",
                "            \n",
                "            ax.set_xlabel(c1)\n",
                "            ax.set_ylabel(c2)\n",
                "            data = df[[c1, c2]].dropna()\n",
                "            ax.scatter(data[c1], data[c2])\n",
                "\n",
                "bivariate_analysis([\"YearBuilt\", \"NumberofBuildings\", \"NumberofFloors\", \"PropertyGFATotal\", \"PropertyGFAParking\", \"PropertyGFABuilding(s)\", \n",
                "                \"LargestPropertyUseTypeGFA\", \"SiteEUIWN(kBtu/sf)\", \"SourceEUIWN(kBtu/sf)\", \"SiteEnergyUseWN(kBtu)\", \"SteamUse(kBtu)\",\n",
                "                \"Electricity(kBtu)\", \"NaturalGas(kBtu)\", \"TotalGHGEmissions\", \"GHGEmissionsIntensity\", \"ENERGYSTARScore\"])"
            ]
        },
        {
            "cell_type": "code",
            "execution_count": null,
            "metadata": {},
            "outputs": [],
            "source": [
                "df[df.NumberofBuildings > 10]"
            ]
        },
        {
            "cell_type": "code",
            "execution_count": null,
            "metadata": {},
            "outputs": [],
            "source": [
                "unique_years = np.sort(df.YearBuilt.unique())\n",
                "unique_years"
            ]
        },
        {
            "cell_type": "code",
            "execution_count": null,
            "metadata": {},
            "outputs": [],
            "source": [
                "year_range_min = min(unique_years)\n",
                "year_range_max = max(unique_years)\n",
                "year_range_min_10 = int(int(year_range_min / 10) * 10)\n",
                "year_range_max_10 = int(int(year_range_max / 10) * 10)\n",
                "year_range_bins = range(year_range_min_10, year_range_max_10 + 20, 10)\n",
                "year_range_labels = [\"{}-{}\".format(x, x+9) for x in range(year_range_min_10,year_range_max_10, 10)]\n",
                "year_range_labels.append(\"2010+\")\n",
                "\n",
                "df[\"YearBuiltRange\"] = pd.cut(df.YearBuilt,\n",
                "                            bins=year_range_bins,\n",
                "                            labels=year_range_labels)\n",
                "\n",
                "\n",
                "df[\"YearBuiltRange\"].value_counts().sort_index().plot(kind=\"bar\")\n",
                "df[[\"YearBuilt\",\"YearBuiltRange\"]].head()"
            ]
        },
        {
            "cell_type": "code",
            "execution_count": null,
            "metadata": {},
            "outputs": [],
            "source": [
                "(df.PropertyGFAParking + df[\"PropertyGFABuilding(s)\"] - df.PropertyGFATotal != 0).sum()"
            ]
        },
        {
            "cell_type": "markdown",
            "metadata": {},
            "source": [
                "## Sélection & Encodage"
            ]
        },
        {
            "cell_type": "code",
            "execution_count": null,
            "metadata": {},
            "outputs": [],
            "source": [
                "df"
            ]
        },
        {
            "cell_type": "code",
            "execution_count": null,
            "metadata": {},
            "outputs": [],
            "source": [
                "df.select_dtypes(include=[\"int64\", \"float64\"]).fillna(0, inplace=True)"
            ]
        },
        {
            "cell_type": "code",
            "execution_count": null,
            "metadata": {},
            "outputs": [],
            "source": [
                "keep = [\"YearBuiltRange\", \"Neighborhood\", \"NumberofBuildings\", \"NumberofFloors\", \"PropertyGFAParking\",\n",
                "        \"PropertyGFABuilding(s)\", \"SiteEUIWN(kBtu/sf)\", \"SourceEUIWN(kBtu/sf)\", \n",
                "        \"SiteEnergyUseWN(kBtu)\", \"SteamUse(kBtu)\", \"Electricity(kBtu)\", \"NaturalGas(kBtu)\", \"TotalGHGEmissions\", \n",
                "        \"GHGEmissionsIntensity\"]\n",
                "df[keep].to_csv(\"cleaned.csv\", index=False)"
            ]
        },
        {
            "cell_type": "code",
            "execution_count": null,
            "metadata": {},
            "outputs": [],
            "source": [
                "from sklearn.decomposition import PCA\n",
                "\n",
                "pca = PCA(0.99)"
            ]
        },
        {
            "cell_type": "code",
            "execution_count": null,
            "metadata": {},
            "outputs": [],
            "source": [
                "from sklearn.preprocessing import StandardScaler\n",
                "\n",
                "n = df[df.columns[df.isna().sum() == 0]].select_dtypes(include=np.number)\n",
                "n = StandardScaler().fit_transform(n)\n",
                "pca.fit(n)\n"
            ]
        },
        {
            "cell_type": "code",
            "execution_count": null,
            "metadata": {},
            "outputs": [],
            "source": [
                "n.shape"
            ]
        },
        {
            "cell_type": "code",
            "execution_count": null,
            "metadata": {},
            "outputs": [],
            "source": [
                "pca.n_components_"
            ]
        },
        {
            "cell_type": "code",
            "execution_count": null,
            "metadata": {},
            "outputs": [],
            "source": [
                "pca = PCA(n_components=2)\n",
                "pca.fit(n)\n",
                "t = pca.transform(n)\n",
                "sns.scatterplot(t)"
            ]
        }
    ],
    "metadata": {
        "kernelspec": {
            "display_name": "oc",
            "language": "python",
            "name": "python3"
        },
        "language_info": {
            "codemirror_mode": {
                "name": "ipython",
                "version": 3
            },
            "file_extension": ".py",
            "mimetype": "text/x-python",
            "name": "python",
            "nbconvert_exporter": "python",
            "pygments_lexer": "ipython3",
            "version": "3.10.6"
        },
        "orig_nbformat": 4,
        "vscode": {
            "interpreter": {
                "hash": "e297204aacfc4597d7d358135a658faf9a53ab85f698c95c4e6ba1d206a216bb"
            }
        }
    },
    "nbformat": 4,
    "nbformat_minor": 2
}
