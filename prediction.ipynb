{
 "cells": [
  {
   "attachments": {},
   "cell_type": "markdown",
   "metadata": {},
   "source": [
    "# Prédiction\n",
    "\n",
    "## Encodage\n",
    "\n",
    "- Utilisation du OneHotEncoding\n",
    "- Scaling de nos données continues\n",
    "\n",
    "## Sélection\n"
   ]
  },
  {
   "cell_type": "code",
   "execution_count": null,
   "metadata": {},
   "outputs": [],
   "source": [
    "import numpy as np\n",
    "import pandas as pd\n",
    "import matplotlib.pyplot as plt\n",
    "import seaborn as sns\n",
    "\n",
    "pd.set_option(\"display.max_colwidth\", None)\n",
    "\n",
    "data = pd.read_csv(\"cleaned.csv\")\n",
    "data.columns"
   ]
  },
  {
   "attachments": {},
   "cell_type": "markdown",
   "metadata": {},
   "source": [
    "# Itération 1\n"
   ]
  },
  {
   "cell_type": "code",
   "execution_count": null,
   "metadata": {},
   "outputs": [],
   "source": [
    "def get_df(\n",
    "    data,\n",
    "    drop=[\n",
    "        \"SecondLargestPropertyUseType\",\n",
    "        \"SecondLargestPropertyUseTypeGFA\",\n",
    "        \"ThirdLargestPropertyUseType\",\n",
    "        \"ThirdLargestPropertyUseTypeGFA\",\n",
    "        \"ENERGYSTARScore\",\n",
    "    ],\n",
    "):\n",
    "    df = data.copy()\n",
    "    df = df.drop(columns=drop)\n",
    "    return df\n",
    "\n",
    "\n",
    "df = get_df(data)\n"
   ]
  },
  {
   "cell_type": "code",
   "execution_count": null,
   "metadata": {},
   "outputs": [],
   "source": [
    "df.dtypes.value_counts()\n"
   ]
  },
  {
   "cell_type": "code",
   "execution_count": null,
   "metadata": {},
   "outputs": [],
   "source": [
    "df.select_dtypes(\"object\").head()\n"
   ]
  },
  {
   "cell_type": "code",
   "execution_count": null,
   "metadata": {},
   "outputs": [],
   "source": [
    "df.select_dtypes(np.number).head()\n"
   ]
  },
  {
   "cell_type": "code",
   "execution_count": null,
   "metadata": {},
   "outputs": [],
   "source": [
    "from sklearn.preprocessing import OneHotEncoder\n",
    "\n",
    "\n",
    "def encoding(df, cols):\n",
    "    ohes = []\n",
    "    for col in cols:\n",
    "        ohe = OneHotEncoder(sparse=False)\n",
    "        ohe.fit(df[col].unique().reshape(-1, 1))\n",
    "        t = ohe.transform(df[col].to_numpy().reshape(-1, 1))\n",
    "        ohes.append(ohe)\n",
    "        df_t = pd.DataFrame(t, columns=ohe.get_feature_names_out())\n",
    "        df = pd.concat([df, df_t], axis=1).drop(columns=col)\n",
    "    return df, ohe\n"
   ]
  },
  {
   "cell_type": "code",
   "execution_count": null,
   "metadata": {},
   "outputs": [],
   "source": [
    "from sklearn.preprocessing import StandardScaler\n",
    "from sklearn.model_selection import train_test_split\n",
    "\n",
    "\n",
    "def preprocessing(df, targets, encode_cols):\n",
    "    df, ohes = encoding(df, encode_cols)\n",
    "\n",
    "    target_splits = []\n",
    "    X = df.drop(columns=targets)\n",
    "    for target in targets:\n",
    "        y = df[target].values.ravel()\n",
    "\n",
    "        print(f\"Target {target} with {X.shape[1]} features ({y.shape[0]} lines)\")\n",
    "\n",
    "        X_train, X_test, y_train, y_test = train_test_split(X, y, test_size=0.3)\n",
    "\n",
    "        n_ohe_cols = df.columns[(~df.columns.isin(encode_cols)) & (~df.columns.isin(targets))]\n",
    "\n",
    "        sc = StandardScaler()\n",
    "        X_train[n_ohe_cols] = sc.fit_transform(X_train[n_ohe_cols])\n",
    "        X_test[n_ohe_cols] = sc.transform(X_test[n_ohe_cols])\n",
    "\n",
    "        target_splits.append([X_train, X_test, y_train, y_test])\n",
    "\n",
    "    return target_splits"
   ]
  },
  {
   "cell_type": "code",
   "execution_count": null,
   "metadata": {},
   "outputs": [],
   "source": [
    "targets = [\"TotalGHGEmissions\", \"SiteEnergyUse(kBtu)\"]\n",
    "ohe_cols = [\n",
    "    \"BuildingType\",\n",
    "    \"PrimaryPropertyType\",\n",
    "    \"Neighborhood\",\n",
    "    \"LargestPropertyUseType\",\n",
    "    \"YearBuiltRange\",\n",
    "    \"ZipCode\",\n",
    "    \"CouncilDistrictCode\",\n",
    "    \"NumberofBuildings\",\n",
    "    \"NumberofFloors\",\n",
    "]\n",
    "\n",
    "emissionTTS, energyTTS = preprocessing(df, targets, ohe_cols)\n",
    "\n",
    "for v in emissionTTS:\n",
    "    print(v.shape)"
   ]
  },
  {
   "cell_type": "code",
   "execution_count": null,
   "metadata": {},
   "outputs": [],
   "source": [
    "from sklearn.dummy import DummyRegressor\n",
    "from sklearn.metrics import mean_squared_error, median_absolute_error, r2_score\n",
    "from sklearn.model_selection import cross_val_score\n",
    "\n",
    "model = DummyRegressor()\n",
    "\n",
    "def evaluation(model, tts, verbose=0):\n",
    "    X_train, X_test, y_train, y_test = tts\n",
    "\n",
    "    r2 = cross_val_score(model, X_train, y_train, cv=5, scoring=\"r2\").mean()\n",
    "\n",
    "    if(verbose):\n",
    "        print(\" \"*7 + \" Validation set metrics\")\n",
    "        print(f\"{'R2': <6} : {r2:.4f}\")\n",
    "\n",
    "    model.fit(X_train, y_train)\n",
    "    y_pred = model.predict(X_test)\n",
    "\n",
    "    test_r2 = r2_score(y_test, y_pred)\n",
    "    if(verbose):\n",
    "        print(\" \"*7 + \" Test set metrics\")\n",
    "        print(f\"{'RMSE': <6} : {mean_squared_error(y_test, y_pred, squared=False):.2f}\")\n",
    "        print(f\"{'MAE': <6} : {median_absolute_error(y_test, y_pred):.2f}\")\n",
    "        print(f\"{'R2': <6} : {test_r2:.4f}\")\n",
    "    return r2, test_r2\n",
    "\n",
    "evaluation(model, emissionTTS, verbose=1);"
   ]
  },
  {
   "cell_type": "code",
   "execution_count": null,
   "metadata": {},
   "outputs": [],
   "source": [
    "from sklearn.neighbors import KNeighborsRegressor\n",
    "from sklearn.tree import DecisionTreeRegressor\n",
    "from sklearn.svm import SVR\n",
    "from sklearn.ensemble import (\n",
    "    RandomForestRegressor,\n",
    "    GradientBoostingRegressor,\n",
    "    BaggingRegressor,\n",
    ")\n",
    "from sklearn.linear_model import RidgeCV, LassoCV, Perceptron\n",
    "from tqdm import tqdm\n",
    "\n",
    "random_state = 1\n",
    "\n",
    "def compare_models(tts):\n",
    "    models = [\n",
    "        SVR(),\n",
    "        #Perceptron(alpha=0.0001, random_state=0, n_jobs=-1),\n",
    "        RidgeCV(alphas=np.arange(0.1, 10, 0.05)),\n",
    "        RandomForestRegressor(random_state=random_state),\n",
    "        GradientBoostingRegressor(random_state=random_state),\n",
    "        DecisionTreeRegressor(random_state=random_state),\n",
    "        KNeighborsRegressor(),\n",
    "        BaggingRegressor(n_estimators=100),\n",
    "        LassoCV(tol=0.01, random_state=random_state)\n",
    "    ]\n",
    "\n",
    "    metrics = pd.DataFrame(columns=[\"name\", \"val_r2\", \"test_r2\"])\n",
    "\n",
    "    for model in tqdm(models):\n",
    "        name = type(model).__name__\n",
    "        val_r2, test_r2 = evaluation(model,tts)\n",
    "        metrics.loc[len(metrics)] = {\"name\": name, \"val_r2\": val_r2, \"test_r2\": test_r2}\n",
    "\n",
    "    return metrics\n",
    "\n",
    "emission_metrics = compare_models(emissionTTS)\n",
    "emission_metrics"
   ]
  },
  {
   "cell_type": "code",
   "execution_count": null,
   "metadata": {},
   "outputs": [],
   "source": [
    "energy_metrics = compare_models(energyTTS)\n",
    "energy_metrics"
   ]
  },
  {
   "cell_type": "code",
   "execution_count": null,
   "metadata": {},
   "outputs": [],
   "source": [
    "def show_model_perfs(target_vals):\n",
    "    _, axs = plt.subplots(1, 2, figsize=(16,4))\n",
    "    for i, v_type in enumerate([\"val_r2\", \"test_r2\"]):\n",
    "        sns.scatterplot(data=target_vals[0], x=\"name\", y=v_type, ax=axs[i])\n",
    "        sns.scatterplot(data=target_vals[1], x=\"name\", y=v_type, ax=axs[i])\n",
    "        axs[i].set_xticklabels(energy_metrics.name, rotation=45, ha=\"right\")\n",
    "        axs[i].set_title(f\"Models {v_type} on targets\")\n",
    "        axs[i].legend(targets)\n",
    "    plt.show()\n",
    "\n",
    "show_model_perfs([emission_metrics, energy_metrics])"
   ]
  },
  {
   "cell_type": "code",
   "execution_count": null,
   "metadata": {},
   "outputs": [],
   "source": [
    "emission_metrics"
   ]
  },
  {
   "cell_type": "code",
   "execution_count": null,
   "metadata": {},
   "outputs": [],
   "source": [
    "emission_metrics.iloc[np.argmax(emission_metrics.mean(axis=1))]"
   ]
  },
  {
   "cell_type": "code",
   "execution_count": null,
   "metadata": {},
   "outputs": [],
   "source": [
    "# keeping best models\n",
    "target_models = [\n",
    "    RandomForestRegressor(random_state=random_state),\n",
    "    GradientBoostingRegressor(random_state=random_state)\n",
    "]\n",
    "\n",
    "target_tts_model = list(zip(targets, [emissionTTS, energyTTS], target_models))\n",
    "\n",
    "for target, tts, model in target_tts_model:\n",
    "    print(\"=\"*5 + f\"> {target}\")\n",
    "    # show r2's\n",
    "    evaluation(model, tts, verbose=True);"
   ]
  },
  {
   "attachments": {},
   "cell_type": "markdown",
   "metadata": {},
   "source": [
    "## Grid Search\n"
   ]
  },
  {
   "cell_type": "code",
   "execution_count": null,
   "metadata": {},
   "outputs": [],
   "source": [
    "from sklearn.model_selection import GridSearchCV\n",
    "\n",
    "def search_cv(model, tts, params):\n",
    "    X_train, _, y_train, __ = tts\n",
    "\n",
    "    cv = GridSearchCV(\n",
    "        model,\n",
    "        cv=5,\n",
    "        param_grid=params,\n",
    "        scoring=[\"r2\", \"neg_root_mean_squared_error\", \"neg_median_absolute_error\"],\n",
    "        n_jobs=-1,\n",
    "        refit=\"r2\",\n",
    "    )\n",
    "    cv.fit(X_train, y_train)\n",
    "    return cv\n",
    "\n",
    "cvs = []\n",
    "\n",
    "for _, tts, model, params in zip(*zip(*target_tts_model), [\n",
    "    {\n",
    "        \"criterion\": [\"squared_error\", \"absolute_error\"],\n",
    "        \"n_estimators\": range(50, 200, 50)\n",
    "    },\n",
    "    {\n",
    "        \"loss\": ['squared_error', 'absolute_error', 'huber', 'quantile'],\n",
    "        \"learning_rate\": np.arange(0.05, 0.2, 0.05),\n",
    "        \"n_estimators\": range(50, 200, 50)\n",
    "    }\n",
    "]):\n",
    "    cvs.append(search_cv(model, tts, params))"
   ]
  },
  {
   "cell_type": "code",
   "execution_count": null,
   "metadata": {},
   "outputs": [],
   "source": [
    "def df_from_cv(cv_res) -> pd.DataFrame:\n",
    "    cv_res = pd.DataFrame(cv_res)\n",
    "    result_cols = [\n",
    "        \"params\",\n",
    "        \"mean_test_r2\",\n",
    "        \"rank_test_r2\",\n",
    "        \"mean_test_neg_root_mean_squared_error\",\n",
    "        \"rank_test_neg_root_mean_squared_error\",\n",
    "        \"mean_test_neg_median_absolute_error\",\n",
    "        \"rank_test_neg_median_absolute_error\",\n",
    "    ]\n",
    "    rename = [\"params\", \"r2\", \"rank_r2\", \"RMSE\", \"rank_RMSE\", \"MAE\", \"rank_MAE\"]\n",
    "    cv_res = cv_res[result_cols]\n",
    "    cv_res = cv_res.rename(columns={o: n for o, n in zip(result_cols, rename)})\n",
    "    cv_res[\"RMSE\"] = -cv_res[\"RMSE\"]\n",
    "    cv_res[\"MAE\"] = -cv_res[\"MAE\"]\n",
    "    return cv_res.sort_values(by=\"rank_r2\")\n"
   ]
  },
  {
   "cell_type": "code",
   "execution_count": null,
   "metadata": {},
   "outputs": [],
   "source": [
    "for i, (target, __, model) in enumerate(target_tts_model):\n",
    "    name = type(model).__name__\n",
    "    print(\"=\" * 10 + f\" {target} - {name} \" + \"=\" * 10)\n",
    "    res = df_from_cv(cvs[i].cv_results_)\n",
    "    res = res[max(res[\"r2\"]) == res[\"r2\"]]\n",
    "    for c in [\"params\", \"r2\"]:\n",
    "        print(f\"{c:<20}\", res[c].values[0])"
   ]
  },
  {
   "cell_type": "code",
   "execution_count": null,
   "metadata": {},
   "outputs": [],
   "source": [
    "best_models = list(map(lambda cv: cv.best_estimator_, cvs))\n",
    "\n",
    "for target, tts, __, best_model in zip(*zip(*target_tts_model), best_models):\n",
    "    print(\"=\"*10, f\"{target} - {type(best_model).__name__}\")\n",
    "    evaluation(best_model, tts, verbose=1)"
   ]
  },
  {
   "cell_type": "code",
   "execution_count": null,
   "metadata": {},
   "outputs": [],
   "source": [
    "def errors(model, tts, mesure):\n",
    "    _, X_test, __, y_test = tts\n",
    "    y_pred = model.predict(X_test)\n",
    "    abs_err = np.abs(y_pred - y_test)\n",
    "\n",
    "    y_err_kg = abs_err.mean() * 1000\n",
    "\n",
    "    print(f\"Model has errors around +-{y_err_kg:.0f} {mesure}\")\n",
    "\n",
    "\n",
    "for target, tts, __, best_model, mesure in zip(*zip(*target_tts_model), best_models, [\"kg of CO2 / year\", \"kBtu / year\"]):\n",
    "    print(\"=\"*5, target)\n",
    "    errors(best_model, tts, mesure)"
   ]
  },
  {
   "attachments": {},
   "cell_type": "markdown",
   "metadata": {},
   "source": [
    "Make a pipeline to do the same process again later"
   ]
  },
  {
   "cell_type": "code",
   "execution_count": null,
   "metadata": {},
   "outputs": [],
   "source": [
    "def model_selection_pipeline(df, targets, ohe_cols):\n",
    "    ttss = preprocessing(df, targets, ohe_cols)\n",
    "\n",
    "    dfs = []\n",
    "    for target, tts in zip(targets, ttss):\n",
    "        print(f\"Training for target {target}\")\n",
    "        dfs.append(compare_models(tts))\n",
    "    \n",
    "    show_model_perfs(dfs)\n",
    "\n",
    "    best_models = []\n",
    "    for df in dfs:\n",
    "        best_models.append(df.iloc[np.argmax(df.mean(axis=1))])\n",
    "\n",
    "    df = pd.DataFrame(best_models).reset_index(drop=True)\n",
    "    df[\"target\"] = targets\n",
    "    return df, ttss\n",
    "\n",
    "model_selection_pipeline(df, targets, [\n",
    "    \"BuildingType\",\n",
    "    \"PrimaryPropertyType\",\n",
    "    \"Neighborhood\",\n",
    "    \"LargestPropertyUseType\",\n",
    "    \"YearBuiltRange\",\n",
    "    \"ZipCode\",\n",
    "    \"CouncilDistrictCode\",\n",
    "    \"NumberofBuildings\",\n",
    "    \"NumberofFloors\",\n",
    "])[0]"
   ]
  },
  {
   "cell_type": "code",
   "execution_count": null,
   "metadata": {},
   "outputs": [],
   "source": [
    "def search_cv_results(model, tts, params, target):\n",
    "    cv = search_cv(model, tts, params)\n",
    "    name = type(model).__name__\n",
    "    print(\"=\" * 10 + f\" {target} - {name} \" + \"=\" * 10)\n",
    "    res = df_from_cv(cv.cv_results_)\n",
    "    res = res[max(res[\"r2\"]) == res[\"r2\"]]\n",
    "    for c in [\"params\", \"r2\"]:\n",
    "        print(f\"{c:<20}\", res[c].values[0])\n",
    "    return cv.best_estimator_"
   ]
  },
  {
   "attachments": {},
   "cell_type": "markdown",
   "metadata": {},
   "source": [
    "# Itération 2\n",
    "\n",
    "## Feature selection\n"
   ]
  },
  {
   "cell_type": "code",
   "execution_count": null,
   "metadata": {},
   "outputs": [],
   "source": [
    "for i, target in enumerate(targets):\n",
    "    plt.figure(figsize=(10,30))\n",
    "    plt.barh(emissionTTS[0].columns, best_models[i].feature_importances_)\n",
    "    plt.title(f\"Feature importance for {target}\")\n",
    "    plt.show()"
   ]
  },
  {
   "attachments": {},
   "cell_type": "markdown",
   "metadata": {},
   "source": [
    "Certaines variables n'apporte pas beaucoup à notre modèle. On peut ainsi effectuer une réduction de dimension ce qui aura pour effet d'aider le modèle à apprendre sur des données plus cohérentes et également de réduire le temps d'entrainement."
   ]
  },
  {
   "cell_type": "code",
   "execution_count": null,
   "metadata": {},
   "outputs": [],
   "source": [
    "drop = [\"Neighborhood\", \"CouncilDistrictCode\", \"ZipCode\", \"PrimaryPropertyType\", \"BuildingType\", \"Latitude\", \"Longitude\", \"GHGEmissionsIntensity\",\"SecondLargestPropertyUseType\", \"SecondLargestPropertyUseTypeGFA\", \"ThirdLargestPropertyUseType\", \"ThirdLargestPropertyUseTypeGFA\", \"ENERGYSTARScore\"]\n",
    "drop = [\"ENERGYSTARScore\"]\n",
    "df = get_df(data, drop=drop)\n",
    "df.head()"
   ]
  },
  {
   "cell_type": "code",
   "execution_count": null,
   "metadata": {},
   "outputs": [],
   "source": [
    "ohe_cols = np.concatenate([ohe_cols, [\"SecondLargestPropertyUseType\", \"ThirdLargestPropertyUseType\"]])"
   ]
  },
  {
   "cell_type": "code",
   "execution_count": null,
   "metadata": {},
   "outputs": [],
   "source": [
    "ohe_cols = np.array(ohe_cols)"
   ]
  },
  {
   "cell_type": "code",
   "execution_count": null,
   "metadata": {},
   "outputs": [],
   "source": [
    "ohe_cols"
   ]
  },
  {
   "cell_type": "code",
   "execution_count": null,
   "metadata": {},
   "outputs": [],
   "source": [
    "dfs, ttss = model_selection_pipeline(df, targets, ohe_cols[~np.isin(ohe_cols, drop)])\n",
    "dfs"
   ]
  },
  {
   "attachments": {},
   "cell_type": "markdown",
   "metadata": {},
   "source": [
    "GradientBoosting seems to be the way to go for the 2 features !"
   ]
  },
  {
   "cell_type": "code",
   "execution_count": null,
   "metadata": {},
   "outputs": [],
   "source": [
    "model = GradientBoostingRegressor(random_state=0)\n",
    "params = {\n",
    "    \"loss\": ['squared_error', 'absolute_error', 'huber'],\n",
    "    \"n_estimators\": range(100, 300, 100),\n",
    "    \"criterion\": ['friedman_mse', 'squared_error']\n",
    "}\n",
    "\n",
    "best_models = []\n",
    "for tts, target in zip(ttss, targets):\n",
    "    best_models.append(search_cv_results(model, tts, params, target))"
   ]
  },
  {
   "cell_type": "code",
   "execution_count": null,
   "metadata": {},
   "outputs": [],
   "source": [
    "for i, target in enumerate(targets):\n",
    "    plt.figure(figsize=(10,30))\n",
    "    plt.barh(tts[0].columns, best_models[i].feature_importances_)\n",
    "    plt.title(f\"Feature importance for {target}\")\n",
    "    plt.show()"
   ]
  }
 ],
 "metadata": {
  "kernelspec": {
   "display_name": "oc",
   "language": "python",
   "name": "python3"
  },
  "language_info": {
   "codemirror_mode": {
    "name": "ipython",
    "version": 3
   },
   "file_extension": ".py",
   "mimetype": "text/x-python",
   "name": "python",
   "nbconvert_exporter": "python",
   "pygments_lexer": "ipython3",
   "version": "3.10.6"
  },
  "orig_nbformat": 4,
  "vscode": {
   "interpreter": {
    "hash": "e297204aacfc4597d7d358135a658faf9a53ab85f698c95c4e6ba1d206a216bb"
   }
  }
 },
 "nbformat": 4,
 "nbformat_minor": 2
}
